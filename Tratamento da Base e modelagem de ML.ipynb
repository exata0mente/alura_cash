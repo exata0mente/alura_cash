{
 "cells": [
  {
   "cell_type": "markdown",
   "id": "11fa0e5a",
   "metadata": {},
   "source": [
    "# Criando modelo de Machine Learning"
   ]
  },
  {
   "cell_type": "markdown",
   "id": "90b43f10",
   "metadata": {},
   "source": [
    "## Carregamento dos pacotes iniciais"
   ]
  },
  {
   "cell_type": "markdown",
   "id": "6e9752ad",
   "metadata": {},
   "source": [
    "Apesar de ter exportado um arquivo CSV, vou consultar diretamente o banco de dados para melhorar meu conhecimento"
   ]
  },
  {
   "cell_type": "code",
   "execution_count": 2,
   "id": "dfef74f4",
   "metadata": {},
   "outputs": [],
   "source": [
    "#!pip install mysql-connector-python\n",
    "#!pip install pyyaml"
   ]
  },
  {
   "cell_type": "code",
   "execution_count": 3,
   "id": "069c321a",
   "metadata": {},
   "outputs": [],
   "source": [
    "import pandas as pd\n",
    "import numpy as np\n",
    "from mysql.connector import connect, Error\n",
    "import yaml"
   ]
  },
  {
   "cell_type": "markdown",
   "id": "af973789",
   "metadata": {},
   "source": [
    "## Definição e conexão"
   ]
  },
  {
   "cell_type": "markdown",
   "id": "ce596877",
   "metadata": {},
   "source": [
    "Vou usar a leitura de um arquivo yaml apesar de não ser boa prática armazenar senhas em arquivos estáticos"
   ]
  },
  {
   "cell_type": "code",
   "execution_count": 5,
   "id": "40475b73",
   "metadata": {},
   "outputs": [],
   "source": [
    "with open('login.yml', 'r') as l:\n",
    "    acesso_yml=yaml.safe_load(l)\n",
    "\n",
    "conn = connect(**acesso_yml)"
   ]
  },
  {
   "cell_type": "code",
   "execution_count": 6,
   "id": "ae5e780b",
   "metadata": {},
   "outputs": [
    {
     "data": {
      "text/html": [
       "<div>\n",
       "<style scoped>\n",
       "    .dataframe tbody tr th:only-of-type {\n",
       "        vertical-align: middle;\n",
       "    }\n",
       "\n",
       "    .dataframe tbody tr th {\n",
       "        vertical-align: top;\n",
       "    }\n",
       "\n",
       "    .dataframe thead th {\n",
       "        text-align: right;\n",
       "    }\n",
       "</style>\n",
       "<table border=\"1\" class=\"dataframe\">\n",
       "  <thead>\n",
       "    <tr style=\"text-align: right;\">\n",
       "      <th></th>\n",
       "      <th>id_solicitante</th>\n",
       "      <th>id_emprestimo</th>\n",
       "      <th>id_historico</th>\n",
       "      <th>idade_solicitante</th>\n",
       "      <th>salario_solicitante</th>\n",
       "      <th>situacao_propriedade</th>\n",
       "      <th>tempo_trabalhado</th>\n",
       "      <th>motivo</th>\n",
       "      <th>pontuacao</th>\n",
       "      <th>valor_solicitado</th>\n",
       "      <th>taxa_juros</th>\n",
       "      <th>percentual_renda</th>\n",
       "      <th>flag_inadimplencia</th>\n",
       "      <th>anos_primeira_solicitacao</th>\n",
       "      <th>flag_inadimplencia_hist</th>\n",
       "    </tr>\n",
       "  </thead>\n",
       "  <tbody>\n",
       "    <tr>\n",
       "      <th>0</th>\n",
       "      <td>02x9biGh-3gTR</td>\n",
       "      <td>k9lhNtMp-72zH</td>\n",
       "      <td>6EM4uoS2-maX2</td>\n",
       "      <td>23.0</td>\n",
       "      <td>68000.0</td>\n",
       "      <td>Alugada</td>\n",
       "      <td>1.0</td>\n",
       "      <td>Empreendimento</td>\n",
       "      <td>E</td>\n",
       "      <td>14400.0</td>\n",
       "      <td>17.99</td>\n",
       "      <td>0.21</td>\n",
       "      <td>1.0</td>\n",
       "      <td>2</td>\n",
       "      <td>0</td>\n",
       "    </tr>\n",
       "    <tr>\n",
       "      <th>1</th>\n",
       "      <td>05AU2u3q-jNEJ</td>\n",
       "      <td>2jgsNDsK-S45I</td>\n",
       "      <td>2nr9qAH9-x2vh</td>\n",
       "      <td>25.0</td>\n",
       "      <td>45000.0</td>\n",
       "      <td>Alugada</td>\n",
       "      <td>0.0</td>\n",
       "      <td>Empreendimento</td>\n",
       "      <td>C</td>\n",
       "      <td>10000.0</td>\n",
       "      <td>12.98</td>\n",
       "      <td>0.22</td>\n",
       "      <td>0.0</td>\n",
       "      <td>2</td>\n",
       "      <td>1</td>\n",
       "    </tr>\n",
       "    <tr>\n",
       "      <th>2</th>\n",
       "      <td>05o7RxO7-9LhQ</td>\n",
       "      <td>G7ebJZJb-6GDu</td>\n",
       "      <td>1zlTwsfS-0pan</td>\n",
       "      <td>23.0</td>\n",
       "      <td>65000.0</td>\n",
       "      <td>Alugada</td>\n",
       "      <td>2.0</td>\n",
       "      <td>Pagamento de débitos</td>\n",
       "      <td>B</td>\n",
       "      <td>3600.0</td>\n",
       "      <td>11.49</td>\n",
       "      <td>0.06</td>\n",
       "      <td>0.0</td>\n",
       "      <td>2</td>\n",
       "      <td>0</td>\n",
       "    </tr>\n",
       "    <tr>\n",
       "      <th>3</th>\n",
       "      <td>08rX5Qdc-ufb0</td>\n",
       "      <td>0sFrQD5Y-agj2</td>\n",
       "      <td>6rafzTfN-8awI</td>\n",
       "      <td>23.0</td>\n",
       "      <td>45312.0</td>\n",
       "      <td>Alugada</td>\n",
       "      <td>3.0</td>\n",
       "      <td>Educativo</td>\n",
       "      <td>A</td>\n",
       "      <td>13500.0</td>\n",
       "      <td>7.88</td>\n",
       "      <td>0.30</td>\n",
       "      <td>0.0</td>\n",
       "      <td>3</td>\n",
       "      <td>0</td>\n",
       "    </tr>\n",
       "    <tr>\n",
       "      <th>4</th>\n",
       "      <td>095kmLry-GPTX</td>\n",
       "      <td>eIoa76FA-d0FH</td>\n",
       "      <td>3ph8dE3U-L5I7</td>\n",
       "      <td>22.0</td>\n",
       "      <td>64000.0</td>\n",
       "      <td>Alugada</td>\n",
       "      <td>6.0</td>\n",
       "      <td>Educativo</td>\n",
       "      <td>A</td>\n",
       "      <td>7000.0</td>\n",
       "      <td>5.79</td>\n",
       "      <td>0.11</td>\n",
       "      <td>0.0</td>\n",
       "      <td>3</td>\n",
       "      <td>0</td>\n",
       "    </tr>\n",
       "  </tbody>\n",
       "</table>\n",
       "</div>"
      ],
      "text/plain": [
       "  id_solicitante  id_emprestimo   id_historico  idade_solicitante  \\\n",
       "0  02x9biGh-3gTR  k9lhNtMp-72zH  6EM4uoS2-maX2               23.0   \n",
       "1  05AU2u3q-jNEJ  2jgsNDsK-S45I  2nr9qAH9-x2vh               25.0   \n",
       "2  05o7RxO7-9LhQ  G7ebJZJb-6GDu  1zlTwsfS-0pan               23.0   \n",
       "3  08rX5Qdc-ufb0  0sFrQD5Y-agj2  6rafzTfN-8awI               23.0   \n",
       "4  095kmLry-GPTX  eIoa76FA-d0FH  3ph8dE3U-L5I7               22.0   \n",
       "\n",
       "   salario_solicitante situacao_propriedade  tempo_trabalhado  \\\n",
       "0              68000.0              Alugada               1.0   \n",
       "1              45000.0              Alugada               0.0   \n",
       "2              65000.0              Alugada               2.0   \n",
       "3              45312.0              Alugada               3.0   \n",
       "4              64000.0              Alugada               6.0   \n",
       "\n",
       "                 motivo pontuacao  valor_solicitado  taxa_juros  \\\n",
       "0        Empreendimento         E           14400.0       17.99   \n",
       "1        Empreendimento         C           10000.0       12.98   \n",
       "2  Pagamento de débitos         B            3600.0       11.49   \n",
       "3             Educativo         A           13500.0        7.88   \n",
       "4             Educativo         A            7000.0        5.79   \n",
       "\n",
       "   percentual_renda  flag_inadimplencia  anos_primeira_solicitacao  \\\n",
       "0              0.21                 1.0                          2   \n",
       "1              0.22                 0.0                          2   \n",
       "2              0.06                 0.0                          2   \n",
       "3              0.30                 0.0                          3   \n",
       "4              0.11                 0.0                          3   \n",
       "\n",
       "  flag_inadimplencia_hist  \n",
       "0                       0  \n",
       "1                       1  \n",
       "2                       0  \n",
       "3                       0  \n",
       "4                       0  "
      ]
     },
     "execution_count": 6,
     "metadata": {},
     "output_type": "execute_result"
    }
   ],
   "source": [
    "base_estudo = pd.read_sql(sql=\"select * from analise_risco.base_emprestimo_analise\", con = conn)\n",
    "conn.close()\n",
    "base_estudo.head()"
   ]
  },
  {
   "cell_type": "code",
   "execution_count": 9,
   "id": "c18497ce",
   "metadata": {},
   "outputs": [
    {
     "name": "stdout",
     "output_type": "stream",
     "text": [
      "A base de estudo possui 34485 registros e 15 colunas.\n"
     ]
    }
   ],
   "source": [
    "print('A base de estudo possui {} registros e {} colunas.'.format(base_estudo.shape[0] ,base_estudo.shape[1]))"
   ]
  },
  {
   "cell_type": "code",
   "execution_count": 10,
   "id": "1a09eef7",
   "metadata": {},
   "outputs": [
    {
     "name": "stdout",
     "output_type": "stream",
     "text": [
      "<class 'pandas.core.frame.DataFrame'>\n",
      "RangeIndex: 34485 entries, 0 to 34484\n",
      "Data columns (total 15 columns):\n",
      " #   Column                     Non-Null Count  Dtype  \n",
      "---  ------                     --------------  -----  \n",
      " 0   id_solicitante             34485 non-null  object \n",
      " 1   id_emprestimo              34485 non-null  object \n",
      " 2   id_historico               34485 non-null  object \n",
      " 3   idade_solicitante          34165 non-null  float64\n",
      " 4   salario_solicitante        34150 non-null  float64\n",
      " 5   situacao_propriedade       34485 non-null  object \n",
      " 6   tempo_trabalhado           33231 non-null  float64\n",
      " 7   motivo                     34485 non-null  object \n",
      " 8   pontuacao                  34485 non-null  object \n",
      " 9   valor_solicitado           34154 non-null  float64\n",
      " 10  taxa_juros                 30859 non-null  float64\n",
      " 11  percentual_renda           34170 non-null  float64\n",
      " 12  flag_inadimplencia         34142 non-null  float64\n",
      " 13  anos_primeira_solicitacao  34485 non-null  int64  \n",
      " 14  flag_inadimplencia_hist    34485 non-null  object \n",
      "dtypes: float64(7), int64(1), object(7)\n",
      "memory usage: 3.9+ MB\n"
     ]
    }
   ],
   "source": [
    "base_estudo.info()"
   ]
  },
  {
   "cell_type": "markdown",
   "id": "10f02a6f",
   "metadata": {},
   "source": [
    "É possível identificar que temos variáveis com dados nulos"
   ]
  },
  {
   "cell_type": "code",
   "execution_count": 11,
   "id": "1370e5cd",
   "metadata": {},
   "outputs": [
    {
     "data": {
      "text/html": [
       "<div>\n",
       "<style scoped>\n",
       "    .dataframe tbody tr th:only-of-type {\n",
       "        vertical-align: middle;\n",
       "    }\n",
       "\n",
       "    .dataframe tbody tr th {\n",
       "        vertical-align: top;\n",
       "    }\n",
       "\n",
       "    .dataframe thead th {\n",
       "        text-align: right;\n",
       "    }\n",
       "</style>\n",
       "<table border=\"1\" class=\"dataframe\">\n",
       "  <thead>\n",
       "    <tr style=\"text-align: right;\">\n",
       "      <th></th>\n",
       "      <th>idade_solicitante</th>\n",
       "      <th>salario_solicitante</th>\n",
       "      <th>tempo_trabalhado</th>\n",
       "      <th>valor_solicitado</th>\n",
       "      <th>taxa_juros</th>\n",
       "      <th>percentual_renda</th>\n",
       "      <th>flag_inadimplencia</th>\n",
       "      <th>anos_primeira_solicitacao</th>\n",
       "    </tr>\n",
       "  </thead>\n",
       "  <tbody>\n",
       "    <tr>\n",
       "      <th>count</th>\n",
       "      <td>34165.000000</td>\n",
       "      <td>3.415000e+04</td>\n",
       "      <td>33231.000000</td>\n",
       "      <td>34154.000000</td>\n",
       "      <td>30859.000000</td>\n",
       "      <td>34170.000000</td>\n",
       "      <td>34142.000000</td>\n",
       "      <td>34485.000000</td>\n",
       "    </tr>\n",
       "    <tr>\n",
       "      <th>mean</th>\n",
       "      <td>27.730806</td>\n",
       "      <td>6.602318e+04</td>\n",
       "      <td>4.788089</td>\n",
       "      <td>9590.560403</td>\n",
       "      <td>11.012929</td>\n",
       "      <td>0.170229</td>\n",
       "      <td>0.218177</td>\n",
       "      <td>5.808583</td>\n",
       "    </tr>\n",
       "    <tr>\n",
       "      <th>std</th>\n",
       "      <td>6.346158</td>\n",
       "      <td>6.141127e+04</td>\n",
       "      <td>4.138156</td>\n",
       "      <td>6321.217451</td>\n",
       "      <td>3.240293</td>\n",
       "      <td>0.106791</td>\n",
       "      <td>0.413014</td>\n",
       "      <td>4.063816</td>\n",
       "    </tr>\n",
       "    <tr>\n",
       "      <th>min</th>\n",
       "      <td>20.000000</td>\n",
       "      <td>4.000000e+03</td>\n",
       "      <td>0.000000</td>\n",
       "      <td>500.000000</td>\n",
       "      <td>5.420000</td>\n",
       "      <td>0.000000</td>\n",
       "      <td>0.000000</td>\n",
       "      <td>2.000000</td>\n",
       "    </tr>\n",
       "    <tr>\n",
       "      <th>25%</th>\n",
       "      <td>23.000000</td>\n",
       "      <td>3.849600e+04</td>\n",
       "      <td>2.000000</td>\n",
       "      <td>5000.000000</td>\n",
       "      <td>7.900000</td>\n",
       "      <td>0.090000</td>\n",
       "      <td>0.000000</td>\n",
       "      <td>3.000000</td>\n",
       "    </tr>\n",
       "    <tr>\n",
       "      <th>50%</th>\n",
       "      <td>26.000000</td>\n",
       "      <td>5.500000e+04</td>\n",
       "      <td>4.000000</td>\n",
       "      <td>8000.000000</td>\n",
       "      <td>10.990000</td>\n",
       "      <td>0.150000</td>\n",
       "      <td>0.000000</td>\n",
       "      <td>4.000000</td>\n",
       "    </tr>\n",
       "    <tr>\n",
       "      <th>75%</th>\n",
       "      <td>30.000000</td>\n",
       "      <td>7.910000e+04</td>\n",
       "      <td>7.000000</td>\n",
       "      <td>12200.000000</td>\n",
       "      <td>13.470000</td>\n",
       "      <td>0.230000</td>\n",
       "      <td>0.000000</td>\n",
       "      <td>8.000000</td>\n",
       "    </tr>\n",
       "    <tr>\n",
       "      <th>max</th>\n",
       "      <td>144.000000</td>\n",
       "      <td>6.000000e+06</td>\n",
       "      <td>123.000000</td>\n",
       "      <td>35000.000000</td>\n",
       "      <td>23.220000</td>\n",
       "      <td>0.830000</td>\n",
       "      <td>1.000000</td>\n",
       "      <td>30.000000</td>\n",
       "    </tr>\n",
       "  </tbody>\n",
       "</table>\n",
       "</div>"
      ],
      "text/plain": [
       "       idade_solicitante  salario_solicitante  tempo_trabalhado  \\\n",
       "count       34165.000000         3.415000e+04      33231.000000   \n",
       "mean           27.730806         6.602318e+04          4.788089   \n",
       "std             6.346158         6.141127e+04          4.138156   \n",
       "min            20.000000         4.000000e+03          0.000000   \n",
       "25%            23.000000         3.849600e+04          2.000000   \n",
       "50%            26.000000         5.500000e+04          4.000000   \n",
       "75%            30.000000         7.910000e+04          7.000000   \n",
       "max           144.000000         6.000000e+06        123.000000   \n",
       "\n",
       "       valor_solicitado    taxa_juros  percentual_renda  flag_inadimplencia  \\\n",
       "count      34154.000000  30859.000000      34170.000000        34142.000000   \n",
       "mean        9590.560403     11.012929          0.170229            0.218177   \n",
       "std         6321.217451      3.240293          0.106791            0.413014   \n",
       "min          500.000000      5.420000          0.000000            0.000000   \n",
       "25%         5000.000000      7.900000          0.090000            0.000000   \n",
       "50%         8000.000000     10.990000          0.150000            0.000000   \n",
       "75%        12200.000000     13.470000          0.230000            0.000000   \n",
       "max        35000.000000     23.220000          0.830000            1.000000   \n",
       "\n",
       "       anos_primeira_solicitacao  \n",
       "count               34485.000000  \n",
       "mean                    5.808583  \n",
       "std                     4.063816  \n",
       "min                     2.000000  \n",
       "25%                     3.000000  \n",
       "50%                     4.000000  \n",
       "75%                     8.000000  \n",
       "max                    30.000000  "
      ]
     },
     "execution_count": 11,
     "metadata": {},
     "output_type": "execute_result"
    }
   ],
   "source": [
    "base_estudo.describe()"
   ]
  },
  {
   "cell_type": "code",
   "execution_count": 12,
   "id": "77c83ac9",
   "metadata": {
    "scrolled": true
   },
   "outputs": [
    {
     "data": {
      "text/plain": [
       "id_solicitante                  0\n",
       "id_emprestimo                   0\n",
       "id_historico                    0\n",
       "idade_solicitante             320\n",
       "salario_solicitante           335\n",
       "situacao_propriedade            0\n",
       "tempo_trabalhado             1254\n",
       "motivo                          0\n",
       "pontuacao                       0\n",
       "valor_solicitado              331\n",
       "taxa_juros                   3626\n",
       "percentual_renda              315\n",
       "flag_inadimplencia            343\n",
       "anos_primeira_solicitacao       0\n",
       "flag_inadimplencia_hist         0\n",
       "dtype: int64"
      ]
     },
     "execution_count": 12,
     "metadata": {},
     "output_type": "execute_result"
    }
   ],
   "source": [
    "base_estudo.isnull().sum()"
   ]
  },
  {
   "cell_type": "code",
   "execution_count": 13,
   "id": "bd595eb7",
   "metadata": {},
   "outputs": [
    {
     "data": {
      "text/plain": [
       "oScmHoAX-q5al    1\n",
       "hKuP3Hbo-7lLH    1\n",
       "Q7Il6hv1-xk0j    1\n",
       "5jDP00sy-DPwY    1\n",
       "z0dWKrxi-8KzA    1\n",
       "                ..\n",
       "o0TtX2wL-LRpA    1\n",
       "BJbrUv7U-xluj    1\n",
       "eA9W3YuH-fDCP    1\n",
       "ySfru1bt-tP1r    1\n",
       "GCTL50TW-UdK0    1\n",
       "Name: id_solicitante, Length: 34485, dtype: int64"
      ]
     },
     "execution_count": 13,
     "metadata": {},
     "output_type": "execute_result"
    }
   ],
   "source": [
    "base_estudo.id_solicitante.value_counts()"
   ]
  },
  {
   "cell_type": "markdown",
   "id": "22398834",
   "metadata": {},
   "source": [
    "## Tratamento de dados nulos e análise de outliers"
   ]
  },
  {
   "cell_type": "code",
   "execution_count": 14,
   "id": "146b0fd0",
   "metadata": {},
   "outputs": [],
   "source": [
    "import seaborn as sns"
   ]
  },
  {
   "cell_type": "markdown",
   "id": "f9080f12",
   "metadata": {},
   "source": [
    "Vou deixar a `base_estudo` como dados brutos e farei todas as limpezas e análises em cima da `base_tratada`"
   ]
  },
  {
   "cell_type": "code",
   "execution_count": 15,
   "id": "654c9a2e",
   "metadata": {},
   "outputs": [],
   "source": [
    "base_tratada = base_estudo.set_index('id_solicitante').drop(columns=['id_emprestimo', 'id_historico'])"
   ]
  },
  {
   "cell_type": "code",
   "execution_count": 16,
   "id": "1c3e4ab9",
   "metadata": {},
   "outputs": [
    {
     "data": {
      "text/plain": [
       "Index(['idade_solicitante', 'salario_solicitante', 'situacao_propriedade',\n",
       "       'tempo_trabalhado', 'motivo', 'pontuacao', 'valor_solicitado',\n",
       "       'taxa_juros', 'percentual_renda', 'flag_inadimplencia',\n",
       "       'anos_primeira_solicitacao', 'flag_inadimplencia_hist'],\n",
       "      dtype='object')"
      ]
     },
     "execution_count": 16,
     "metadata": {},
     "output_type": "execute_result"
    }
   ],
   "source": [
    "base_tratada.columns"
   ]
  },
  {
   "cell_type": "markdown",
   "id": "299035d7",
   "metadata": {},
   "source": [
    "### Idade solicitante"
   ]
  },
  {
   "cell_type": "markdown",
   "id": "2451b0c3",
   "metadata": {},
   "source": [
    "De acordo com o dicionário de dados, este é o campo com a idade (em anos) do solicitante de empréstimo"
   ]
  },
  {
   "cell_type": "code",
   "execution_count": 17,
   "id": "86d30cf9",
   "metadata": {},
   "outputs": [
    {
     "data": {
      "text/plain": [
       "320"
      ]
     },
     "execution_count": 17,
     "metadata": {},
     "output_type": "execute_result"
    }
   ],
   "source": [
    "base_tratada.idade_solicitante.isnull().sum()"
   ]
  },
  {
   "cell_type": "code",
   "execution_count": 18,
   "id": "5d42ad5d",
   "metadata": {},
   "outputs": [
    {
     "data": {
      "text/plain": [
       "count    34165.000000\n",
       "mean        27.730806\n",
       "std          6.346158\n",
       "min         20.000000\n",
       "25%         23.000000\n",
       "50%         26.000000\n",
       "75%         30.000000\n",
       "max        144.000000\n",
       "Name: idade_solicitante, dtype: float64"
      ]
     },
     "execution_count": 18,
     "metadata": {},
     "output_type": "execute_result"
    }
   ],
   "source": [
    "base_tratada.idade_solicitante.describe()"
   ]
  },
  {
   "cell_type": "code",
   "execution_count": 19,
   "id": "4dd2bdce",
   "metadata": {},
   "outputs": [
    {
     "data": {
      "text/plain": [
       "<AxesSubplot:ylabel='idade_solicitante'>"
      ]
     },
     "execution_count": 19,
     "metadata": {},
     "output_type": "execute_result"
    },
    {
     "data": {
      "image/png": "[encoded data removed]",
      "text/plain": [
       "<Figure size 432x288 with 1 Axes>"
      ]
     },
     "metadata": {
      "needs_background": "light"
     },
     "output_type": "display_data"
    }
   ],
   "source": [
    "sns.boxplot(data=base_tratada, y='idade_solicitante')"
   ]
  },
  {
   "cell_type": "markdown",
   "id": "e0448347",
   "metadata": {},
   "source": [
    "Decido então estabelecer o limite de idade em 80. Acima disso retirarei deste estudo."
   ]
  },
  {
   "cell_type": "code",
   "execution_count": 20,
   "id": "688bcc93",
   "metadata": {},
   "outputs": [
    {
     "data": {
      "text/html": [
       "<div>\n",
       "<style scoped>\n",
       "    .dataframe tbody tr th:only-of-type {\n",
       "        vertical-align: middle;\n",
       "    }\n",
       "\n",
       "    .dataframe tbody tr th {\n",
       "        vertical-align: top;\n",
       "    }\n",
       "\n",
       "    .dataframe thead th {\n",
       "        text-align: right;\n",
       "    }\n",
       "</style>\n",
       "<table border=\"1\" class=\"dataframe\">\n",
       "  <thead>\n",
       "    <tr style=\"text-align: right;\">\n",
       "      <th></th>\n",
       "      <th>idade_solicitante</th>\n",
       "      <th>salario_solicitante</th>\n",
       "      <th>situacao_propriedade</th>\n",
       "      <th>tempo_trabalhado</th>\n",
       "      <th>motivo</th>\n",
       "      <th>pontuacao</th>\n",
       "      <th>valor_solicitado</th>\n",
       "      <th>taxa_juros</th>\n",
       "      <th>percentual_renda</th>\n",
       "      <th>flag_inadimplencia</th>\n",
       "      <th>anos_primeira_solicitacao</th>\n",
       "      <th>flag_inadimplencia_hist</th>\n",
       "    </tr>\n",
       "    <tr>\n",
       "      <th>id_solicitante</th>\n",
       "      <th></th>\n",
       "      <th></th>\n",
       "      <th></th>\n",
       "      <th></th>\n",
       "      <th></th>\n",
       "      <th></th>\n",
       "      <th></th>\n",
       "      <th></th>\n",
       "      <th></th>\n",
       "      <th></th>\n",
       "      <th></th>\n",
       "      <th></th>\n",
       "    </tr>\n",
       "  </thead>\n",
       "  <tbody>\n",
       "    <tr>\n",
       "      <th>0bdO8Dve-7WyH</th>\n",
       "      <td>NaN</td>\n",
       "      <td>32500.0</td>\n",
       "      <td>Outros</td>\n",
       "      <td>6.0</td>\n",
       "      <td>Médico</td>\n",
       "      <td>C</td>\n",
       "      <td>10000.0</td>\n",
       "      <td>NaN</td>\n",
       "      <td>0.06</td>\n",
       "      <td>0.0</td>\n",
       "      <td>5</td>\n",
       "      <td>0</td>\n",
       "    </tr>\n",
       "    <tr>\n",
       "      <th>DjTKLr5h-klwH</th>\n",
       "      <td>NaN</td>\n",
       "      <td>72000.0</td>\n",
       "      <td>Alugada</td>\n",
       "      <td>6.0</td>\n",
       "      <td>Médico</td>\n",
       "      <td>A</td>\n",
       "      <td>22000.0</td>\n",
       "      <td>14.09</td>\n",
       "      <td>0.34</td>\n",
       "      <td>0.0</td>\n",
       "      <td>6</td>\n",
       "      <td></td>\n",
       "    </tr>\n",
       "    <tr>\n",
       "      <th>ENIc349j-pnjb</th>\n",
       "      <td>NaN</td>\n",
       "      <td>50000.0</td>\n",
       "      <td>Própria</td>\n",
       "      <td>6.0</td>\n",
       "      <td>Educativo</td>\n",
       "      <td>B</td>\n",
       "      <td>2000.0</td>\n",
       "      <td>7.29</td>\n",
       "      <td>0.08</td>\n",
       "      <td>0.0</td>\n",
       "      <td>6</td>\n",
       "      <td></td>\n",
       "    </tr>\n",
       "    <tr>\n",
       "      <th>Ie9DsFea-UNQD</th>\n",
       "      <td>NaN</td>\n",
       "      <td>88000.0</td>\n",
       "      <td>Alugada</td>\n",
       "      <td>1.0</td>\n",
       "      <td>Pagamento de débitos</td>\n",
       "      <td>B</td>\n",
       "      <td>2000.0</td>\n",
       "      <td>13.48</td>\n",
       "      <td>0.10</td>\n",
       "      <td>0.0</td>\n",
       "      <td>6</td>\n",
       "      <td></td>\n",
       "    </tr>\n",
       "    <tr>\n",
       "      <th>na6NLszG-JXnp</th>\n",
       "      <td>NaN</td>\n",
       "      <td>NaN</td>\n",
       "      <td>Hipotecada</td>\n",
       "      <td>11.0</td>\n",
       "      <td>Empreendimento</td>\n",
       "      <td>A</td>\n",
       "      <td>8800.0</td>\n",
       "      <td>7.51</td>\n",
       "      <td>0.15</td>\n",
       "      <td>0.0</td>\n",
       "      <td>9</td>\n",
       "      <td>0</td>\n",
       "    </tr>\n",
       "    <tr>\n",
       "      <th>...</th>\n",
       "      <td>...</td>\n",
       "      <td>...</td>\n",
       "      <td>...</td>\n",
       "      <td>...</td>\n",
       "      <td>...</td>\n",
       "      <td>...</td>\n",
       "      <td>...</td>\n",
       "      <td>...</td>\n",
       "      <td>...</td>\n",
       "      <td>...</td>\n",
       "      <td>...</td>\n",
       "      <td>...</td>\n",
       "    </tr>\n",
       "    <tr>\n",
       "      <th>qxctb80T-v1LW</th>\n",
       "      <td>NaN</td>\n",
       "      <td>NaN</td>\n",
       "      <td>Hipotecada</td>\n",
       "      <td>4.0</td>\n",
       "      <td>Pagamento de débitos</td>\n",
       "      <td>A</td>\n",
       "      <td>3000.0</td>\n",
       "      <td>11.49</td>\n",
       "      <td>0.10</td>\n",
       "      <td>0.0</td>\n",
       "      <td>3</td>\n",
       "      <td>0</td>\n",
       "    </tr>\n",
       "    <tr>\n",
       "      <th>siZXIBa5-x19X</th>\n",
       "      <td>NaN</td>\n",
       "      <td>21600.0</td>\n",
       "      <td>Alugada</td>\n",
       "      <td>NaN</td>\n",
       "      <td>Empreendimento</td>\n",
       "      <td>C</td>\n",
       "      <td>3500.0</td>\n",
       "      <td>15.58</td>\n",
       "      <td>0.10</td>\n",
       "      <td>NaN</td>\n",
       "      <td>6</td>\n",
       "      <td>0</td>\n",
       "    </tr>\n",
       "    <tr>\n",
       "      <th>swLnXwfd-jGjF</th>\n",
       "      <td>NaN</td>\n",
       "      <td>265000.0</td>\n",
       "      <td>Hipotecada</td>\n",
       "      <td>2.0</td>\n",
       "      <td>Outros</td>\n",
       "      <td>B</td>\n",
       "      <td>3000.0</td>\n",
       "      <td>10.99</td>\n",
       "      <td>0.23</td>\n",
       "      <td>1.0</td>\n",
       "      <td>6</td>\n",
       "      <td>0</td>\n",
       "    </tr>\n",
       "    <tr>\n",
       "      <th>EtxdsvuN-BCM3</th>\n",
       "      <td>NaN</td>\n",
       "      <td>53000.0</td>\n",
       "      <td>Alugada</td>\n",
       "      <td>13.0</td>\n",
       "      <td>Educativo</td>\n",
       "      <td>C</td>\n",
       "      <td>10000.0</td>\n",
       "      <td>11.66</td>\n",
       "      <td>0.16</td>\n",
       "      <td>NaN</td>\n",
       "      <td>8</td>\n",
       "      <td>1</td>\n",
       "    </tr>\n",
       "    <tr>\n",
       "      <th>tg7mNqTt-2uYe</th>\n",
       "      <td>NaN</td>\n",
       "      <td>170000.0</td>\n",
       "      <td>Alugada</td>\n",
       "      <td>5.0</td>\n",
       "      <td>Melhora do lar</td>\n",
       "      <td></td>\n",
       "      <td>7500.0</td>\n",
       "      <td>11.36</td>\n",
       "      <td>0.19</td>\n",
       "      <td>0.0</td>\n",
       "      <td>4</td>\n",
       "      <td>0</td>\n",
       "    </tr>\n",
       "  </tbody>\n",
       "</table>\n",
       "<p>320 rows × 12 columns</p>\n",
       "</div>"
      ],
      "text/plain": [
       "                idade_solicitante  salario_solicitante situacao_propriedade  \\\n",
       "id_solicitante                                                                \n",
       "0bdO8Dve-7WyH                 NaN              32500.0               Outros   \n",
       "DjTKLr5h-klwH                 NaN              72000.0              Alugada   \n",
       "ENIc349j-pnjb                 NaN              50000.0              Própria   \n",
       "Ie9DsFea-UNQD                 NaN              88000.0              Alugada   \n",
       "na6NLszG-JXnp                 NaN                  NaN           Hipotecada   \n",
       "...                           ...                  ...                  ...   \n",
       "qxctb80T-v1LW                 NaN                  NaN           Hipotecada   \n",
       "siZXIBa5-x19X                 NaN              21600.0              Alugada   \n",
       "swLnXwfd-jGjF                 NaN             265000.0           Hipotecada   \n",
       "EtxdsvuN-BCM3                 NaN              53000.0              Alugada   \n",
       "tg7mNqTt-2uYe                 NaN             170000.0              Alugada   \n",
       "\n",
       "                tempo_trabalhado                motivo pontuacao  \\\n",
       "id_solicitante                                                     \n",
       "0bdO8Dve-7WyH                6.0                Médico         C   \n",
       "DjTKLr5h-klwH                6.0                Médico         A   \n",
       "ENIc349j-pnjb                6.0             Educativo         B   \n",
       "Ie9DsFea-UNQD                1.0  Pagamento de débitos         B   \n",
       "na6NLszG-JXnp               11.0        Empreendimento         A   \n",
       "...                          ...                   ...       ...   \n",
       "qxctb80T-v1LW                4.0  Pagamento de débitos         A   \n",
       "siZXIBa5-x19X                NaN        Empreendimento         C   \n",
       "swLnXwfd-jGjF                2.0                Outros         B   \n",
       "EtxdsvuN-BCM3               13.0             Educativo         C   \n",
       "tg7mNqTt-2uYe                5.0        Melhora do lar             \n",
       "\n",
       "                valor_solicitado  taxa_juros  percentual_renda  \\\n",
       "id_solicitante                                                   \n",
       "0bdO8Dve-7WyH            10000.0         NaN              0.06   \n",
       "DjTKLr5h-klwH            22000.0       14.09              0.34   \n",
       "ENIc349j-pnjb             2000.0        7.29              0.08   \n",
       "Ie9DsFea-UNQD             2000.0       13.48              0.10   \n",
       "na6NLszG-JXnp             8800.0        7.51              0.15   \n",
       "...                          ...         ...               ...   \n",
       "qxctb80T-v1LW             3000.0       11.49              0.10   \n",
       "siZXIBa5-x19X             3500.0       15.58              0.10   \n",
       "swLnXwfd-jGjF             3000.0       10.99              0.23   \n",
       "EtxdsvuN-BCM3            10000.0       11.66              0.16   \n",
       "tg7mNqTt-2uYe             7500.0       11.36              0.19   \n",
       "\n",
       "                flag_inadimplencia  anos_primeira_solicitacao  \\\n",
       "id_solicitante                                                  \n",
       "0bdO8Dve-7WyH                  0.0                          5   \n",
       "DjTKLr5h-klwH                  0.0                          6   \n",
       "ENIc349j-pnjb                  0.0                          6   \n",
       "Ie9DsFea-UNQD                  0.0                          6   \n",
       "na6NLszG-JXnp                  0.0                          9   \n",
       "...                            ...                        ...   \n",
       "qxctb80T-v1LW                  0.0                          3   \n",
       "siZXIBa5-x19X                  NaN                          6   \n",
       "swLnXwfd-jGjF                  1.0                          6   \n",
       "EtxdsvuN-BCM3                  NaN                          8   \n",
       "tg7mNqTt-2uYe                  0.0                          4   \n",
       "\n",
       "               flag_inadimplencia_hist  \n",
       "id_solicitante                          \n",
       "0bdO8Dve-7WyH                        0  \n",
       "DjTKLr5h-klwH                           \n",
       "ENIc349j-pnjb                           \n",
       "Ie9DsFea-UNQD                           \n",
       "na6NLszG-JXnp                        0  \n",
       "...                                ...  \n",
       "qxctb80T-v1LW                        0  \n",
       "siZXIBa5-x19X                        0  \n",
       "swLnXwfd-jGjF                        0  \n",
       "EtxdsvuN-BCM3                        1  \n",
       "tg7mNqTt-2uYe                        0  \n",
       "\n",
       "[320 rows x 12 columns]"
      ]
     },
     "execution_count": 20,
     "metadata": {},
     "output_type": "execute_result"
    }
   ],
   "source": [
    "base_tratada.query('idade_solicitante.isnull()', engine='python')"
   ]
  },
  {
   "cell_type": "markdown",
   "id": "44cc734c",
   "metadata": {},
   "source": [
    "Para as idades não informadas, em um primeiro momento eu penso em definir como 20 (que é o mínimo desta base) e acrescentar o tempo trabalhado e assim formar uma idade. Para não ter problema com o modelo, irei separar estes clientes e depois testá-lo no modelo utilizando esta premissa de idade. Farei o mesmo para as idades dispares."
   ]
  },
  {
   "cell_type": "code",
   "execution_count": 21,
   "id": "5cd3f4bf",
   "metadata": {},
   "outputs": [],
   "source": [
    "base_teste_idade = base_tratada.query('idade_solicitante.isnull() or idade_solicitante >= 80', engine='python')\n",
    "base_tratada.drop(base_teste_idade.index, inplace=True)"
   ]
  },
  {
   "cell_type": "markdown",
   "id": "01641cfd",
   "metadata": {},
   "source": [
    "### Salário do solicitante"
   ]
  },
  {
   "cell_type": "code",
   "execution_count": 22,
   "id": "1b551ae7",
   "metadata": {},
   "outputs": [
    {
     "data": {
      "text/plain": [
       "count      33858.0\n",
       "mean       65827.3\n",
       "std        52410.0\n",
       "min         4000.0\n",
       "25%        38400.0\n",
       "50%        55000.0\n",
       "75%        79050.0\n",
       "max      2039784.0\n",
       "Name: salario_solicitante, dtype: object"
      ]
     },
     "execution_count": 22,
     "metadata": {},
     "output_type": "execute_result"
    }
   ],
   "source": [
    "base_tratada.salario_solicitante.describe().apply(\"{0:.1f}\".format)"
   ]
  },
  {
   "cell_type": "code",
   "execution_count": 23,
   "id": "61c1de55",
   "metadata": {},
   "outputs": [
    {
     "data": {
      "text/plain": [
       "<AxesSubplot:ylabel='salario_solicitante'>"
      ]
     },
     "execution_count": 23,
     "metadata": {},
     "output_type": "execute_result"
    },
    {
     "data": {
      "image/png": "[encoded data removed]",
      "text/plain": [
       "<Figure size 432x288 with 1 Axes>"
      ]
     },
     "metadata": {
      "needs_background": "light"
     },
     "output_type": "display_data"
    }
   ],
   "source": [
    "sns.boxplot(data=base_tratada, y='salario_solicitante')"
   ]
  },
  {
   "cell_type": "markdown",
   "id": "7ef44e57",
   "metadata": {},
   "source": [
    "A princípio não irei remover o outlier de salário, verei a relação com as outras variáveis para decidir. Já para os salários não informados, irei utilizar a coluna `percentual_renda`. De acordo com o dicionário de dados esta coluna representa a _renda percentual entre o valor total do empréstimo e o salário anual_"
   ]
  },
  {
   "cell_type": "code",
   "execution_count": 24,
   "id": "2466d781",
   "metadata": {},
   "outputs": [],
   "source": [
    "ix_salario_nulo = base_tratada.salario_solicitante.isnull()"
   ]
  },
  {
   "cell_type": "code",
   "execution_count": 27,
   "id": "ef51d481",
   "metadata": {},
   "outputs": [],
   "source": [
    "base_tratada.loc[ix_salario_nulo, 'salario_solicitante'] = base_tratada.loc[ix_salario_nulo, 'valor_solicitado'] / base_tratada.loc[ix_salario_nulo, 'percentual_renda']"
   ]
  },
  {
   "cell_type": "code",
   "execution_count": 28,
   "id": "185c72d2",
   "metadata": {},
   "outputs": [
    {
     "data": {
      "text/html": [
       "<div>\n",
       "<style scoped>\n",
       "    .dataframe tbody tr th:only-of-type {\n",
       "        vertical-align: middle;\n",
       "    }\n",
       "\n",
       "    .dataframe tbody tr th {\n",
       "        vertical-align: top;\n",
       "    }\n",
       "\n",
       "    .dataframe thead th {\n",
       "        text-align: right;\n",
       "    }\n",
       "</style>\n",
       "<table border=\"1\" class=\"dataframe\">\n",
       "  <thead>\n",
       "    <tr style=\"text-align: right;\">\n",
       "      <th></th>\n",
       "      <th>idade_solicitante</th>\n",
       "      <th>salario_solicitante</th>\n",
       "      <th>situacao_propriedade</th>\n",
       "      <th>tempo_trabalhado</th>\n",
       "      <th>motivo</th>\n",
       "      <th>pontuacao</th>\n",
       "      <th>valor_solicitado</th>\n",
       "      <th>taxa_juros</th>\n",
       "      <th>percentual_renda</th>\n",
       "      <th>flag_inadimplencia</th>\n",
       "      <th>anos_primeira_solicitacao</th>\n",
       "      <th>flag_inadimplencia_hist</th>\n",
       "    </tr>\n",
       "    <tr>\n",
       "      <th>id_solicitante</th>\n",
       "      <th></th>\n",
       "      <th></th>\n",
       "      <th></th>\n",
       "      <th></th>\n",
       "      <th></th>\n",
       "      <th></th>\n",
       "      <th></th>\n",
       "      <th></th>\n",
       "      <th></th>\n",
       "      <th></th>\n",
       "      <th></th>\n",
       "      <th></th>\n",
       "    </tr>\n",
       "  </thead>\n",
       "  <tbody>\n",
       "    <tr>\n",
       "      <th>1DL4zwri-pb2T</th>\n",
       "      <td>27.0</td>\n",
       "      <td>95238.095238</td>\n",
       "      <td>Hipotecada</td>\n",
       "      <td>3.0</td>\n",
       "      <td>Empreendimento</td>\n",
       "      <td>B</td>\n",
       "      <td>20000.0</td>\n",
       "      <td>10.62</td>\n",
       "      <td>0.21</td>\n",
       "      <td>0.0</td>\n",
       "      <td>4</td>\n",
       "      <td>0</td>\n",
       "    </tr>\n",
       "    <tr>\n",
       "      <th>1yjr3wLG-y3U3</th>\n",
       "      <td>24.0</td>\n",
       "      <td>NaN</td>\n",
       "      <td>Hipotecada</td>\n",
       "      <td>5.0</td>\n",
       "      <td>Médico</td>\n",
       "      <td>D</td>\n",
       "      <td>NaN</td>\n",
       "      <td>17.27</td>\n",
       "      <td>0.01</td>\n",
       "      <td>1.0</td>\n",
       "      <td>2</td>\n",
       "      <td>0</td>\n",
       "    </tr>\n",
       "    <tr>\n",
       "      <th>6gvDE8YA-f4nO</th>\n",
       "      <td>25.0</td>\n",
       "      <td>50000.000000</td>\n",
       "      <td>Alugada</td>\n",
       "      <td>8.0</td>\n",
       "      <td>Pagamento de débitos</td>\n",
       "      <td>C</td>\n",
       "      <td>2500.0</td>\n",
       "      <td>9.62</td>\n",
       "      <td>0.05</td>\n",
       "      <td>0.0</td>\n",
       "      <td>12</td>\n",
       "      <td></td>\n",
       "    </tr>\n",
       "    <tr>\n",
       "      <th>9jhA1L70-z3l0</th>\n",
       "      <td>22.0</td>\n",
       "      <td>63157.894737</td>\n",
       "      <td>Hipotecada</td>\n",
       "      <td>6.0</td>\n",
       "      <td>Outros</td>\n",
       "      <td>A</td>\n",
       "      <td>12000.0</td>\n",
       "      <td>10.25</td>\n",
       "      <td>0.19</td>\n",
       "      <td>0.0</td>\n",
       "      <td>12</td>\n",
       "      <td>0</td>\n",
       "    </tr>\n",
       "    <tr>\n",
       "      <th>9qABlZj8-noC5</th>\n",
       "      <td>35.0</td>\n",
       "      <td>42352.941176</td>\n",
       "      <td>Hipotecada</td>\n",
       "      <td>0.0</td>\n",
       "      <td>Outros</td>\n",
       "      <td>B</td>\n",
       "      <td>7200.0</td>\n",
       "      <td>10.59</td>\n",
       "      <td>0.17</td>\n",
       "      <td>0.0</td>\n",
       "      <td>3</td>\n",
       "      <td>0</td>\n",
       "    </tr>\n",
       "  </tbody>\n",
       "</table>\n",
       "</div>"
      ],
      "text/plain": [
       "                idade_solicitante  salario_solicitante situacao_propriedade  \\\n",
       "id_solicitante                                                                \n",
       "1DL4zwri-pb2T                27.0         95238.095238           Hipotecada   \n",
       "1yjr3wLG-y3U3                24.0                  NaN           Hipotecada   \n",
       "6gvDE8YA-f4nO                25.0         50000.000000              Alugada   \n",
       "9jhA1L70-z3l0                22.0         63157.894737           Hipotecada   \n",
       "9qABlZj8-noC5                35.0         42352.941176           Hipotecada   \n",
       "\n",
       "                tempo_trabalhado                motivo pontuacao  \\\n",
       "id_solicitante                                                     \n",
       "1DL4zwri-pb2T                3.0        Empreendimento         B   \n",
       "1yjr3wLG-y3U3                5.0                Médico         D   \n",
       "6gvDE8YA-f4nO                8.0  Pagamento de débitos         C   \n",
       "9jhA1L70-z3l0                6.0                Outros         A   \n",
       "9qABlZj8-noC5                0.0                Outros         B   \n",
       "\n",
       "                valor_solicitado  taxa_juros  percentual_renda  \\\n",
       "id_solicitante                                                   \n",
       "1DL4zwri-pb2T            20000.0       10.62              0.21   \n",
       "1yjr3wLG-y3U3                NaN       17.27              0.01   \n",
       "6gvDE8YA-f4nO             2500.0        9.62              0.05   \n",
       "9jhA1L70-z3l0            12000.0       10.25              0.19   \n",
       "9qABlZj8-noC5             7200.0       10.59              0.17   \n",
       "\n",
       "                flag_inadimplencia  anos_primeira_solicitacao  \\\n",
       "id_solicitante                                                  \n",
       "1DL4zwri-pb2T                  0.0                          4   \n",
       "1yjr3wLG-y3U3                  1.0                          2   \n",
       "6gvDE8YA-f4nO                  0.0                         12   \n",
       "9jhA1L70-z3l0                  0.0                         12   \n",
       "9qABlZj8-noC5                  0.0                          3   \n",
       "\n",
       "               flag_inadimplencia_hist  \n",
       "id_solicitante                          \n",
       "1DL4zwri-pb2T                        0  \n",
       "1yjr3wLG-y3U3                        0  \n",
       "6gvDE8YA-f4nO                           \n",
       "9jhA1L70-z3l0                        0  \n",
       "9qABlZj8-noC5                        0  "
      ]
     },
     "execution_count": 28,
     "metadata": {},
     "output_type": "execute_result"
    }
   ],
   "source": [
    "base_tratada.loc[ix_salario_nulo].head()"
   ]
  },
  {
   "cell_type": "markdown",
   "id": "e09e22a6",
   "metadata": {},
   "source": [
    "Os que não foram possível definir o salário também irei separar em uma base para possíveis testes no modelo"
   ]
  },
  {
   "cell_type": "code",
   "execution_count": 29,
   "id": "e8877c15",
   "metadata": {},
   "outputs": [],
   "source": [
    "ix_salario_nulo = base_tratada.loc[ix_salario_nulo].index\n",
    "base_teste_salario = base_tratada.loc[ix_salario_nulo]\n",
    "base_tratada.drop(ix_salario_nulo, inplace=True)"
   ]
  },
  {
   "cell_type": "markdown",
   "id": "62b3b524",
   "metadata": {},
   "source": [
    "### Situação Propriedade"
   ]
  },
  {
   "cell_type": "markdown",
   "id": "44b942fb",
   "metadata": {},
   "source": [
    "De acordo com o dicionário de dados, é situação da propriedade que o solicitante possui. Como esta variável não possui dados nulos e já foi traduzida na origem, irei seguir para a próxima variável"
   ]
  },
  {
   "cell_type": "code",
   "execution_count": 32,
   "id": "ca43d9d6",
   "metadata": {},
   "outputs": [
    {
     "data": {
      "text/plain": [
       "Alugada       16955\n",
       "Hipotecada    13846\n",
       "Própria        2674\n",
       "Outros          383\n",
       "Name: situacao_propriedade, dtype: int64"
      ]
     },
     "execution_count": 32,
     "metadata": {},
     "output_type": "execute_result"
    }
   ],
   "source": [
    "base_tratada.situacao_propriedade.value_counts()"
   ]
  },
  {
   "cell_type": "markdown",
   "id": "ec8973a7",
   "metadata": {},
   "source": [
    "### Tempo Trabalhado"
   ]
  },
  {
   "cell_type": "markdown",
   "id": "4295bff1",
   "metadata": {},
   "source": [
    "O tempo de trabalho, em anos, que o solicitante possui"
   ]
  },
  {
   "cell_type": "code",
   "execution_count": 42,
   "id": "dc29bc6a",
   "metadata": {},
   "outputs": [
    {
     "data": {
      "text/plain": [
       "count    32677.000000\n",
       "mean         4.786792\n",
       "std          4.140237\n",
       "min          0.000000\n",
       "25%          2.000000\n",
       "50%          4.000000\n",
       "75%          7.000000\n",
       "max        123.000000\n",
       "Name: tempo_trabalhado, dtype: float64"
      ]
     },
     "execution_count": 42,
     "metadata": {},
     "output_type": "execute_result"
    }
   ],
   "source": [
    "base_tratada.tempo_trabalhado.describe()"
   ]
  },
  {
   "cell_type": "code",
   "execution_count": 43,
   "id": "71f5ad3f",
   "metadata": {},
   "outputs": [
    {
     "data": {
      "text/plain": [
       "<AxesSubplot:ylabel='tempo_trabalhado'>"
      ]
     },
     "execution_count": 43,
     "metadata": {},
     "output_type": "execute_result"
    },
    {
     "data": {
      "image/png": "[encoded data removed]",
      "text/plain": [
       "<Figure size 432x288 with 1 Axes>"
      ]
     },
     "metadata": {
      "needs_background": "light"
     },
     "output_type": "display_data"
    }
   ],
   "source": [
    "sns.boxplot(data=base_tratada, y='tempo_trabalhado')"
   ]
  },
  {
   "cell_type": "markdown",
   "id": "a4cb3411",
   "metadata": {},
   "source": [
    "Temos pelo menos duas situações que necessitam de correção:\n",
    "1. Tempo de trabalho maior ou igual ao tempo de vida\n",
    "1. Tempo de trabalho nulo"
   ]
  },
  {
   "cell_type": "code",
   "execution_count": 50,
   "id": "c1244217",
   "metadata": {},
   "outputs": [],
   "source": [
    "ix_tempo_invalido = base_tratada.query('tempo_trabalhado >= idade_solicitante or tempo_trabalhado.isnull()', engine='python').index"
   ]
  },
  {
   "cell_type": "code",
   "execution_count": 51,
   "id": "3939d776",
   "metadata": {},
   "outputs": [
    {
     "data": {
      "text/plain": [
       "<AxesSubplot:ylabel='tempo_trabalhado'>"
      ]
     },
     "execution_count": 51,
     "metadata": {},
     "output_type": "execute_result"
    },
    {
     "data": {
      "image/png": "[encoded data removed]",
      "text/plain": [
       "<Figure size 432x288 with 1 Axes>"
      ]
     },
     "metadata": {
      "needs_background": "light"
     },
     "output_type": "display_data"
    }
   ],
   "source": [
    "sns.boxplot(data=base_tratada.drop(index=ix_tempo_invalido), y='tempo_trabalhado')"
   ]
  },
  {
   "cell_type": "code",
   "execution_count": 52,
   "id": "d40a2712",
   "metadata": {},
   "outputs": [],
   "source": [
    "base_teste_tempo_trabalhado = base_tratada.loc[ix_tempo_invalido]\n",
    "base_tratada.drop(index=ix_tempo_invalido, inplace=True)"
   ]
  },
  {
   "cell_type": "markdown",
   "id": "7e089abe",
   "metadata": {},
   "source": [
    "### Motivo"
   ]
  },
  {
   "cell_type": "markdown",
   "id": "20c34930",
   "metadata": {},
   "source": [
    "Motivo do empréstimo"
   ]
  },
  {
   "cell_type": "code",
   "execution_count": 54,
   "id": "3e58f3a7",
   "metadata": {},
   "outputs": [
    {
     "data": {
      "text/plain": [
       "Educativo               6442\n",
       "Médico                  6040\n",
       "Empreendimento          5682\n",
       "Pessoal                 5504\n",
       "Pagamento de débitos    5186\n",
       "Melhora do lar          3605\n",
       "Outros                   216\n",
       "Name: motivo, dtype: int64"
      ]
     },
     "execution_count": 54,
     "metadata": {},
     "output_type": "execute_result"
    }
   ],
   "source": [
    "base_tratada.motivo.value_counts()"
   ]
  },
  {
   "cell_type": "markdown",
   "id": "1187efc2",
   "metadata": {},
   "source": [
    "### Pontuação"
   ]
  },
  {
   "cell_type": "markdown",
   "id": "53417db3",
   "metadata": {},
   "source": [
    "É a pontuação de empréstimos"
   ]
  },
  {
   "cell_type": "code",
   "execution_count": 56,
   "id": "76da08fd",
   "metadata": {},
   "outputs": [
    {
     "data": {
      "text/plain": [
       "A    10618\n",
       "B    10436\n",
       "C     6463\n",
       "D     3655\n",
       "E      973\n",
       "F      245\n",
       "       221\n",
       "G       64\n",
       "Name: pontuacao, dtype: int64"
      ]
     },
     "execution_count": 56,
     "metadata": {},
     "output_type": "execute_result"
    }
   ],
   "source": [
    "base_tratada.pontuacao.value_counts()"
   ]
  },
  {
   "cell_type": "code",
   "execution_count": 58,
   "id": "b9235487",
   "metadata": {},
   "outputs": [
    {
     "data": {
      "text/html": [
       "<div>\n",
       "<style scoped>\n",
       "    .dataframe tbody tr th:only-of-type {\n",
       "        vertical-align: middle;\n",
       "    }\n",
       "\n",
       "    .dataframe tbody tr th {\n",
       "        vertical-align: top;\n",
       "    }\n",
       "\n",
       "    .dataframe thead th {\n",
       "        text-align: right;\n",
       "    }\n",
       "</style>\n",
       "<table border=\"1\" class=\"dataframe\">\n",
       "  <thead>\n",
       "    <tr style=\"text-align: right;\">\n",
       "      <th></th>\n",
       "      <th>idade_solicitante</th>\n",
       "      <th>salario_solicitante</th>\n",
       "      <th>situacao_propriedade</th>\n",
       "      <th>tempo_trabalhado</th>\n",
       "      <th>motivo</th>\n",
       "      <th>pontuacao</th>\n",
       "      <th>valor_solicitado</th>\n",
       "      <th>taxa_juros</th>\n",
       "      <th>percentual_renda</th>\n",
       "      <th>flag_inadimplencia</th>\n",
       "      <th>anos_primeira_solicitacao</th>\n",
       "      <th>flag_inadimplencia_hist</th>\n",
       "    </tr>\n",
       "    <tr>\n",
       "      <th>id_solicitante</th>\n",
       "      <th></th>\n",
       "      <th></th>\n",
       "      <th></th>\n",
       "      <th></th>\n",
       "      <th></th>\n",
       "      <th></th>\n",
       "      <th></th>\n",
       "      <th></th>\n",
       "      <th></th>\n",
       "      <th></th>\n",
       "      <th></th>\n",
       "      <th></th>\n",
       "    </tr>\n",
       "  </thead>\n",
       "  <tbody>\n",
       "    <tr>\n",
       "      <th>0GqdKhZ3-tmHe</th>\n",
       "      <td>21.0</td>\n",
       "      <td>70000.0</td>\n",
       "      <td>Alugada</td>\n",
       "      <td>5.0</td>\n",
       "      <td>Pessoal</td>\n",
       "      <td></td>\n",
       "      <td>6000.0</td>\n",
       "      <td>NaN</td>\n",
       "      <td>0.18</td>\n",
       "      <td>1.0</td>\n",
       "      <td>4</td>\n",
       "      <td>0</td>\n",
       "    </tr>\n",
       "    <tr>\n",
       "      <th>2xuBJInu-7RXw</th>\n",
       "      <td>29.0</td>\n",
       "      <td>92000.0</td>\n",
       "      <td>Hipotecada</td>\n",
       "      <td>8.0</td>\n",
       "      <td>Melhora do lar</td>\n",
       "      <td></td>\n",
       "      <td>7000.0</td>\n",
       "      <td>9.99</td>\n",
       "      <td>NaN</td>\n",
       "      <td>0.0</td>\n",
       "      <td>3</td>\n",
       "      <td>0</td>\n",
       "    </tr>\n",
       "    <tr>\n",
       "      <th>cJgwA3tE-AY4M</th>\n",
       "      <td>38.0</td>\n",
       "      <td>48000.0</td>\n",
       "      <td>Hipotecada</td>\n",
       "      <td>23.0</td>\n",
       "      <td>Médico</td>\n",
       "      <td></td>\n",
       "      <td>18250.0</td>\n",
       "      <td>11.11</td>\n",
       "      <td>0.19</td>\n",
       "      <td>0.0</td>\n",
       "      <td>4</td>\n",
       "      <td></td>\n",
       "    </tr>\n",
       "    <tr>\n",
       "      <th>dk7Oi1Q4-hISY</th>\n",
       "      <td>27.0</td>\n",
       "      <td>73660.0</td>\n",
       "      <td>Alugada</td>\n",
       "      <td>4.0</td>\n",
       "      <td>Melhora do lar</td>\n",
       "      <td></td>\n",
       "      <td>NaN</td>\n",
       "      <td>7.90</td>\n",
       "      <td>0.20</td>\n",
       "      <td>0.0</td>\n",
       "      <td>4</td>\n",
       "      <td>0</td>\n",
       "    </tr>\n",
       "    <tr>\n",
       "      <th>GPn8G5iu-D5C6</th>\n",
       "      <td>36.0</td>\n",
       "      <td>69000.0</td>\n",
       "      <td>Alugada</td>\n",
       "      <td>20.0</td>\n",
       "      <td>Empreendimento</td>\n",
       "      <td></td>\n",
       "      <td>12000.0</td>\n",
       "      <td>NaN</td>\n",
       "      <td>NaN</td>\n",
       "      <td>0.0</td>\n",
       "      <td>2</td>\n",
       "      <td>0</td>\n",
       "    </tr>\n",
       "    <tr>\n",
       "      <th>...</th>\n",
       "      <td>...</td>\n",
       "      <td>...</td>\n",
       "      <td>...</td>\n",
       "      <td>...</td>\n",
       "      <td>...</td>\n",
       "      <td>...</td>\n",
       "      <td>...</td>\n",
       "      <td>...</td>\n",
       "      <td>...</td>\n",
       "      <td>...</td>\n",
       "      <td>...</td>\n",
       "      <td>...</td>\n",
       "    </tr>\n",
       "    <tr>\n",
       "      <th>8fxGIZ21-fcz1</th>\n",
       "      <td>34.0</td>\n",
       "      <td>67392.0</td>\n",
       "      <td>Hipotecada</td>\n",
       "      <td>0.0</td>\n",
       "      <td>Pessoal</td>\n",
       "      <td></td>\n",
       "      <td>15000.0</td>\n",
       "      <td>NaN</td>\n",
       "      <td>0.13</td>\n",
       "      <td>0.0</td>\n",
       "      <td>7</td>\n",
       "      <td>0</td>\n",
       "    </tr>\n",
       "    <tr>\n",
       "      <th>EQ6QTMhp-BI9W</th>\n",
       "      <td>32.0</td>\n",
       "      <td>37000.0</td>\n",
       "      <td>Alugada</td>\n",
       "      <td>4.0</td>\n",
       "      <td>Médico</td>\n",
       "      <td></td>\n",
       "      <td>6000.0</td>\n",
       "      <td>13.49</td>\n",
       "      <td>NaN</td>\n",
       "      <td>0.0</td>\n",
       "      <td>8</td>\n",
       "      <td>0</td>\n",
       "    </tr>\n",
       "    <tr>\n",
       "      <th>I1hjkYeP-RdSr</th>\n",
       "      <td>26.0</td>\n",
       "      <td>88900.0</td>\n",
       "      <td>Própria</td>\n",
       "      <td>2.0</td>\n",
       "      <td>Médico</td>\n",
       "      <td></td>\n",
       "      <td>4800.0</td>\n",
       "      <td>NaN</td>\n",
       "      <td>0.08</td>\n",
       "      <td>1.0</td>\n",
       "      <td>9</td>\n",
       "      <td>1</td>\n",
       "    </tr>\n",
       "    <tr>\n",
       "      <th>JSFCemeE-uCbq</th>\n",
       "      <td>30.0</td>\n",
       "      <td>67092.0</td>\n",
       "      <td>Alugada</td>\n",
       "      <td>0.0</td>\n",
       "      <td>Pagamento de débitos</td>\n",
       "      <td></td>\n",
       "      <td>8000.0</td>\n",
       "      <td>7.49</td>\n",
       "      <td>0.15</td>\n",
       "      <td>0.0</td>\n",
       "      <td>4</td>\n",
       "      <td></td>\n",
       "    </tr>\n",
       "    <tr>\n",
       "      <th>UXl2XF0O-6AnQ</th>\n",
       "      <td>23.0</td>\n",
       "      <td>51000.0</td>\n",
       "      <td>Hipotecada</td>\n",
       "      <td>7.0</td>\n",
       "      <td>Empreendimento</td>\n",
       "      <td></td>\n",
       "      <td>5000.0</td>\n",
       "      <td>11.12</td>\n",
       "      <td>0.07</td>\n",
       "      <td>NaN</td>\n",
       "      <td>3</td>\n",
       "      <td>0</td>\n",
       "    </tr>\n",
       "  </tbody>\n",
       "</table>\n",
       "<p>221 rows × 12 columns</p>\n",
       "</div>"
      ],
      "text/plain": [
       "                idade_solicitante  salario_solicitante situacao_propriedade  \\\n",
       "id_solicitante                                                                \n",
       "0GqdKhZ3-tmHe                21.0              70000.0              Alugada   \n",
       "2xuBJInu-7RXw                29.0              92000.0           Hipotecada   \n",
       "cJgwA3tE-AY4M                38.0              48000.0           Hipotecada   \n",
       "dk7Oi1Q4-hISY                27.0              73660.0              Alugada   \n",
       "GPn8G5iu-D5C6                36.0              69000.0              Alugada   \n",
       "...                           ...                  ...                  ...   \n",
       "8fxGIZ21-fcz1                34.0              67392.0           Hipotecada   \n",
       "EQ6QTMhp-BI9W                32.0              37000.0              Alugada   \n",
       "I1hjkYeP-RdSr                26.0              88900.0              Própria   \n",
       "JSFCemeE-uCbq                30.0              67092.0              Alugada   \n",
       "UXl2XF0O-6AnQ                23.0              51000.0           Hipotecada   \n",
       "\n",
       "                tempo_trabalhado                motivo pontuacao  \\\n",
       "id_solicitante                                                     \n",
       "0GqdKhZ3-tmHe                5.0               Pessoal             \n",
       "2xuBJInu-7RXw                8.0        Melhora do lar             \n",
       "cJgwA3tE-AY4M               23.0                Médico             \n",
       "dk7Oi1Q4-hISY                4.0        Melhora do lar             \n",
       "GPn8G5iu-D5C6               20.0        Empreendimento             \n",
       "...                          ...                   ...       ...   \n",
       "8fxGIZ21-fcz1                0.0               Pessoal             \n",
       "EQ6QTMhp-BI9W                4.0                Médico             \n",
       "I1hjkYeP-RdSr                2.0                Médico             \n",
       "JSFCemeE-uCbq                0.0  Pagamento de débitos             \n",
       "UXl2XF0O-6AnQ                7.0        Empreendimento             \n",
       "\n",
       "                valor_solicitado  taxa_juros  percentual_renda  \\\n",
       "id_solicitante                                                   \n",
       "0GqdKhZ3-tmHe             6000.0         NaN              0.18   \n",
       "2xuBJInu-7RXw             7000.0        9.99               NaN   \n",
       "cJgwA3tE-AY4M            18250.0       11.11              0.19   \n",
       "dk7Oi1Q4-hISY                NaN        7.90              0.20   \n",
       "GPn8G5iu-D5C6            12000.0         NaN               NaN   \n",
       "...                          ...         ...               ...   \n",
       "8fxGIZ21-fcz1            15000.0         NaN              0.13   \n",
       "EQ6QTMhp-BI9W             6000.0       13.49               NaN   \n",
       "I1hjkYeP-RdSr             4800.0         NaN              0.08   \n",
       "JSFCemeE-uCbq             8000.0        7.49              0.15   \n",
       "UXl2XF0O-6AnQ             5000.0       11.12              0.07   \n",
       "\n",
       "                flag_inadimplencia  anos_primeira_solicitacao  \\\n",
       "id_solicitante                                                  \n",
       "0GqdKhZ3-tmHe                  1.0                          4   \n",
       "2xuBJInu-7RXw                  0.0                          3   \n",
       "cJgwA3tE-AY4M                  0.0                          4   \n",
       "dk7Oi1Q4-hISY                  0.0                          4   \n",
       "GPn8G5iu-D5C6                  0.0                          2   \n",
       "...                            ...                        ...   \n",
       "8fxGIZ21-fcz1                  0.0                          7   \n",
       "EQ6QTMhp-BI9W                  0.0                          8   \n",
       "I1hjkYeP-RdSr                  1.0                          9   \n",
       "JSFCemeE-uCbq                  0.0                          4   \n",
       "UXl2XF0O-6AnQ                  NaN                          3   \n",
       "\n",
       "               flag_inadimplencia_hist  \n",
       "id_solicitante                          \n",
       "0GqdKhZ3-tmHe                        0  \n",
       "2xuBJInu-7RXw                        0  \n",
       "cJgwA3tE-AY4M                           \n",
       "dk7Oi1Q4-hISY                        0  \n",
       "GPn8G5iu-D5C6                        0  \n",
       "...                                ...  \n",
       "8fxGIZ21-fcz1                        0  \n",
       "EQ6QTMhp-BI9W                        0  \n",
       "I1hjkYeP-RdSr                        1  \n",
       "JSFCemeE-uCbq                           \n",
       "UXl2XF0O-6AnQ                        0  \n",
       "\n",
       "[221 rows x 12 columns]"
      ]
     },
     "execution_count": 58,
     "metadata": {},
     "output_type": "execute_result"
    }
   ],
   "source": [
    "base_tratada.query('pontuacao == \"\"')"
   ]
  },
  {
   "cell_type": "markdown",
   "id": "a5673532",
   "metadata": {},
   "source": [
    "Como não sabemos ainda a forma de classificação desta pontuação, decido retirar os registros inválidos"
   ]
  },
  {
   "cell_type": "code",
   "execution_count": 60,
   "id": "aa9365e6",
   "metadata": {},
   "outputs": [],
   "source": [
    "ix_pontuacao_invalida = base_tratada.query('pontuacao == \"\"').index\n",
    "base_teste_pontuacao = base_tratada.loc[ix_pontuacao_invalida]\n",
    "base_tratada.drop(index=ix_pontuacao_invalida, inplace=True)"
   ]
  },
  {
   "cell_type": "markdown",
   "id": "9affafe4",
   "metadata": {},
   "source": [
    "### Valor solicitado"
   ]
  },
  {
   "cell_type": "code",
   "execution_count": 62,
   "id": "64c1c0f0",
   "metadata": {},
   "outputs": [
    {
     "data": {
      "text/plain": [
       "count    32254.000000\n",
       "mean      9652.695015\n",
       "std       6329.586082\n",
       "min        500.000000\n",
       "25%       5000.000000\n",
       "50%       8000.000000\n",
       "75%      12475.000000\n",
       "max      35000.000000\n",
       "Name: valor_solicitado, dtype: float64"
      ]
     },
     "execution_count": 62,
     "metadata": {},
     "output_type": "execute_result"
    }
   ],
   "source": [
    "base_tratada.valor_solicitado.describe()"
   ]
  },
  {
   "cell_type": "code",
   "execution_count": 64,
   "id": "af2c954e",
   "metadata": {},
   "outputs": [
    {
     "data": {
      "text/html": [
       "<div>\n",
       "<style scoped>\n",
       "    .dataframe tbody tr th:only-of-type {\n",
       "        vertical-align: middle;\n",
       "    }\n",
       "\n",
       "    .dataframe tbody tr th {\n",
       "        vertical-align: top;\n",
       "    }\n",
       "\n",
       "    .dataframe thead th {\n",
       "        text-align: right;\n",
       "    }\n",
       "</style>\n",
       "<table border=\"1\" class=\"dataframe\">\n",
       "  <thead>\n",
       "    <tr style=\"text-align: right;\">\n",
       "      <th></th>\n",
       "      <th>idade_solicitante</th>\n",
       "      <th>salario_solicitante</th>\n",
       "      <th>situacao_propriedade</th>\n",
       "      <th>tempo_trabalhado</th>\n",
       "      <th>motivo</th>\n",
       "      <th>pontuacao</th>\n",
       "      <th>valor_solicitado</th>\n",
       "      <th>taxa_juros</th>\n",
       "      <th>percentual_renda</th>\n",
       "      <th>flag_inadimplencia</th>\n",
       "      <th>anos_primeira_solicitacao</th>\n",
       "      <th>flag_inadimplencia_hist</th>\n",
       "    </tr>\n",
       "    <tr>\n",
       "      <th>id_solicitante</th>\n",
       "      <th></th>\n",
       "      <th></th>\n",
       "      <th></th>\n",
       "      <th></th>\n",
       "      <th></th>\n",
       "      <th></th>\n",
       "      <th></th>\n",
       "      <th></th>\n",
       "      <th></th>\n",
       "      <th></th>\n",
       "      <th></th>\n",
       "      <th></th>\n",
       "    </tr>\n",
       "  </thead>\n",
       "  <tbody>\n",
       "    <tr>\n",
       "      <th>Ae2Iso56-MPL9</th>\n",
       "      <td>24.0</td>\n",
       "      <td>100000.0</td>\n",
       "      <td>Alugada</td>\n",
       "      <td>5.0</td>\n",
       "      <td>Melhora do lar</td>\n",
       "      <td>A</td>\n",
       "      <td>NaN</td>\n",
       "      <td>13.85</td>\n",
       "      <td>0.08</td>\n",
       "      <td>NaN</td>\n",
       "      <td>6</td>\n",
       "      <td>1</td>\n",
       "    </tr>\n",
       "    <tr>\n",
       "      <th>fd48DQox-LS8o</th>\n",
       "      <td>25.0</td>\n",
       "      <td>32000.0</td>\n",
       "      <td>Alugada</td>\n",
       "      <td>9.0</td>\n",
       "      <td>Médico</td>\n",
       "      <td>E</td>\n",
       "      <td>NaN</td>\n",
       "      <td>7.88</td>\n",
       "      <td>0.16</td>\n",
       "      <td>NaN</td>\n",
       "      <td>5</td>\n",
       "      <td>0</td>\n",
       "    </tr>\n",
       "    <tr>\n",
       "      <th>M7esH5RX-GTkt</th>\n",
       "      <td>24.0</td>\n",
       "      <td>32500.0</td>\n",
       "      <td>Própria</td>\n",
       "      <td>2.0</td>\n",
       "      <td>Educativo</td>\n",
       "      <td>D</td>\n",
       "      <td>NaN</td>\n",
       "      <td>7.88</td>\n",
       "      <td>NaN</td>\n",
       "      <td>0.0</td>\n",
       "      <td>6</td>\n",
       "      <td>0</td>\n",
       "    </tr>\n",
       "    <tr>\n",
       "      <th>pHHPz7gZ-F35v</th>\n",
       "      <td>22.0</td>\n",
       "      <td>30000.0</td>\n",
       "      <td>Alugada</td>\n",
       "      <td>4.0</td>\n",
       "      <td>Melhora do lar</td>\n",
       "      <td>D</td>\n",
       "      <td>NaN</td>\n",
       "      <td>NaN</td>\n",
       "      <td>0.21</td>\n",
       "      <td>0.0</td>\n",
       "      <td>3</td>\n",
       "      <td>0</td>\n",
       "    </tr>\n",
       "    <tr>\n",
       "      <th>rpskxAlF-vhLH</th>\n",
       "      <td>23.0</td>\n",
       "      <td>48000.0</td>\n",
       "      <td>Alugada</td>\n",
       "      <td>3.0</td>\n",
       "      <td>Outros</td>\n",
       "      <td>B</td>\n",
       "      <td>NaN</td>\n",
       "      <td>8.49</td>\n",
       "      <td>0.08</td>\n",
       "      <td>0.0</td>\n",
       "      <td>5</td>\n",
       "      <td>0</td>\n",
       "    </tr>\n",
       "    <tr>\n",
       "      <th>...</th>\n",
       "      <td>...</td>\n",
       "      <td>...</td>\n",
       "      <td>...</td>\n",
       "      <td>...</td>\n",
       "      <td>...</td>\n",
       "      <td>...</td>\n",
       "      <td>...</td>\n",
       "      <td>...</td>\n",
       "      <td>...</td>\n",
       "      <td>...</td>\n",
       "      <td>...</td>\n",
       "      <td>...</td>\n",
       "    </tr>\n",
       "    <tr>\n",
       "      <th>khcer9Hi-PeXI</th>\n",
       "      <td>27.0</td>\n",
       "      <td>70000.0</td>\n",
       "      <td>Própria</td>\n",
       "      <td>2.0</td>\n",
       "      <td>Melhora do lar</td>\n",
       "      <td>B</td>\n",
       "      <td>NaN</td>\n",
       "      <td>13.57</td>\n",
       "      <td>NaN</td>\n",
       "      <td>0.0</td>\n",
       "      <td>8</td>\n",
       "      <td>1</td>\n",
       "    </tr>\n",
       "    <tr>\n",
       "      <th>1D91sakx-1KO9</th>\n",
       "      <td>22.0</td>\n",
       "      <td>14400.0</td>\n",
       "      <td>Alugada</td>\n",
       "      <td>0.0</td>\n",
       "      <td>Outros</td>\n",
       "      <td>A</td>\n",
       "      <td>NaN</td>\n",
       "      <td>10.36</td>\n",
       "      <td>0.23</td>\n",
       "      <td>0.0</td>\n",
       "      <td>8</td>\n",
       "      <td>0</td>\n",
       "    </tr>\n",
       "    <tr>\n",
       "      <th>PFvNR4Iv-oeji</th>\n",
       "      <td>22.0</td>\n",
       "      <td>34000.0</td>\n",
       "      <td>Outros</td>\n",
       "      <td>4.0</td>\n",
       "      <td>Pessoal</td>\n",
       "      <td>A</td>\n",
       "      <td>NaN</td>\n",
       "      <td>10.62</td>\n",
       "      <td>0.40</td>\n",
       "      <td>0.0</td>\n",
       "      <td>9</td>\n",
       "      <td>0</td>\n",
       "    </tr>\n",
       "    <tr>\n",
       "      <th>AaMvDsMp-JOdJ</th>\n",
       "      <td>22.0</td>\n",
       "      <td>91000.0</td>\n",
       "      <td>Própria</td>\n",
       "      <td>5.0</td>\n",
       "      <td>Outros</td>\n",
       "      <td>A</td>\n",
       "      <td>NaN</td>\n",
       "      <td>8.90</td>\n",
       "      <td>0.16</td>\n",
       "      <td>0.0</td>\n",
       "      <td>4</td>\n",
       "      <td>0</td>\n",
       "    </tr>\n",
       "    <tr>\n",
       "      <th>b9fCSQ6m-it60</th>\n",
       "      <td>24.0</td>\n",
       "      <td>35400.0</td>\n",
       "      <td>Alugada</td>\n",
       "      <td>8.0</td>\n",
       "      <td>Empreendimento</td>\n",
       "      <td>A</td>\n",
       "      <td>NaN</td>\n",
       "      <td>12.69</td>\n",
       "      <td>0.28</td>\n",
       "      <td>0.0</td>\n",
       "      <td>3</td>\n",
       "      <td>0</td>\n",
       "    </tr>\n",
       "  </tbody>\n",
       "</table>\n",
       "<p>200 rows × 12 columns</p>\n",
       "</div>"
      ],
      "text/plain": [
       "                idade_solicitante  salario_solicitante situacao_propriedade  \\\n",
       "id_solicitante                                                                \n",
       "Ae2Iso56-MPL9                24.0             100000.0              Alugada   \n",
       "fd48DQox-LS8o                25.0              32000.0              Alugada   \n",
       "M7esH5RX-GTkt                24.0              32500.0              Própria   \n",
       "pHHPz7gZ-F35v                22.0              30000.0              Alugada   \n",
       "rpskxAlF-vhLH                23.0              48000.0              Alugada   \n",
       "...                           ...                  ...                  ...   \n",
       "khcer9Hi-PeXI                27.0              70000.0              Própria   \n",
       "1D91sakx-1KO9                22.0              14400.0              Alugada   \n",
       "PFvNR4Iv-oeji                22.0              34000.0               Outros   \n",
       "AaMvDsMp-JOdJ                22.0              91000.0              Própria   \n",
       "b9fCSQ6m-it60                24.0              35400.0              Alugada   \n",
       "\n",
       "                tempo_trabalhado          motivo pontuacao  valor_solicitado  \\\n",
       "id_solicitante                                                                 \n",
       "Ae2Iso56-MPL9                5.0  Melhora do lar         A               NaN   \n",
       "fd48DQox-LS8o                9.0          Médico         E               NaN   \n",
       "M7esH5RX-GTkt                2.0       Educativo         D               NaN   \n",
       "pHHPz7gZ-F35v                4.0  Melhora do lar         D               NaN   \n",
       "rpskxAlF-vhLH                3.0          Outros         B               NaN   \n",
       "...                          ...             ...       ...               ...   \n",
       "khcer9Hi-PeXI                2.0  Melhora do lar         B               NaN   \n",
       "1D91sakx-1KO9                0.0          Outros         A               NaN   \n",
       "PFvNR4Iv-oeji                4.0         Pessoal         A               NaN   \n",
       "AaMvDsMp-JOdJ                5.0          Outros         A               NaN   \n",
       "b9fCSQ6m-it60                8.0  Empreendimento         A               NaN   \n",
       "\n",
       "                taxa_juros  percentual_renda  flag_inadimplencia  \\\n",
       "id_solicitante                                                     \n",
       "Ae2Iso56-MPL9        13.85              0.08                 NaN   \n",
       "fd48DQox-LS8o         7.88              0.16                 NaN   \n",
       "M7esH5RX-GTkt         7.88               NaN                 0.0   \n",
       "pHHPz7gZ-F35v          NaN              0.21                 0.0   \n",
       "rpskxAlF-vhLH         8.49              0.08                 0.0   \n",
       "...                    ...               ...                 ...   \n",
       "khcer9Hi-PeXI        13.57               NaN                 0.0   \n",
       "1D91sakx-1KO9        10.36              0.23                 0.0   \n",
       "PFvNR4Iv-oeji        10.62              0.40                 0.0   \n",
       "AaMvDsMp-JOdJ         8.90              0.16                 0.0   \n",
       "b9fCSQ6m-it60        12.69              0.28                 0.0   \n",
       "\n",
       "                anos_primeira_solicitacao flag_inadimplencia_hist  \n",
       "id_solicitante                                                     \n",
       "Ae2Iso56-MPL9                           6                       1  \n",
       "fd48DQox-LS8o                           5                       0  \n",
       "M7esH5RX-GTkt                           6                       0  \n",
       "pHHPz7gZ-F35v                           3                       0  \n",
       "rpskxAlF-vhLH                           5                       0  \n",
       "...                                   ...                     ...  \n",
       "khcer9Hi-PeXI                           8                       1  \n",
       "1D91sakx-1KO9                           8                       0  \n",
       "PFvNR4Iv-oeji                           9                       0  \n",
       "AaMvDsMp-JOdJ                           4                       0  \n",
       "b9fCSQ6m-it60                           3                       0  \n",
       "\n",
       "[200 rows x 12 columns]"
      ]
     },
     "execution_count": 64,
     "metadata": {},
     "output_type": "execute_result"
    }
   ],
   "source": [
    "base_tratada[base_tratada.valor_solicitado.isnull()]"
   ]
  },
  {
   "cell_type": "code",
   "execution_count": null,
   "id": "cd39ea1e",
   "metadata": {},
   "outputs": [],
   "source": [
    "\n"
   ]
  }
 ],
 "metadata": {
  "kernelspec": {
   "display_name": "Python 3",
   "language": "python",
   "name": "python3"
  },
  "language_info": {
   "codemirror_mode": {
    "name": "ipython",
    "version": 3
   },
   "file_extension": ".py",
   "mimetype": "text/x-python",
   "name": "python",
   "nbconvert_exporter": "python",
   "pygments_lexer": "ipython3",
   "version": "3.8.8"
  }
 },
 "nbformat": 4,
 "nbformat_minor": 5
}
