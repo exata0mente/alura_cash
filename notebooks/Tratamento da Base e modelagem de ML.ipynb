{
 "cells": [
  {
   "cell_type": "markdown",
   "id": "11fa0e5a",
   "metadata": {},
   "source": [
    "# Criando modelo de Machine Learning"
   ]
  },
  {
   "cell_type": "markdown",
   "id": "90b43f10",
   "metadata": {},
   "source": [
    "## Carregamento dos pacotes iniciais"
   ]
  },
  {
   "cell_type": "markdown",
   "id": "6e9752ad",
   "metadata": {},
   "source": [
    "Apesar de ter exportado um arquivo CSV, vou consultar diretamente o banco de dados ao qual a base existe."
   ]
  },
  {
   "cell_type": "code",
   "execution_count": 1,
   "id": "dfef74f4",
   "metadata": {},
   "outputs": [],
   "source": [
    "#!pip install mysql-connector-python\n",
    "#!pip install pyyaml"
   ]
  },
  {
   "cell_type": "code",
   "execution_count": 2,
   "id": "069c321a",
   "metadata": {},
   "outputs": [],
   "source": [
    "import pandas as pd\n",
    "import numpy as np\n",
    "from mysql.connector import connect, Error\n",
    "import yaml\n",
    "import seaborn as sns\n",
    "import matplotlib.pyplot as plt"
   ]
  },
  {
   "cell_type": "markdown",
   "id": "af973789",
   "metadata": {},
   "source": [
    "## Definição e conexão"
   ]
  },
  {
   "cell_type": "markdown",
   "id": "3c288008",
   "metadata": {},
   "source": [
    "Vou usar a leitura de um arquivo yaml, apesar de não ser boa prática armazenar senhas em arquivos estáticos."
   ]
  },
  {
   "cell_type": "code",
   "execution_count": 3,
   "id": "40475b73",
   "metadata": {},
   "outputs": [],
   "source": [
    "with open('login.yml', 'r') as l:\n",
    "    acesso_yml=yaml.safe_load(l)\n",
    "\n",
    "conn = connect(**acesso_yml)"
   ]
  },
  {
   "cell_type": "code",
   "execution_count": 4,
   "id": "ae5e780b",
   "metadata": {},
   "outputs": [
    {
     "data": {
      "text/html": [
       "<div>\n",
       "<style scoped>\n",
       "    .dataframe tbody tr th:only-of-type {\n",
       "        vertical-align: middle;\n",
       "    }\n",
       "\n",
       "    .dataframe tbody tr th {\n",
       "        vertical-align: top;\n",
       "    }\n",
       "\n",
       "    .dataframe thead th {\n",
       "        text-align: right;\n",
       "    }\n",
       "</style>\n",
       "<table border=\"1\" class=\"dataframe\">\n",
       "  <thead>\n",
       "    <tr style=\"text-align: right;\">\n",
       "      <th></th>\n",
       "      <th>id_solicitante</th>\n",
       "      <th>id_emprestimo</th>\n",
       "      <th>id_historico</th>\n",
       "      <th>idade_solicitante</th>\n",
       "      <th>salario_solicitante</th>\n",
       "      <th>situacao_propriedade</th>\n",
       "      <th>tempo_trabalhado</th>\n",
       "      <th>motivo</th>\n",
       "      <th>pontuacao</th>\n",
       "      <th>valor_solicitado</th>\n",
       "      <th>taxa_juros</th>\n",
       "      <th>percentual_renda</th>\n",
       "      <th>flag_inadimplencia</th>\n",
       "      <th>anos_primeira_solicitacao</th>\n",
       "      <th>flag_inadimplencia_hist</th>\n",
       "    </tr>\n",
       "  </thead>\n",
       "  <tbody>\n",
       "    <tr>\n",
       "      <th>0</th>\n",
       "      <td>02x9biGh-3gTR</td>\n",
       "      <td>k9lhNtMp-72zH</td>\n",
       "      <td>6EM4uoS2-maX2</td>\n",
       "      <td>23.0</td>\n",
       "      <td>68000.0</td>\n",
       "      <td>Alugada</td>\n",
       "      <td>1.0</td>\n",
       "      <td>Empreendimento</td>\n",
       "      <td>E</td>\n",
       "      <td>14400.0</td>\n",
       "      <td>17.99</td>\n",
       "      <td>0.21</td>\n",
       "      <td>1.0</td>\n",
       "      <td>2</td>\n",
       "      <td>0</td>\n",
       "    </tr>\n",
       "    <tr>\n",
       "      <th>1</th>\n",
       "      <td>05AU2u3q-jNEJ</td>\n",
       "      <td>2jgsNDsK-S45I</td>\n",
       "      <td>2nr9qAH9-x2vh</td>\n",
       "      <td>25.0</td>\n",
       "      <td>45000.0</td>\n",
       "      <td>Alugada</td>\n",
       "      <td>0.0</td>\n",
       "      <td>Empreendimento</td>\n",
       "      <td>C</td>\n",
       "      <td>10000.0</td>\n",
       "      <td>12.98</td>\n",
       "      <td>0.22</td>\n",
       "      <td>0.0</td>\n",
       "      <td>2</td>\n",
       "      <td>1</td>\n",
       "    </tr>\n",
       "    <tr>\n",
       "      <th>2</th>\n",
       "      <td>05o7RxO7-9LhQ</td>\n",
       "      <td>G7ebJZJb-6GDu</td>\n",
       "      <td>1zlTwsfS-0pan</td>\n",
       "      <td>23.0</td>\n",
       "      <td>65000.0</td>\n",
       "      <td>Alugada</td>\n",
       "      <td>2.0</td>\n",
       "      <td>Pagamento de débitos</td>\n",
       "      <td>B</td>\n",
       "      <td>3600.0</td>\n",
       "      <td>11.49</td>\n",
       "      <td>0.06</td>\n",
       "      <td>0.0</td>\n",
       "      <td>2</td>\n",
       "      <td>0</td>\n",
       "    </tr>\n",
       "    <tr>\n",
       "      <th>3</th>\n",
       "      <td>08rX5Qdc-ufb0</td>\n",
       "      <td>0sFrQD5Y-agj2</td>\n",
       "      <td>6rafzTfN-8awI</td>\n",
       "      <td>23.0</td>\n",
       "      <td>45312.0</td>\n",
       "      <td>Alugada</td>\n",
       "      <td>3.0</td>\n",
       "      <td>Educativo</td>\n",
       "      <td>A</td>\n",
       "      <td>13500.0</td>\n",
       "      <td>7.88</td>\n",
       "      <td>0.30</td>\n",
       "      <td>0.0</td>\n",
       "      <td>3</td>\n",
       "      <td>0</td>\n",
       "    </tr>\n",
       "    <tr>\n",
       "      <th>4</th>\n",
       "      <td>095kmLry-GPTX</td>\n",
       "      <td>eIoa76FA-d0FH</td>\n",
       "      <td>3ph8dE3U-L5I7</td>\n",
       "      <td>22.0</td>\n",
       "      <td>64000.0</td>\n",
       "      <td>Alugada</td>\n",
       "      <td>6.0</td>\n",
       "      <td>Educativo</td>\n",
       "      <td>A</td>\n",
       "      <td>7000.0</td>\n",
       "      <td>5.79</td>\n",
       "      <td>0.11</td>\n",
       "      <td>0.0</td>\n",
       "      <td>3</td>\n",
       "      <td>0</td>\n",
       "    </tr>\n",
       "  </tbody>\n",
       "</table>\n",
       "</div>"
      ],
      "text/plain": [
       "  id_solicitante  id_emprestimo   id_historico  idade_solicitante  \\\n",
       "0  02x9biGh-3gTR  k9lhNtMp-72zH  6EM4uoS2-maX2               23.0   \n",
       "1  05AU2u3q-jNEJ  2jgsNDsK-S45I  2nr9qAH9-x2vh               25.0   \n",
       "2  05o7RxO7-9LhQ  G7ebJZJb-6GDu  1zlTwsfS-0pan               23.0   \n",
       "3  08rX5Qdc-ufb0  0sFrQD5Y-agj2  6rafzTfN-8awI               23.0   \n",
       "4  095kmLry-GPTX  eIoa76FA-d0FH  3ph8dE3U-L5I7               22.0   \n",
       "\n",
       "   salario_solicitante situacao_propriedade  tempo_trabalhado  \\\n",
       "0              68000.0              Alugada               1.0   \n",
       "1              45000.0              Alugada               0.0   \n",
       "2              65000.0              Alugada               2.0   \n",
       "3              45312.0              Alugada               3.0   \n",
       "4              64000.0              Alugada               6.0   \n",
       "\n",
       "                 motivo pontuacao  valor_solicitado  taxa_juros  \\\n",
       "0        Empreendimento         E           14400.0       17.99   \n",
       "1        Empreendimento         C           10000.0       12.98   \n",
       "2  Pagamento de débitos         B            3600.0       11.49   \n",
       "3             Educativo         A           13500.0        7.88   \n",
       "4             Educativo         A            7000.0        5.79   \n",
       "\n",
       "   percentual_renda  flag_inadimplencia  anos_primeira_solicitacao  \\\n",
       "0              0.21                 1.0                          2   \n",
       "1              0.22                 0.0                          2   \n",
       "2              0.06                 0.0                          2   \n",
       "3              0.30                 0.0                          3   \n",
       "4              0.11                 0.0                          3   \n",
       "\n",
       "  flag_inadimplencia_hist  \n",
       "0                       0  \n",
       "1                       1  \n",
       "2                       0  \n",
       "3                       0  \n",
       "4                       0  "
      ]
     },
     "execution_count": 4,
     "metadata": {},
     "output_type": "execute_result"
    }
   ],
   "source": [
    "base_estudo = pd.read_sql(sql=\"select * from analise_risco.base_emprestimo_analise\", con = conn)\n",
    "conn.close()\n",
    "base_estudo.head()"
   ]
  },
  {
   "cell_type": "code",
   "execution_count": 5,
   "id": "c18497ce",
   "metadata": {},
   "outputs": [
    {
     "name": "stdout",
     "output_type": "stream",
     "text": [
      "A base de estudo possui 34485 registros e 15 colunas.\n"
     ]
    }
   ],
   "source": [
    "print('A base de estudo possui {} registros e {} colunas.'.format(base_estudo.shape[0] ,base_estudo.shape[1]))"
   ]
  },
  {
   "cell_type": "code",
   "execution_count": 6,
   "id": "1a09eef7",
   "metadata": {},
   "outputs": [
    {
     "name": "stdout",
     "output_type": "stream",
     "text": [
      "<class 'pandas.core.frame.DataFrame'>\n",
      "RangeIndex: 34485 entries, 0 to 34484\n",
      "Data columns (total 15 columns):\n",
      " #   Column                     Non-Null Count  Dtype  \n",
      "---  ------                     --------------  -----  \n",
      " 0   id_solicitante             34485 non-null  object \n",
      " 1   id_emprestimo              34485 non-null  object \n",
      " 2   id_historico               34485 non-null  object \n",
      " 3   idade_solicitante          34165 non-null  float64\n",
      " 4   salario_solicitante        34150 non-null  float64\n",
      " 5   situacao_propriedade       34485 non-null  object \n",
      " 6   tempo_trabalhado           33231 non-null  float64\n",
      " 7   motivo                     34485 non-null  object \n",
      " 8   pontuacao                  34485 non-null  object \n",
      " 9   valor_solicitado           34154 non-null  float64\n",
      " 10  taxa_juros                 30859 non-null  float64\n",
      " 11  percentual_renda           34170 non-null  float64\n",
      " 12  flag_inadimplencia         34142 non-null  float64\n",
      " 13  anos_primeira_solicitacao  34485 non-null  int64  \n",
      " 14  flag_inadimplencia_hist    34485 non-null  object \n",
      "dtypes: float64(7), int64(1), object(7)\n",
      "memory usage: 3.9+ MB\n"
     ]
    }
   ],
   "source": [
    "base_estudo.info()"
   ]
  },
  {
   "cell_type": "markdown",
   "id": "68f00d84",
   "metadata": {},
   "source": [
    "É possível identificar que temos variáveis com dados nulos"
   ]
  },
  {
   "cell_type": "code",
   "execution_count": 7,
   "id": "77c83ac9",
   "metadata": {
    "scrolled": true
   },
   "outputs": [
    {
     "data": {
      "text/plain": [
       "id_solicitante                  0\n",
       "id_emprestimo                   0\n",
       "id_historico                    0\n",
       "idade_solicitante             320\n",
       "salario_solicitante           335\n",
       "situacao_propriedade            0\n",
       "tempo_trabalhado             1254\n",
       "motivo                          0\n",
       "pontuacao                       0\n",
       "valor_solicitado              331\n",
       "taxa_juros                   3626\n",
       "percentual_renda              315\n",
       "flag_inadimplencia            343\n",
       "anos_primeira_solicitacao       0\n",
       "flag_inadimplencia_hist         0\n",
       "dtype: int64"
      ]
     },
     "execution_count": 7,
     "metadata": {},
     "output_type": "execute_result"
    }
   ],
   "source": [
    "base_estudo.isnull().sum()"
   ]
  },
  {
   "cell_type": "code",
   "execution_count": 8,
   "id": "bd595eb7",
   "metadata": {},
   "outputs": [
    {
     "data": {
      "text/plain": [
       "il6n7qzu-0ZOf    1\n",
       "v8fMpWhK-rCAG    1\n",
       "DYvnpGn4-Bdgd    1\n",
       "LaSat9Sk-zLa0    1\n",
       "BS7QxhQi-0k69    1\n",
       "                ..\n",
       "742P2kiF-vDy2    1\n",
       "48vUpK2L-LahS    1\n",
       "O6ZUTZMX-ftZc    1\n",
       "xqBMCHXg-LwMp    1\n",
       "b6AoXP5G-asDY    1\n",
       "Name: id_solicitante, Length: 34485, dtype: int64"
      ]
     },
     "execution_count": 8,
     "metadata": {},
     "output_type": "execute_result"
    }
   ],
   "source": [
    "base_estudo.id_solicitante.value_counts()"
   ]
  },
  {
   "cell_type": "markdown",
   "id": "22398834",
   "metadata": {},
   "source": [
    "## Tratamento de dados nulos e análise de outliers"
   ]
  },
  {
   "cell_type": "markdown",
   "id": "1d5bf97e",
   "metadata": {},
   "source": [
    "Para esse estudo, decido remover todos os registros que possuem algum dado nulo. Apesar de alguns campos serem possíveis calcular (como por exemplo `valor_solicitado`, `salario_solicitante`, `percentual_renda`) e outros inferir (`tempo_trabalho`). Após ter o modelo pronto, irei usar essa base como uma segunda validação"
   ]
  },
  {
   "cell_type": "code",
   "execution_count": 9,
   "id": "eb4e8fc0",
   "metadata": {},
   "outputs": [],
   "source": [
    "base_bad = base_estudo.drop(base_estudo.dropna().index)"
   ]
  },
  {
   "cell_type": "code",
   "execution_count": 10,
   "id": "d7aaa00d",
   "metadata": {},
   "outputs": [],
   "source": [
    "base_tratada = base_estudo.dropna().copy()"
   ]
  },
  {
   "cell_type": "code",
   "execution_count": 11,
   "id": "1c3e4ab9",
   "metadata": {},
   "outputs": [
    {
     "data": {
      "text/plain": [
       "Index(['id_solicitante', 'id_emprestimo', 'id_historico', 'idade_solicitante',\n",
       "       'salario_solicitante', 'situacao_propriedade', 'tempo_trabalhado',\n",
       "       'motivo', 'pontuacao', 'valor_solicitado', 'taxa_juros',\n",
       "       'percentual_renda', 'flag_inadimplencia', 'anos_primeira_solicitacao',\n",
       "       'flag_inadimplencia_hist'],\n",
       "      dtype='object')"
      ]
     },
     "execution_count": 11,
     "metadata": {},
     "output_type": "execute_result"
    }
   ],
   "source": [
    "base_tratada.columns"
   ]
  },
  {
   "cell_type": "markdown",
   "id": "299035d7",
   "metadata": {},
   "source": [
    "### Idade solicitante"
   ]
  },
  {
   "cell_type": "markdown",
   "id": "2451b0c3",
   "metadata": {},
   "source": [
    "De acordo com o dicionário de dados, este é o campo com a idade (em anos) do solicitante de empréstimo"
   ]
  },
  {
   "cell_type": "code",
   "execution_count": 12,
   "id": "5d42ad5d",
   "metadata": {},
   "outputs": [
    {
     "data": {
      "text/plain": [
       "count    28882.000000\n",
       "mean        27.728862\n",
       "std          6.309004\n",
       "min         20.000000\n",
       "25%         23.000000\n",
       "50%         26.000000\n",
       "75%         30.000000\n",
       "max        144.000000\n",
       "Name: idade_solicitante, dtype: float64"
      ]
     },
     "execution_count": 12,
     "metadata": {},
     "output_type": "execute_result"
    }
   ],
   "source": [
    "base_tratada.idade_solicitante.describe()"
   ]
  },
  {
   "cell_type": "code",
   "execution_count": 13,
   "id": "4dd2bdce",
   "metadata": {},
   "outputs": [
    {
     "data": {
      "text/plain": [
       "<AxesSubplot:ylabel='idade_solicitante'>"
      ]
     },
     "execution_count": 13,
     "metadata": {},
     "output_type": "execute_result"
    },
    {
     "data": {
      "image/png": "[encoded data removed]",
      "text/plain": [
       "<Figure size 432x288 with 1 Axes>"
      ]
     },
     "metadata": {
      "needs_background": "light"
     },
     "output_type": "display_data"
    }
   ],
   "source": [
    "sns.boxplot(data=base_tratada, y='idade_solicitante')"
   ]
  },
  {
   "cell_type": "markdown",
   "id": "e0448347",
   "metadata": {},
   "source": [
    "Decido então estabelecer o limite de idade em 80. Acima disso retirarei deste estudo."
   ]
  },
  {
   "cell_type": "markdown",
   "id": "44cc734c",
   "metadata": {},
   "source": [
    "Para as idades não informadas, em um primeiro momento eu penso em definir como 20 (que é o mínimo desta base) e acrescentar o tempo trabalhado e assim formar uma idade. Para não ter problema com o modelo, irei separar estes clientes e depois testá-lo no modelo utilizando esta premissa de idade. Farei o mesmo para as idades dispares."
   ]
  },
  {
   "cell_type": "code",
   "execution_count": 14,
   "id": "e3dc95e1",
   "metadata": {},
   "outputs": [
    {
     "data": {
      "text/plain": [
       "Int64Index([6641, 8469, 16410, 21550, 27123, 27766], dtype='int64')"
      ]
     },
     "execution_count": 14,
     "metadata": {},
     "output_type": "execute_result"
    }
   ],
   "source": [
    "base_tratada.query('idade_solicitante.isnull() or idade_solicitante >= 80', engine='python').index"
   ]
  },
  {
   "cell_type": "code",
   "execution_count": 15,
   "id": "5cd3f4bf",
   "metadata": {},
   "outputs": [],
   "source": [
    "base_teste_idade = base_tratada.query('idade_solicitante.isnull() or idade_solicitante >= 80', engine='python')\n",
    "base_tratada.drop(base_teste_idade.index, inplace=True)"
   ]
  },
  {
   "cell_type": "markdown",
   "id": "01641cfd",
   "metadata": {},
   "source": [
    "### Salário do solicitante"
   ]
  },
  {
   "cell_type": "code",
   "execution_count": 16,
   "id": "1b551ae7",
   "metadata": {},
   "outputs": [
    {
     "data": {
      "text/plain": [
       "count      28876.0\n",
       "mean       66381.3\n",
       "std        51434.7\n",
       "min         4000.0\n",
       "25%        39381.0\n",
       "50%        55755.0\n",
       "75%        80000.0\n",
       "max      2039784.0\n",
       "Name: salario_solicitante, dtype: object"
      ]
     },
     "execution_count": 16,
     "metadata": {},
     "output_type": "execute_result"
    }
   ],
   "source": [
    "base_tratada.salario_solicitante.describe().apply(\"{0:.1f}\".format)"
   ]
  },
  {
   "cell_type": "code",
   "execution_count": 17,
   "id": "61c1de55",
   "metadata": {},
   "outputs": [
    {
     "data": {
      "text/plain": [
       "<AxesSubplot:ylabel='salario_solicitante'>"
      ]
     },
     "execution_count": 17,
     "metadata": {},
     "output_type": "execute_result"
    },
    {
     "data": {
      "image/png": "[encoded data removed]",
      "text/plain": [
       "<Figure size 432x288 with 1 Axes>"
      ]
     },
     "metadata": {
      "needs_background": "light"
     },
     "output_type": "display_data"
    }
   ],
   "source": [
    "sns.boxplot(data=base_tratada, y='salario_solicitante')"
   ]
  },
  {
   "cell_type": "markdown",
   "id": "7ef44e57",
   "metadata": {},
   "source": [
    "A princípio não irei remover o outlier de salário, verei a relação com as outras variáveis para decidir. Já para os salários não informados, irei utilizar a coluna `percentual_renda` na base _badP_ que criei. De acordo com o dicionário de dados esta coluna representa a _renda percentual entre o valor total do empréstimo e o salário anual_"
   ]
  },
  {
   "cell_type": "markdown",
   "id": "4f4a3727",
   "metadata": {},
   "source": [
    "### Situação Propriedade"
   ]
  },
  {
   "cell_type": "markdown",
   "id": "eebbd857",
   "metadata": {},
   "source": [
    "De acordo com o dicionário de dados, é situação da propriedade que o solicitante possui. Como esta variável não possui dados nulos e já foi traduzida na origem, irei seguir para a próxima variável"
   ]
  },
  {
   "cell_type": "code",
   "execution_count": 18,
   "id": "ff27fe5a",
   "metadata": {},
   "outputs": [
    {
     "data": {
      "text/plain": [
       "Alugada       14620\n",
       "Hipotecada    11855\n",
       "Própria        2204\n",
       "Outros          197\n",
       "Name: situacao_propriedade, dtype: int64"
      ]
     },
     "execution_count": 18,
     "metadata": {},
     "output_type": "execute_result"
    }
   ],
   "source": [
    "base_tratada.situacao_propriedade.value_counts()"
   ]
  },
  {
   "cell_type": "markdown",
   "id": "d1e4189d",
   "metadata": {},
   "source": [
    "### Tempo Trabalhado"
   ]
  },
  {
   "cell_type": "markdown",
   "id": "0b829f68",
   "metadata": {},
   "source": [
    "O tempo de trabalho, em anos, que o solicitante possui"
   ]
  },
  {
   "cell_type": "code",
   "execution_count": 19,
   "id": "ea329796",
   "metadata": {},
   "outputs": [
    {
     "data": {
      "text/plain": [
       "count    28876.000000\n",
       "mean         4.787644\n",
       "std          4.154246\n",
       "min          0.000000\n",
       "25%          2.000000\n",
       "50%          4.000000\n",
       "75%          7.000000\n",
       "max        123.000000\n",
       "Name: tempo_trabalhado, dtype: float64"
      ]
     },
     "execution_count": 19,
     "metadata": {},
     "output_type": "execute_result"
    }
   ],
   "source": [
    "base_tratada.tempo_trabalhado.describe()"
   ]
  },
  {
   "cell_type": "code",
   "execution_count": 20,
   "id": "a731a691",
   "metadata": {},
   "outputs": [
    {
     "data": {
      "text/plain": [
       "<AxesSubplot:ylabel='tempo_trabalhado'>"
      ]
     },
     "execution_count": 20,
     "metadata": {},
     "output_type": "execute_result"
    },
    {
     "data": {
      "image/png": "[encoded data removed]",
      "text/plain": [
       "<Figure size 432x288 with 1 Axes>"
      ]
     },
     "metadata": {
      "needs_background": "light"
     },
     "output_type": "display_data"
    }
   ],
   "source": [
    "sns.boxplot(data=base_tratada, y='tempo_trabalhado')"
   ]
  },
  {
   "cell_type": "markdown",
   "id": "5870226f",
   "metadata": {},
   "source": [
    "Temos pelo menos duas situações que necessitam de correção:\n",
    "1. Tempo de trabalho maior ou igual ao tempo de vida\n",
    "1. Tempo de trabalho nulo"
   ]
  },
  {
   "cell_type": "code",
   "execution_count": 21,
   "id": "0928df74",
   "metadata": {},
   "outputs": [],
   "source": [
    "ix_tempo_invalido = base_tratada.query('tempo_trabalhado >= idade_solicitante', engine='python').index"
   ]
  },
  {
   "cell_type": "code",
   "execution_count": 22,
   "id": "6f40c696",
   "metadata": {},
   "outputs": [
    {
     "data": {
      "text/plain": [
       "<AxesSubplot:ylabel='tempo_trabalhado'>"
      ]
     },
     "execution_count": 22,
     "metadata": {},
     "output_type": "execute_result"
    },
    {
     "data": {
      "image/png": "[encoded data removed]",
      "text/plain": [
       "<Figure size 432x288 with 1 Axes>"
      ]
     },
     "metadata": {
      "needs_background": "light"
     },
     "output_type": "display_data"
    }
   ],
   "source": [
    "sns.boxplot(data=base_tratada.drop(index=ix_tempo_invalido), y='tempo_trabalhado')"
   ]
  },
  {
   "cell_type": "code",
   "execution_count": 23,
   "id": "02a245a5",
   "metadata": {},
   "outputs": [],
   "source": [
    "base_teste_tempo_trabalhado = base_tratada.loc[ix_tempo_invalido]\n",
    "base_tratada.drop(index=ix_tempo_invalido, inplace=True)"
   ]
  },
  {
   "cell_type": "markdown",
   "id": "648ff368",
   "metadata": {},
   "source": [
    "### Motivo"
   ]
  },
  {
   "cell_type": "markdown",
   "id": "ecb1a485",
   "metadata": {},
   "source": [
    "Motivo do empréstimo"
   ]
  },
  {
   "cell_type": "code",
   "execution_count": 24,
   "id": "883be43f",
   "metadata": {},
   "outputs": [
    {
     "data": {
      "text/plain": [
       "Educativo               5728\n",
       "Médico                  5318\n",
       "Empreendimento          5022\n",
       "Pessoal                 4899\n",
       "Pagamento de débitos    4595\n",
       "Melhora do lar          3210\n",
       "Outros                   102\n",
       "Name: motivo, dtype: int64"
      ]
     },
     "execution_count": 24,
     "metadata": {},
     "output_type": "execute_result"
    }
   ],
   "source": [
    "base_tratada.motivo.value_counts()"
   ]
  },
  {
   "cell_type": "markdown",
   "id": "aa715184",
   "metadata": {},
   "source": [
    "### Pontuação"
   ]
  },
  {
   "cell_type": "markdown",
   "id": "1e1c0453",
   "metadata": {},
   "source": [
    "É a pontuação de empréstimos"
   ]
  },
  {
   "cell_type": "code",
   "execution_count": 25,
   "id": "4de131f4",
   "metadata": {},
   "outputs": [
    {
     "data": {
      "text/plain": [
       "A    9451\n",
       "B    9188\n",
       "C    5732\n",
       "D    3257\n",
       "E     874\n",
       "F     211\n",
       "      102\n",
       "G      59\n",
       "Name: pontuacao, dtype: int64"
      ]
     },
     "execution_count": 25,
     "metadata": {},
     "output_type": "execute_result"
    }
   ],
   "source": [
    "base_tratada.pontuacao.value_counts()"
   ]
  },
  {
   "cell_type": "code",
   "execution_count": 26,
   "id": "63616960",
   "metadata": {},
   "outputs": [
    {
     "data": {
      "text/html": [
       "<div>\n",
       "<style scoped>\n",
       "    .dataframe tbody tr th:only-of-type {\n",
       "        vertical-align: middle;\n",
       "    }\n",
       "\n",
       "    .dataframe tbody tr th {\n",
       "        vertical-align: top;\n",
       "    }\n",
       "\n",
       "    .dataframe thead th {\n",
       "        text-align: right;\n",
       "    }\n",
       "</style>\n",
       "<table border=\"1\" class=\"dataframe\">\n",
       "  <thead>\n",
       "    <tr style=\"text-align: right;\">\n",
       "      <th></th>\n",
       "      <th>id_solicitante</th>\n",
       "      <th>id_emprestimo</th>\n",
       "      <th>id_historico</th>\n",
       "      <th>idade_solicitante</th>\n",
       "      <th>salario_solicitante</th>\n",
       "      <th>situacao_propriedade</th>\n",
       "      <th>tempo_trabalhado</th>\n",
       "      <th>motivo</th>\n",
       "      <th>pontuacao</th>\n",
       "      <th>valor_solicitado</th>\n",
       "      <th>taxa_juros</th>\n",
       "      <th>percentual_renda</th>\n",
       "      <th>flag_inadimplencia</th>\n",
       "      <th>anos_primeira_solicitacao</th>\n",
       "      <th>flag_inadimplencia_hist</th>\n",
       "    </tr>\n",
       "  </thead>\n",
       "  <tbody>\n",
       "    <tr>\n",
       "      <th>396</th>\n",
       "      <td>cJgwA3tE-AY4M</td>\n",
       "      <td>JLGJfrzw-MGWa</td>\n",
       "      <td>2HTnbMk1-nQeW</td>\n",
       "      <td>38.0</td>\n",
       "      <td>48000.0</td>\n",
       "      <td>Hipotecada</td>\n",
       "      <td>23.0</td>\n",
       "      <td>Médico</td>\n",
       "      <td></td>\n",
       "      <td>18250.0</td>\n",
       "      <td>11.11</td>\n",
       "      <td>0.19</td>\n",
       "      <td>0.0</td>\n",
       "      <td>4</td>\n",
       "      <td></td>\n",
       "    </tr>\n",
       "    <tr>\n",
       "      <th>852</th>\n",
       "      <td>KoyFBbks-gi45</td>\n",
       "      <td>7O6L2fZB-oDZe</td>\n",
       "      <td>5krLhjYZ-fpEb</td>\n",
       "      <td>33.0</td>\n",
       "      <td>21000.0</td>\n",
       "      <td>Alugada</td>\n",
       "      <td>0.0</td>\n",
       "      <td>Outros</td>\n",
       "      <td></td>\n",
       "      <td>12000.0</td>\n",
       "      <td>10.39</td>\n",
       "      <td>0.40</td>\n",
       "      <td>1.0</td>\n",
       "      <td>9</td>\n",
       "      <td>0</td>\n",
       "    </tr>\n",
       "    <tr>\n",
       "      <th>916</th>\n",
       "      <td>lyUgjRNf-Hjp9</td>\n",
       "      <td>AJBQgakp-AMbu</td>\n",
       "      <td>6Z79o9wP-uPWl</td>\n",
       "      <td>27.0</td>\n",
       "      <td>44000.0</td>\n",
       "      <td>Hipotecada</td>\n",
       "      <td>2.0</td>\n",
       "      <td>Médico</td>\n",
       "      <td></td>\n",
       "      <td>7500.0</td>\n",
       "      <td>10.59</td>\n",
       "      <td>0.14</td>\n",
       "      <td>0.0</td>\n",
       "      <td>3</td>\n",
       "      <td>0</td>\n",
       "    </tr>\n",
       "    <tr>\n",
       "      <th>1235</th>\n",
       "      <td>sQDATdCY-DIaN</td>\n",
       "      <td>D6Xyg742-6LfN</td>\n",
       "      <td>3gifNtWw-QoxQ</td>\n",
       "      <td>38.0</td>\n",
       "      <td>200000.0</td>\n",
       "      <td>Hipotecada</td>\n",
       "      <td>2.0</td>\n",
       "      <td>Outros</td>\n",
       "      <td></td>\n",
       "      <td>15000.0</td>\n",
       "      <td>10.37</td>\n",
       "      <td>0.24</td>\n",
       "      <td>0.0</td>\n",
       "      <td>6</td>\n",
       "      <td>0</td>\n",
       "    </tr>\n",
       "    <tr>\n",
       "      <th>1275</th>\n",
       "      <td>tgqDm8dC-dirP</td>\n",
       "      <td>9kbfXZw4-Zpu8</td>\n",
       "      <td>0Fn8LtfN-jgvy</td>\n",
       "      <td>38.0</td>\n",
       "      <td>22000.0</td>\n",
       "      <td>Outros</td>\n",
       "      <td>2.0</td>\n",
       "      <td>Pagamento de débitos</td>\n",
       "      <td></td>\n",
       "      <td>25000.0</td>\n",
       "      <td>13.43</td>\n",
       "      <td>0.17</td>\n",
       "      <td>0.0</td>\n",
       "      <td>17</td>\n",
       "      <td>0</td>\n",
       "    </tr>\n",
       "    <tr>\n",
       "      <th>...</th>\n",
       "      <td>...</td>\n",
       "      <td>...</td>\n",
       "      <td>...</td>\n",
       "      <td>...</td>\n",
       "      <td>...</td>\n",
       "      <td>...</td>\n",
       "      <td>...</td>\n",
       "      <td>...</td>\n",
       "      <td>...</td>\n",
       "      <td>...</td>\n",
       "      <td>...</td>\n",
       "      <td>...</td>\n",
       "      <td>...</td>\n",
       "      <td>...</td>\n",
       "      <td>...</td>\n",
       "    </tr>\n",
       "    <tr>\n",
       "      <th>31844</th>\n",
       "      <td>NvSSqfRK-KBNw</td>\n",
       "      <td>wCJSKXkH-dNff</td>\n",
       "      <td>eR6vMeph-tUPf</td>\n",
       "      <td>23.0</td>\n",
       "      <td>50000.0</td>\n",
       "      <td>Alugada</td>\n",
       "      <td>0.0</td>\n",
       "      <td>Empreendimento</td>\n",
       "      <td></td>\n",
       "      <td>5000.0</td>\n",
       "      <td>12.98</td>\n",
       "      <td>0.14</td>\n",
       "      <td>1.0</td>\n",
       "      <td>3</td>\n",
       "      <td></td>\n",
       "    </tr>\n",
       "    <tr>\n",
       "      <th>32442</th>\n",
       "      <td>xc3EN6rE-DrN9</td>\n",
       "      <td>NdrT5OeK-EOZx</td>\n",
       "      <td>fXj5Mlny-9O97</td>\n",
       "      <td>24.0</td>\n",
       "      <td>35000.0</td>\n",
       "      <td>Hipotecada</td>\n",
       "      <td>3.0</td>\n",
       "      <td>Outros</td>\n",
       "      <td></td>\n",
       "      <td>35000.0</td>\n",
       "      <td>13.99</td>\n",
       "      <td>0.21</td>\n",
       "      <td>0.0</td>\n",
       "      <td>14</td>\n",
       "      <td>1</td>\n",
       "    </tr>\n",
       "    <tr>\n",
       "      <th>33146</th>\n",
       "      <td>QGd0EgPs-qD56</td>\n",
       "      <td>0kaEza3S-6n0H</td>\n",
       "      <td>xnq6PMYC-sf0Y</td>\n",
       "      <td>24.0</td>\n",
       "      <td>56000.0</td>\n",
       "      <td>Alugada</td>\n",
       "      <td>0.0</td>\n",
       "      <td>Empreendimento</td>\n",
       "      <td></td>\n",
       "      <td>15000.0</td>\n",
       "      <td>15.33</td>\n",
       "      <td>0.39</td>\n",
       "      <td>0.0</td>\n",
       "      <td>3</td>\n",
       "      <td></td>\n",
       "    </tr>\n",
       "    <tr>\n",
       "      <th>33693</th>\n",
       "      <td>RCuhJUxp-BUvw</td>\n",
       "      <td>lC7xOxg4-S49I</td>\n",
       "      <td>8T6ZIyLK-jc0e</td>\n",
       "      <td>22.0</td>\n",
       "      <td>36000.0</td>\n",
       "      <td>Alugada</td>\n",
       "      <td>1.0</td>\n",
       "      <td>Educativo</td>\n",
       "      <td></td>\n",
       "      <td>15000.0</td>\n",
       "      <td>12.84</td>\n",
       "      <td>0.33</td>\n",
       "      <td>1.0</td>\n",
       "      <td>3</td>\n",
       "      <td></td>\n",
       "    </tr>\n",
       "    <tr>\n",
       "      <th>34107</th>\n",
       "      <td>JSFCemeE-uCbq</td>\n",
       "      <td>Hf0Qs291-y1hf</td>\n",
       "      <td>A08ngN4Z-yDaH</td>\n",
       "      <td>30.0</td>\n",
       "      <td>67092.0</td>\n",
       "      <td>Alugada</td>\n",
       "      <td>0.0</td>\n",
       "      <td>Pagamento de débitos</td>\n",
       "      <td></td>\n",
       "      <td>8000.0</td>\n",
       "      <td>7.49</td>\n",
       "      <td>0.15</td>\n",
       "      <td>0.0</td>\n",
       "      <td>4</td>\n",
       "      <td></td>\n",
       "    </tr>\n",
       "  </tbody>\n",
       "</table>\n",
       "<p>102 rows × 15 columns</p>\n",
       "</div>"
      ],
      "text/plain": [
       "      id_solicitante  id_emprestimo   id_historico  idade_solicitante  \\\n",
       "396    cJgwA3tE-AY4M  JLGJfrzw-MGWa  2HTnbMk1-nQeW               38.0   \n",
       "852    KoyFBbks-gi45  7O6L2fZB-oDZe  5krLhjYZ-fpEb               33.0   \n",
       "916    lyUgjRNf-Hjp9  AJBQgakp-AMbu  6Z79o9wP-uPWl               27.0   \n",
       "1235   sQDATdCY-DIaN  D6Xyg742-6LfN  3gifNtWw-QoxQ               38.0   \n",
       "1275   tgqDm8dC-dirP  9kbfXZw4-Zpu8  0Fn8LtfN-jgvy               38.0   \n",
       "...              ...            ...            ...                ...   \n",
       "31844  NvSSqfRK-KBNw  wCJSKXkH-dNff  eR6vMeph-tUPf               23.0   \n",
       "32442  xc3EN6rE-DrN9  NdrT5OeK-EOZx  fXj5Mlny-9O97               24.0   \n",
       "33146  QGd0EgPs-qD56  0kaEza3S-6n0H  xnq6PMYC-sf0Y               24.0   \n",
       "33693  RCuhJUxp-BUvw  lC7xOxg4-S49I  8T6ZIyLK-jc0e               22.0   \n",
       "34107  JSFCemeE-uCbq  Hf0Qs291-y1hf  A08ngN4Z-yDaH               30.0   \n",
       "\n",
       "       salario_solicitante situacao_propriedade  tempo_trabalhado  \\\n",
       "396                48000.0           Hipotecada              23.0   \n",
       "852                21000.0              Alugada               0.0   \n",
       "916                44000.0           Hipotecada               2.0   \n",
       "1235              200000.0           Hipotecada               2.0   \n",
       "1275               22000.0               Outros               2.0   \n",
       "...                    ...                  ...               ...   \n",
       "31844              50000.0              Alugada               0.0   \n",
       "32442              35000.0           Hipotecada               3.0   \n",
       "33146              56000.0              Alugada               0.0   \n",
       "33693              36000.0              Alugada               1.0   \n",
       "34107              67092.0              Alugada               0.0   \n",
       "\n",
       "                     motivo pontuacao  valor_solicitado  taxa_juros  \\\n",
       "396                  Médico                     18250.0       11.11   \n",
       "852                  Outros                     12000.0       10.39   \n",
       "916                  Médico                      7500.0       10.59   \n",
       "1235                 Outros                     15000.0       10.37   \n",
       "1275   Pagamento de débitos                     25000.0       13.43   \n",
       "...                     ...       ...               ...         ...   \n",
       "31844        Empreendimento                      5000.0       12.98   \n",
       "32442                Outros                     35000.0       13.99   \n",
       "33146        Empreendimento                     15000.0       15.33   \n",
       "33693             Educativo                     15000.0       12.84   \n",
       "34107  Pagamento de débitos                      8000.0        7.49   \n",
       "\n",
       "       percentual_renda  flag_inadimplencia  anos_primeira_solicitacao  \\\n",
       "396                0.19                 0.0                          4   \n",
       "852                0.40                 1.0                          9   \n",
       "916                0.14                 0.0                          3   \n",
       "1235               0.24                 0.0                          6   \n",
       "1275               0.17                 0.0                         17   \n",
       "...                 ...                 ...                        ...   \n",
       "31844              0.14                 1.0                          3   \n",
       "32442              0.21                 0.0                         14   \n",
       "33146              0.39                 0.0                          3   \n",
       "33693              0.33                 1.0                          3   \n",
       "34107              0.15                 0.0                          4   \n",
       "\n",
       "      flag_inadimplencia_hist  \n",
       "396                            \n",
       "852                         0  \n",
       "916                         0  \n",
       "1235                        0  \n",
       "1275                        0  \n",
       "...                       ...  \n",
       "31844                          \n",
       "32442                       1  \n",
       "33146                          \n",
       "33693                          \n",
       "34107                          \n",
       "\n",
       "[102 rows x 15 columns]"
      ]
     },
     "execution_count": 26,
     "metadata": {},
     "output_type": "execute_result"
    }
   ],
   "source": [
    "base_tratada.query('pontuacao == \"\"')"
   ]
  },
  {
   "cell_type": "markdown",
   "id": "4cbd5ad1",
   "metadata": {},
   "source": [
    "Como não sabemos ainda a forma de classificação desta pontuação, decido retirar os registros inválidos"
   ]
  },
  {
   "cell_type": "code",
   "execution_count": 27,
   "id": "962f3308",
   "metadata": {},
   "outputs": [],
   "source": [
    "ix_pontuacao_invalida = base_tratada.query('pontuacao == \"\"').index\n",
    "base_teste_pontuacao = base_tratada.loc[ix_pontuacao_invalida]\n",
    "base_tratada.drop(index=ix_pontuacao_invalida, inplace=True)"
   ]
  },
  {
   "cell_type": "markdown",
   "id": "32114c90",
   "metadata": {},
   "source": [
    "### Valor solicitado"
   ]
  },
  {
   "cell_type": "code",
   "execution_count": 28,
   "id": "ed5f6efb",
   "metadata": {},
   "outputs": [
    {
     "data": {
      "text/plain": [
       "count    28772.000000\n",
       "mean      9655.593111\n",
       "std       6327.386227\n",
       "min        500.000000\n",
       "25%       5000.000000\n",
       "50%       8000.000000\n",
       "75%      12500.000000\n",
       "max      35000.000000\n",
       "Name: valor_solicitado, dtype: float64"
      ]
     },
     "execution_count": 28,
     "metadata": {},
     "output_type": "execute_result"
    }
   ],
   "source": [
    "base_tratada.valor_solicitado.describe()"
   ]
  },
  {
   "cell_type": "markdown",
   "id": "cd15754f",
   "metadata": {},
   "source": [
    "### Taxa de juros"
   ]
  },
  {
   "cell_type": "code",
   "execution_count": 29,
   "id": "49e01e50",
   "metadata": {},
   "outputs": [
    {
     "data": {
      "text/plain": [
       "<AxesSubplot:ylabel='taxa_juros'>"
      ]
     },
     "execution_count": 29,
     "metadata": {},
     "output_type": "execute_result"
    },
    {
     "data": {
      "image/png": "[encoded data removed]",
      "text/plain": [
       "<Figure size 432x288 with 1 Axes>"
      ]
     },
     "metadata": {
      "needs_background": "light"
     },
     "output_type": "display_data"
    }
   ],
   "source": [
    "sns.boxplot(data=base_tratada, y='taxa_juros')"
   ]
  },
  {
   "cell_type": "markdown",
   "id": "2fdda0b8",
   "metadata": {},
   "source": [
    "### Percentual de renda"
   ]
  },
  {
   "cell_type": "code",
   "execution_count": 30,
   "id": "a98ae88b",
   "metadata": {},
   "outputs": [
    {
     "data": {
      "text/plain": [
       "<AxesSubplot:ylabel='percentual_renda'>"
      ]
     },
     "execution_count": 30,
     "metadata": {},
     "output_type": "execute_result"
    },
    {
     "data": {
      "image/png": "[encoded data removed]",
      "text/plain": [
       "<Figure size 432x288 with 1 Axes>"
      ]
     },
     "metadata": {
      "needs_background": "light"
     },
     "output_type": "display_data"
    }
   ],
   "source": [
    "sns.boxplot(data=base_tratada, y='percentual_renda')"
   ]
  },
  {
   "cell_type": "markdown",
   "id": "92663cfe",
   "metadata": {},
   "source": [
    "Empréstimos pesados..."
   ]
  },
  {
   "cell_type": "markdown",
   "id": "c50ab55c",
   "metadata": {},
   "source": [
    "### Flag inadimplencia"
   ]
  },
  {
   "cell_type": "code",
   "execution_count": 31,
   "id": "ac523e74",
   "metadata": {},
   "outputs": [
    {
     "data": {
      "text/plain": [
       "0.0    22526\n",
       "1.0     6246\n",
       "Name: flag_inadimplencia, dtype: int64"
      ]
     },
     "execution_count": 31,
     "metadata": {},
     "output_type": "execute_result"
    }
   ],
   "source": [
    "base_tratada.flag_inadimplencia.value_counts()"
   ]
  },
  {
   "cell_type": "code",
   "execution_count": 32,
   "id": "0df7b578",
   "metadata": {},
   "outputs": [
    {
     "data": {
      "text/plain": [
       "array([1., 0.])"
      ]
     },
     "execution_count": 32,
     "metadata": {},
     "output_type": "execute_result"
    }
   ],
   "source": [
    "base_tratada.flag_inadimplencia.unique()"
   ]
  },
  {
   "cell_type": "markdown",
   "id": "f65cc64d",
   "metadata": {},
   "source": [
    "### Anos primeira solicitação"
   ]
  },
  {
   "cell_type": "code",
   "execution_count": 33,
   "id": "8b2fbbcb",
   "metadata": {},
   "outputs": [
    {
     "data": {
      "text/plain": [
       "<AxesSubplot:ylabel='anos_primeira_solicitacao'>"
      ]
     },
     "execution_count": 33,
     "metadata": {},
     "output_type": "execute_result"
    },
    {
     "data": {
      "image/png": "[encoded data removed]",
      "text/plain": [
       "<Figure size 432x288 with 1 Axes>"
      ]
     },
     "metadata": {
      "needs_background": "light"
     },
     "output_type": "display_data"
    }
   ],
   "source": [
    "sns.boxplot(data=base_tratada, y='anos_primeira_solicitacao')"
   ]
  },
  {
   "cell_type": "code",
   "execution_count": 34,
   "id": "c8d77464",
   "metadata": {},
   "outputs": [
    {
     "data": {
      "text/html": [
       "<div>\n",
       "<style scoped>\n",
       "    .dataframe tbody tr th:only-of-type {\n",
       "        vertical-align: middle;\n",
       "    }\n",
       "\n",
       "    .dataframe tbody tr th {\n",
       "        vertical-align: top;\n",
       "    }\n",
       "\n",
       "    .dataframe thead th {\n",
       "        text-align: right;\n",
       "    }\n",
       "</style>\n",
       "<table border=\"1\" class=\"dataframe\">\n",
       "  <thead>\n",
       "    <tr style=\"text-align: right;\">\n",
       "      <th></th>\n",
       "      <th>id_solicitante</th>\n",
       "      <th>id_emprestimo</th>\n",
       "      <th>id_historico</th>\n",
       "      <th>idade_solicitante</th>\n",
       "      <th>salario_solicitante</th>\n",
       "      <th>situacao_propriedade</th>\n",
       "      <th>tempo_trabalhado</th>\n",
       "      <th>motivo</th>\n",
       "      <th>pontuacao</th>\n",
       "      <th>valor_solicitado</th>\n",
       "      <th>taxa_juros</th>\n",
       "      <th>percentual_renda</th>\n",
       "      <th>flag_inadimplencia</th>\n",
       "      <th>anos_primeira_solicitacao</th>\n",
       "      <th>flag_inadimplencia_hist</th>\n",
       "    </tr>\n",
       "  </thead>\n",
       "  <tbody>\n",
       "  </tbody>\n",
       "</table>\n",
       "</div>"
      ],
      "text/plain": [
       "Empty DataFrame\n",
       "Columns: [id_solicitante, id_emprestimo, id_historico, idade_solicitante, salario_solicitante, situacao_propriedade, tempo_trabalhado, motivo, pontuacao, valor_solicitado, taxa_juros, percentual_renda, flag_inadimplencia, anos_primeira_solicitacao, flag_inadimplencia_hist]\n",
       "Index: []"
      ]
     },
     "execution_count": 34,
     "metadata": {},
     "output_type": "execute_result"
    }
   ],
   "source": [
    "base_tratada.query(\"anos_primeira_solicitacao >= idade_solicitante\")"
   ]
  },
  {
   "cell_type": "markdown",
   "id": "7131fc99",
   "metadata": {},
   "source": [
    "### Flag inadimplencia histórica"
   ]
  },
  {
   "cell_type": "code",
   "execution_count": 35,
   "id": "d6276d0b",
   "metadata": {},
   "outputs": [
    {
     "data": {
      "text/plain": [
       "0    23576\n",
       "1     5117\n",
       "        79\n",
       "Name: flag_inadimplencia_hist, dtype: int64"
      ]
     },
     "execution_count": 35,
     "metadata": {},
     "output_type": "execute_result"
    }
   ],
   "source": [
    "base_tratada.flag_inadimplencia_hist.value_counts()"
   ]
  },
  {
   "cell_type": "markdown",
   "id": "0750a808",
   "metadata": {},
   "source": [
    "Vou replicar essas informações"
   ]
  },
  {
   "cell_type": "code",
   "execution_count": 36,
   "id": "bee1c094",
   "metadata": {},
   "outputs": [
    {
     "data": {
      "text/html": [
       "<div>\n",
       "<style scoped>\n",
       "    .dataframe tbody tr th:only-of-type {\n",
       "        vertical-align: middle;\n",
       "    }\n",
       "\n",
       "    .dataframe tbody tr th {\n",
       "        vertical-align: top;\n",
       "    }\n",
       "\n",
       "    .dataframe thead th {\n",
       "        text-align: right;\n",
       "    }\n",
       "</style>\n",
       "<table border=\"1\" class=\"dataframe\">\n",
       "  <thead>\n",
       "    <tr style=\"text-align: right;\">\n",
       "      <th></th>\n",
       "      <th>flag_inadimplencia</th>\n",
       "      <th>flag_inadimplencia_hist</th>\n",
       "    </tr>\n",
       "  </thead>\n",
       "  <tbody>\n",
       "    <tr>\n",
       "      <th>398</th>\n",
       "      <td>0.0</td>\n",
       "      <td></td>\n",
       "    </tr>\n",
       "    <tr>\n",
       "      <th>501</th>\n",
       "      <td>1.0</td>\n",
       "      <td></td>\n",
       "    </tr>\n",
       "    <tr>\n",
       "      <th>1260</th>\n",
       "      <td>1.0</td>\n",
       "      <td></td>\n",
       "    </tr>\n",
       "    <tr>\n",
       "      <th>1436</th>\n",
       "      <td>0.0</td>\n",
       "      <td></td>\n",
       "    </tr>\n",
       "    <tr>\n",
       "      <th>2832</th>\n",
       "      <td>0.0</td>\n",
       "      <td></td>\n",
       "    </tr>\n",
       "    <tr>\n",
       "      <th>...</th>\n",
       "      <td>...</td>\n",
       "      <td>...</td>\n",
       "    </tr>\n",
       "    <tr>\n",
       "      <th>30301</th>\n",
       "      <td>0.0</td>\n",
       "      <td></td>\n",
       "    </tr>\n",
       "    <tr>\n",
       "      <th>31448</th>\n",
       "      <td>1.0</td>\n",
       "      <td></td>\n",
       "    </tr>\n",
       "    <tr>\n",
       "      <th>31607</th>\n",
       "      <td>0.0</td>\n",
       "      <td></td>\n",
       "    </tr>\n",
       "    <tr>\n",
       "      <th>33548</th>\n",
       "      <td>1.0</td>\n",
       "      <td></td>\n",
       "    </tr>\n",
       "    <tr>\n",
       "      <th>33960</th>\n",
       "      <td>0.0</td>\n",
       "      <td></td>\n",
       "    </tr>\n",
       "  </tbody>\n",
       "</table>\n",
       "<p>79 rows × 2 columns</p>\n",
       "</div>"
      ],
      "text/plain": [
       "       flag_inadimplencia flag_inadimplencia_hist\n",
       "398                   0.0                        \n",
       "501                   1.0                        \n",
       "1260                  1.0                        \n",
       "1436                  0.0                        \n",
       "2832                  0.0                        \n",
       "...                   ...                     ...\n",
       "30301                 0.0                        \n",
       "31448                 1.0                        \n",
       "31607                 0.0                        \n",
       "33548                 1.0                        \n",
       "33960                 0.0                        \n",
       "\n",
       "[79 rows x 2 columns]"
      ]
     },
     "execution_count": 36,
     "metadata": {},
     "output_type": "execute_result"
    }
   ],
   "source": [
    "base_tratada.query('flag_inadimplencia_hist == \"\"')[['flag_inadimplencia', 'flag_inadimplencia_hist']]"
   ]
  },
  {
   "cell_type": "code",
   "execution_count": 37,
   "id": "c5b04863",
   "metadata": {},
   "outputs": [],
   "source": [
    "ix_flag_inad_hist_nula = base_tratada.query('flag_inadimplencia_hist == \"\"').index"
   ]
  },
  {
   "cell_type": "code",
   "execution_count": 38,
   "id": "02338ec3",
   "metadata": {},
   "outputs": [],
   "source": [
    "base_tratada.loc[ix_flag_inad_hist_nula, 'flag_inadimplencia_hist'] = base_tratada.loc[ix_flag_inad_hist_nula, 'flag_inadimplencia'].astype('int64')"
   ]
  },
  {
   "cell_type": "code",
   "execution_count": 39,
   "id": "5533ee2f",
   "metadata": {},
   "outputs": [],
   "source": [
    "base_tratada.flag_inadimplencia_hist = base_tratada.flag_inadimplencia_hist.astype('int64')"
   ]
  },
  {
   "cell_type": "code",
   "execution_count": 40,
   "id": "465d0dcf",
   "metadata": {},
   "outputs": [
    {
     "data": {
      "text/plain": [
       "0    23632\n",
       "1     5140\n",
       "Name: flag_inadimplencia_hist, dtype: int64"
      ]
     },
     "execution_count": 40,
     "metadata": {},
     "output_type": "execute_result"
    }
   ],
   "source": [
    "base_tratada.flag_inadimplencia_hist.value_counts()"
   ]
  },
  {
   "cell_type": "markdown",
   "id": "ea3b3eeb",
   "metadata": {},
   "source": [
    "## Visualização dos dados"
   ]
  },
  {
   "cell_type": "markdown",
   "id": "d23f159a",
   "metadata": {},
   "source": [
    "Vou fazer uma análise visual entre as colunas e a variável target. Agora as colunas de identificação não serão necessárias"
   ]
  },
  {
   "cell_type": "code",
   "execution_count": 41,
   "id": "f7a26bd3",
   "metadata": {},
   "outputs": [],
   "source": [
    "base_tratada.drop(columns=['id_solicitante', 'id_emprestimo', 'id_historico'], inplace=True)"
   ]
  },
  {
   "cell_type": "code",
   "execution_count": 42,
   "id": "2075954c",
   "metadata": {},
   "outputs": [
    {
     "data": {
      "text/plain": [
       "Index(['idade_solicitante', 'salario_solicitante', 'situacao_propriedade',\n",
       "       'tempo_trabalhado', 'motivo', 'pontuacao', 'valor_solicitado',\n",
       "       'taxa_juros', 'percentual_renda', 'flag_inadimplencia',\n",
       "       'anos_primeira_solicitacao', 'flag_inadimplencia_hist'],\n",
       "      dtype='object')"
      ]
     },
     "execution_count": 42,
     "metadata": {},
     "output_type": "execute_result"
    }
   ],
   "source": [
    "base_tratada.columns"
   ]
  },
  {
   "cell_type": "markdown",
   "id": "b6175528",
   "metadata": {},
   "source": [
    "Vou primeiro explorar as variáveis categóricas e depois as numéricas"
   ]
  },
  {
   "cell_type": "markdown",
   "id": "0da00199",
   "metadata": {},
   "source": [
    "### Categóricas"
   ]
  },
  {
   "cell_type": "markdown",
   "id": "f1766a97",
   "metadata": {},
   "source": [
    "#### Situação da propriedade"
   ]
  },
  {
   "cell_type": "code",
   "execution_count": 43,
   "id": "25845677",
   "metadata": {},
   "outputs": [
    {
     "data": {
      "text/html": [
       "<div>\n",
       "<style scoped>\n",
       "    .dataframe tbody tr th:only-of-type {\n",
       "        vertical-align: middle;\n",
       "    }\n",
       "\n",
       "    .dataframe tbody tr th {\n",
       "        vertical-align: top;\n",
       "    }\n",
       "\n",
       "    .dataframe thead th {\n",
       "        text-align: right;\n",
       "    }\n",
       "</style>\n",
       "<table border=\"1\" class=\"dataframe\">\n",
       "  <thead>\n",
       "    <tr style=\"text-align: right;\">\n",
       "      <th>flag_inadimplencia</th>\n",
       "      <th>0.0</th>\n",
       "      <th>1.0</th>\n",
       "    </tr>\n",
       "    <tr>\n",
       "      <th>situacao_propriedade</th>\n",
       "      <th></th>\n",
       "      <th></th>\n",
       "    </tr>\n",
       "  </thead>\n",
       "  <tbody>\n",
       "    <tr>\n",
       "      <th>Alugada</th>\n",
       "      <td>68.754287</td>\n",
       "      <td>31.245713</td>\n",
       "    </tr>\n",
       "    <tr>\n",
       "      <th>Hipotecada</th>\n",
       "      <td>87.378394</td>\n",
       "      <td>12.621606</td>\n",
       "    </tr>\n",
       "    <tr>\n",
       "      <th>Outros</th>\n",
       "      <td>72.000000</td>\n",
       "      <td>28.000000</td>\n",
       "    </tr>\n",
       "    <tr>\n",
       "      <th>Própria</th>\n",
       "      <td>93.175614</td>\n",
       "      <td>6.824386</td>\n",
       "    </tr>\n",
       "  </tbody>\n",
       "</table>\n",
       "</div>"
      ],
      "text/plain": [
       "flag_inadimplencia          0.0        1.0\n",
       "situacao_propriedade                      \n",
       "Alugada               68.754287  31.245713\n",
       "Hipotecada            87.378394  12.621606\n",
       "Outros                72.000000  28.000000\n",
       "Própria               93.175614   6.824386"
      ]
     },
     "execution_count": 43,
     "metadata": {},
     "output_type": "execute_result"
    }
   ],
   "source": [
    "pd.crosstab(index = base_tratada['situacao_propriedade'],\n",
    "            columns = base_tratada['flag_inadimplencia'], \n",
    "            normalize = 'index') * 100"
   ]
  },
  {
   "cell_type": "code",
   "execution_count": 44,
   "id": "12a13c25",
   "metadata": {},
   "outputs": [
    {
     "data": {
      "image/png": "[encoded data removed]",
      "text/plain": [
       "<Figure size 864x504 with 1 Axes>"
      ]
     },
     "metadata": {
      "needs_background": "light"
     },
     "output_type": "display_data"
    }
   ],
   "source": [
    "plt.figure(figsize=(12,7))\n",
    "ax = sns.countplot(data=base_tratada, x='situacao_propriedade', hue='flag_inadimplencia')\n",
    "ax.get_yaxis().set_visible(False)\n",
    "plt.xlabel('Situação de propriedade')\n",
    "ax.bar_label(container = ax.containers[0])\n",
    "ax.bar_label(container = ax.containers[1])\n",
    "\n",
    "plt.show()"
   ]
  },
  {
   "cell_type": "markdown",
   "id": "dcd3cf3e",
   "metadata": {},
   "source": [
    "#### Motivo da solicitação"
   ]
  },
  {
   "cell_type": "code",
   "execution_count": 45,
   "id": "dc4510b1",
   "metadata": {},
   "outputs": [
    {
     "data": {
      "text/html": [
       "<div>\n",
       "<style scoped>\n",
       "    .dataframe tbody tr th:only-of-type {\n",
       "        vertical-align: middle;\n",
       "    }\n",
       "\n",
       "    .dataframe tbody tr th {\n",
       "        vertical-align: top;\n",
       "    }\n",
       "\n",
       "    .dataframe thead th {\n",
       "        text-align: right;\n",
       "    }\n",
       "</style>\n",
       "<table border=\"1\" class=\"dataframe\">\n",
       "  <thead>\n",
       "    <tr style=\"text-align: right;\">\n",
       "      <th>flag_inadimplencia</th>\n",
       "      <th>0.0</th>\n",
       "      <th>1.0</th>\n",
       "    </tr>\n",
       "    <tr>\n",
       "      <th>motivo</th>\n",
       "      <th></th>\n",
       "      <th></th>\n",
       "    </tr>\n",
       "  </thead>\n",
       "  <tbody>\n",
       "    <tr>\n",
       "      <th>Educativo</th>\n",
       "      <td>82.959720</td>\n",
       "      <td>17.040280</td>\n",
       "    </tr>\n",
       "    <tr>\n",
       "      <th>Empreendimento</th>\n",
       "      <td>85.358069</td>\n",
       "      <td>14.641931</td>\n",
       "    </tr>\n",
       "    <tr>\n",
       "      <th>Melhora do lar</th>\n",
       "      <td>74.391765</td>\n",
       "      <td>25.608235</td>\n",
       "    </tr>\n",
       "    <tr>\n",
       "      <th>Médico</th>\n",
       "      <td>73.134891</td>\n",
       "      <td>26.865109</td>\n",
       "    </tr>\n",
       "    <tr>\n",
       "      <th>Outros</th>\n",
       "      <td>60.563380</td>\n",
       "      <td>39.436620</td>\n",
       "    </tr>\n",
       "    <tr>\n",
       "      <th>Pagamento de débitos</th>\n",
       "      <td>71.634615</td>\n",
       "      <td>28.365385</td>\n",
       "    </tr>\n",
       "    <tr>\n",
       "      <th>Pessoal</th>\n",
       "      <td>80.237316</td>\n",
       "      <td>19.762684</td>\n",
       "    </tr>\n",
       "  </tbody>\n",
       "</table>\n",
       "</div>"
      ],
      "text/plain": [
       "flag_inadimplencia          0.0        1.0\n",
       "motivo                                    \n",
       "Educativo             82.959720  17.040280\n",
       "Empreendimento        85.358069  14.641931\n",
       "Melhora do lar        74.391765  25.608235\n",
       "Médico                73.134891  26.865109\n",
       "Outros                60.563380  39.436620\n",
       "Pagamento de débitos  71.634615  28.365385\n",
       "Pessoal               80.237316  19.762684"
      ]
     },
     "execution_count": 45,
     "metadata": {},
     "output_type": "execute_result"
    }
   ],
   "source": [
    "pd.crosstab(index = base_tratada['motivo'],\n",
    "            columns = base_tratada['flag_inadimplencia'], \n",
    "            normalize = 'index') * 100"
   ]
  },
  {
   "cell_type": "code",
   "execution_count": 46,
   "id": "35ee57d6",
   "metadata": {},
   "outputs": [
    {
     "data": {
      "image/png": "[encoded data removed]",
      "text/plain": [
       "<Figure size 1008x504 with 1 Axes>"
      ]
     },
     "metadata": {
      "needs_background": "light"
     },
     "output_type": "display_data"
    }
   ],
   "source": [
    "plt.figure(figsize=(14,7))\n",
    "ax = sns.countplot(data=base_tratada, x='motivo', hue='flag_inadimplencia')\n",
    "ax.get_yaxis().set_visible(False)\n",
    "plt.xlabel('Motivo')\n",
    "ax.bar_label(container = ax.containers[0])\n",
    "ax.bar_label(container = ax.containers[1])\n",
    "\n",
    "plt.show()"
   ]
  },
  {
   "cell_type": "markdown",
   "id": "bfcfceb2",
   "metadata": {},
   "source": [
    "#### Pontuação"
   ]
  },
  {
   "cell_type": "code",
   "execution_count": 47,
   "id": "1b74ee1f",
   "metadata": {},
   "outputs": [
    {
     "data": {
      "text/html": [
       "<div>\n",
       "<style scoped>\n",
       "    .dataframe tbody tr th:only-of-type {\n",
       "        vertical-align: middle;\n",
       "    }\n",
       "\n",
       "    .dataframe tbody tr th {\n",
       "        vertical-align: top;\n",
       "    }\n",
       "\n",
       "    .dataframe thead th {\n",
       "        text-align: right;\n",
       "    }\n",
       "</style>\n",
       "<table border=\"1\" class=\"dataframe\">\n",
       "  <thead>\n",
       "    <tr style=\"text-align: right;\">\n",
       "      <th>flag_inadimplencia</th>\n",
       "      <th>0.0</th>\n",
       "      <th>1.0</th>\n",
       "    </tr>\n",
       "    <tr>\n",
       "      <th>pontuacao</th>\n",
       "      <th></th>\n",
       "      <th></th>\n",
       "    </tr>\n",
       "  </thead>\n",
       "  <tbody>\n",
       "    <tr>\n",
       "      <th>A</th>\n",
       "      <td>90.307904</td>\n",
       "      <td>9.692096</td>\n",
       "    </tr>\n",
       "    <tr>\n",
       "      <th>B</th>\n",
       "      <td>84.011754</td>\n",
       "      <td>15.988246</td>\n",
       "    </tr>\n",
       "    <tr>\n",
       "      <th>C</th>\n",
       "      <td>79.640614</td>\n",
       "      <td>20.359386</td>\n",
       "    </tr>\n",
       "    <tr>\n",
       "      <th>D</th>\n",
       "      <td>40.865827</td>\n",
       "      <td>59.134173</td>\n",
       "    </tr>\n",
       "    <tr>\n",
       "      <th>E</th>\n",
       "      <td>35.583524</td>\n",
       "      <td>64.416476</td>\n",
       "    </tr>\n",
       "    <tr>\n",
       "      <th>F</th>\n",
       "      <td>30.331754</td>\n",
       "      <td>69.668246</td>\n",
       "    </tr>\n",
       "    <tr>\n",
       "      <th>G</th>\n",
       "      <td>1.694915</td>\n",
       "      <td>98.305085</td>\n",
       "    </tr>\n",
       "  </tbody>\n",
       "</table>\n",
       "</div>"
      ],
      "text/plain": [
       "flag_inadimplencia        0.0        1.0\n",
       "pontuacao                               \n",
       "A                   90.307904   9.692096\n",
       "B                   84.011754  15.988246\n",
       "C                   79.640614  20.359386\n",
       "D                   40.865827  59.134173\n",
       "E                   35.583524  64.416476\n",
       "F                   30.331754  69.668246\n",
       "G                    1.694915  98.305085"
      ]
     },
     "execution_count": 47,
     "metadata": {},
     "output_type": "execute_result"
    }
   ],
   "source": [
    "pd.crosstab(index = base_tratada['pontuacao'],\n",
    "            columns = base_tratada['flag_inadimplencia'], \n",
    "            normalize = 'index') * 100"
   ]
  },
  {
   "cell_type": "code",
   "execution_count": 48,
   "id": "8a59c64d",
   "metadata": {},
   "outputs": [
    {
     "data": {
      "image/png": "[encoded data removed]",
      "text/plain": [
       "<Figure size 1008x504 with 1 Axes>"
      ]
     },
     "metadata": {
      "needs_background": "light"
     },
     "output_type": "display_data"
    }
   ],
   "source": [
    "plt.figure(figsize=(14,7))\n",
    "ax = sns.countplot(data=base_tratada, x='pontuacao', hue='flag_inadimplencia')\n",
    "ax.get_yaxis().set_visible(False)\n",
    "plt.xlabel('Motivo')\n",
    "ax.bar_label(container = ax.containers[0])\n",
    "ax.bar_label(container = ax.containers[1])\n",
    "\n",
    "plt.show()"
   ]
  },
  {
   "cell_type": "markdown",
   "id": "6e1945a2",
   "metadata": {},
   "source": [
    "### Númerica"
   ]
  },
  {
   "cell_type": "markdown",
   "id": "cc47ca33",
   "metadata": {},
   "source": [
    "#### Idade do solicitante"
   ]
  },
  {
   "cell_type": "code",
   "execution_count": 49,
   "id": "1b3295b3",
   "metadata": {},
   "outputs": [
    {
     "data": {
      "text/plain": [
       "<AxesSubplot:xlabel='flag_inadimplencia', ylabel='idade_solicitante'>"
      ]
     },
     "execution_count": 49,
     "metadata": {},
     "output_type": "execute_result"
    },
    {
     "data": {
      "image/png": "[encoded data removed]",
      "text/plain": [
       "<Figure size 432x288 with 1 Axes>"
      ]
     },
     "metadata": {
      "needs_background": "light"
     },
     "output_type": "display_data"
    }
   ],
   "source": [
    "sns.boxplot(data=base_tratada, x='flag_inadimplencia', y='idade_solicitante')"
   ]
  },
  {
   "cell_type": "code",
   "execution_count": 50,
   "id": "77cb6d48",
   "metadata": {
    "scrolled": true
   },
   "outputs": [
    {
     "data": {
      "text/html": [
       "<div>\n",
       "<style scoped>\n",
       "    .dataframe tbody tr th:only-of-type {\n",
       "        vertical-align: middle;\n",
       "    }\n",
       "\n",
       "    .dataframe tbody tr th {\n",
       "        vertical-align: top;\n",
       "    }\n",
       "\n",
       "    .dataframe thead th {\n",
       "        text-align: right;\n",
       "    }\n",
       "</style>\n",
       "<table border=\"1\" class=\"dataframe\">\n",
       "  <thead>\n",
       "    <tr style=\"text-align: right;\">\n",
       "      <th></th>\n",
       "      <th>count</th>\n",
       "      <th>mean</th>\n",
       "      <th>std</th>\n",
       "      <th>min</th>\n",
       "      <th>25%</th>\n",
       "      <th>50%</th>\n",
       "      <th>75%</th>\n",
       "      <th>max</th>\n",
       "    </tr>\n",
       "    <tr>\n",
       "      <th>flag_inadimplencia</th>\n",
       "      <th></th>\n",
       "      <th></th>\n",
       "      <th></th>\n",
       "      <th></th>\n",
       "      <th></th>\n",
       "      <th></th>\n",
       "      <th></th>\n",
       "      <th></th>\n",
       "    </tr>\n",
       "  </thead>\n",
       "  <tbody>\n",
       "    <tr>\n",
       "      <th>0.0</th>\n",
       "      <td>22526.0</td>\n",
       "      <td>27.780831</td>\n",
       "      <td>6.135651</td>\n",
       "      <td>20.0</td>\n",
       "      <td>23.0</td>\n",
       "      <td>26.0</td>\n",
       "      <td>30.0</td>\n",
       "      <td>78.0</td>\n",
       "    </tr>\n",
       "    <tr>\n",
       "      <th>1.0</th>\n",
       "      <td>6246.0</td>\n",
       "      <td>27.451969</td>\n",
       "      <td>6.214076</td>\n",
       "      <td>20.0</td>\n",
       "      <td>23.0</td>\n",
       "      <td>26.0</td>\n",
       "      <td>30.0</td>\n",
       "      <td>70.0</td>\n",
       "    </tr>\n",
       "  </tbody>\n",
       "</table>\n",
       "</div>"
      ],
      "text/plain": [
       "                      count       mean       std   min   25%   50%   75%   max\n",
       "flag_inadimplencia                                                            \n",
       "0.0                 22526.0  27.780831  6.135651  20.0  23.0  26.0  30.0  78.0\n",
       "1.0                  6246.0  27.451969  6.214076  20.0  23.0  26.0  30.0  70.0"
      ]
     },
     "execution_count": 50,
     "metadata": {},
     "output_type": "execute_result"
    }
   ],
   "source": [
    "base_tratada.groupby('flag_inadimplencia').describe().idade_solicitante"
   ]
  },
  {
   "cell_type": "markdown",
   "id": "43e744ac",
   "metadata": {},
   "source": [
    "#### Salário do solicitante"
   ]
  },
  {
   "cell_type": "code",
   "execution_count": 51,
   "id": "8059e3e8",
   "metadata": {},
   "outputs": [
    {
     "data": {
      "text/plain": [
       "<AxesSubplot:xlabel='flag_inadimplencia', ylabel='salario_solicitante'>"
      ]
     },
     "execution_count": 51,
     "metadata": {},
     "output_type": "execute_result"
    },
    {
     "data": {
      "image/png": "[encoded data removed]",
      "text/plain": [
       "<Figure size 432x288 with 1 Axes>"
      ]
     },
     "metadata": {
      "needs_background": "light"
     },
     "output_type": "display_data"
    }
   ],
   "source": [
    "sns.boxplot(data=base_tratada, x='flag_inadimplencia', y='salario_solicitante')"
   ]
  },
  {
   "cell_type": "code",
   "execution_count": 52,
   "id": "2b114d78",
   "metadata": {},
   "outputs": [
    {
     "data": {
      "text/html": [
       "<div>\n",
       "<style scoped>\n",
       "    .dataframe tbody tr th:only-of-type {\n",
       "        vertical-align: middle;\n",
       "    }\n",
       "\n",
       "    .dataframe tbody tr th {\n",
       "        vertical-align: top;\n",
       "    }\n",
       "\n",
       "    .dataframe thead th {\n",
       "        text-align: right;\n",
       "    }\n",
       "</style>\n",
       "<table border=\"1\" class=\"dataframe\">\n",
       "  <thead>\n",
       "    <tr style=\"text-align: right;\">\n",
       "      <th></th>\n",
       "      <th>count</th>\n",
       "      <th>mean</th>\n",
       "      <th>std</th>\n",
       "      <th>min</th>\n",
       "      <th>25%</th>\n",
       "      <th>50%</th>\n",
       "      <th>75%</th>\n",
       "      <th>max</th>\n",
       "    </tr>\n",
       "    <tr>\n",
       "      <th>flag_inadimplencia</th>\n",
       "      <th></th>\n",
       "      <th></th>\n",
       "      <th></th>\n",
       "      <th></th>\n",
       "      <th></th>\n",
       "      <th></th>\n",
       "      <th></th>\n",
       "      <th></th>\n",
       "    </tr>\n",
       "  </thead>\n",
       "  <tbody>\n",
       "    <tr>\n",
       "      <th>0.0</th>\n",
       "      <td>22526.0</td>\n",
       "      <td>70907.024327</td>\n",
       "      <td>53982.140733</td>\n",
       "      <td>7200.0</td>\n",
       "      <td>42500.0</td>\n",
       "      <td>60000.0</td>\n",
       "      <td>85000.0</td>\n",
       "      <td>2039784.0</td>\n",
       "    </tr>\n",
       "    <tr>\n",
       "      <th>1.0</th>\n",
       "      <td>6246.0</td>\n",
       "      <td>50102.116715</td>\n",
       "      <td>36846.542936</td>\n",
       "      <td>4000.0</td>\n",
       "      <td>30000.0</td>\n",
       "      <td>42000.0</td>\n",
       "      <td>60000.0</td>\n",
       "      <td>703800.0</td>\n",
       "    </tr>\n",
       "  </tbody>\n",
       "</table>\n",
       "</div>"
      ],
      "text/plain": [
       "                      count          mean           std     min      25%  \\\n",
       "flag_inadimplencia                                                         \n",
       "0.0                 22526.0  70907.024327  53982.140733  7200.0  42500.0   \n",
       "1.0                  6246.0  50102.116715  36846.542936  4000.0  30000.0   \n",
       "\n",
       "                        50%      75%        max  \n",
       "flag_inadimplencia                               \n",
       "0.0                 60000.0  85000.0  2039784.0  \n",
       "1.0                 42000.0  60000.0   703800.0  "
      ]
     },
     "execution_count": 52,
     "metadata": {},
     "output_type": "execute_result"
    }
   ],
   "source": [
    "base_tratada.groupby('flag_inadimplencia').describe().salario_solicitante"
   ]
  },
  {
   "cell_type": "markdown",
   "id": "a4f14c43",
   "metadata": {},
   "source": [
    "#### Tempo de trabalho"
   ]
  },
  {
   "cell_type": "code",
   "execution_count": 53,
   "id": "8a93e359",
   "metadata": {},
   "outputs": [
    {
     "data": {
      "text/plain": [
       "<AxesSubplot:xlabel='flag_inadimplencia', ylabel='tempo_trabalhado'>"
      ]
     },
     "execution_count": 53,
     "metadata": {},
     "output_type": "execute_result"
    },
    {
     "data": {
      "image/png": "[encoded data removed]",
      "text/plain": [
       "<Figure size 432x288 with 1 Axes>"
      ]
     },
     "metadata": {
      "needs_background": "light"
     },
     "output_type": "display_data"
    }
   ],
   "source": [
    "sns.boxplot(data=base_tratada, x='flag_inadimplencia', y='tempo_trabalhado')"
   ]
  },
  {
   "cell_type": "code",
   "execution_count": 54,
   "id": "3d3606c0",
   "metadata": {
    "scrolled": true
   },
   "outputs": [
    {
     "data": {
      "text/html": [
       "<div>\n",
       "<style scoped>\n",
       "    .dataframe tbody tr th:only-of-type {\n",
       "        vertical-align: middle;\n",
       "    }\n",
       "\n",
       "    .dataframe tbody tr th {\n",
       "        vertical-align: top;\n",
       "    }\n",
       "\n",
       "    .dataframe thead th {\n",
       "        text-align: right;\n",
       "    }\n",
       "</style>\n",
       "<table border=\"1\" class=\"dataframe\">\n",
       "  <thead>\n",
       "    <tr style=\"text-align: right;\">\n",
       "      <th></th>\n",
       "      <th>count</th>\n",
       "      <th>mean</th>\n",
       "      <th>std</th>\n",
       "      <th>min</th>\n",
       "      <th>25%</th>\n",
       "      <th>50%</th>\n",
       "      <th>75%</th>\n",
       "      <th>max</th>\n",
       "    </tr>\n",
       "    <tr>\n",
       "      <th>flag_inadimplencia</th>\n",
       "      <th></th>\n",
       "      <th></th>\n",
       "      <th></th>\n",
       "      <th></th>\n",
       "      <th></th>\n",
       "      <th></th>\n",
       "      <th></th>\n",
       "      <th></th>\n",
       "    </tr>\n",
       "  </thead>\n",
       "  <tbody>\n",
       "    <tr>\n",
       "      <th>0.0</th>\n",
       "      <td>22526.0</td>\n",
       "      <td>4.964264</td>\n",
       "      <td>4.059744</td>\n",
       "      <td>0.0</td>\n",
       "      <td>2.0</td>\n",
       "      <td>4.0</td>\n",
       "      <td>7.0</td>\n",
       "      <td>41.0</td>\n",
       "    </tr>\n",
       "    <tr>\n",
       "      <th>1.0</th>\n",
       "      <td>6246.0</td>\n",
       "      <td>4.120717</td>\n",
       "      <td>3.875091</td>\n",
       "      <td>0.0</td>\n",
       "      <td>1.0</td>\n",
       "      <td>3.0</td>\n",
       "      <td>6.0</td>\n",
       "      <td>34.0</td>\n",
       "    </tr>\n",
       "  </tbody>\n",
       "</table>\n",
       "</div>"
      ],
      "text/plain": [
       "                      count      mean       std  min  25%  50%  75%   max\n",
       "flag_inadimplencia                                                       \n",
       "0.0                 22526.0  4.964264  4.059744  0.0  2.0  4.0  7.0  41.0\n",
       "1.0                  6246.0  4.120717  3.875091  0.0  1.0  3.0  6.0  34.0"
      ]
     },
     "execution_count": 54,
     "metadata": {},
     "output_type": "execute_result"
    }
   ],
   "source": [
    "base_tratada.groupby('flag_inadimplencia').describe().tempo_trabalhado"
   ]
  },
  {
   "cell_type": "markdown",
   "id": "13ed4d05",
   "metadata": {},
   "source": [
    "#### Valor solicitado"
   ]
  },
  {
   "cell_type": "code",
   "execution_count": 55,
   "id": "0fd98235",
   "metadata": {},
   "outputs": [
    {
     "data": {
      "text/plain": [
       "<AxesSubplot:xlabel='flag_inadimplencia', ylabel='valor_solicitado'>"
      ]
     },
     "execution_count": 55,
     "metadata": {},
     "output_type": "execute_result"
    },
    {
     "data": {
      "image/png": "[encoded data removed]",
      "text/plain": [
       "<Figure size 432x288 with 1 Axes>"
      ]
     },
     "metadata": {
      "needs_background": "light"
     },
     "output_type": "display_data"
    }
   ],
   "source": [
    "sns.boxplot(data=base_tratada, x='flag_inadimplencia', y='valor_solicitado')"
   ]
  },
  {
   "cell_type": "code",
   "execution_count": 56,
   "id": "3e6e4fc6",
   "metadata": {},
   "outputs": [
    {
     "data": {
      "text/html": [
       "<div>\n",
       "<style scoped>\n",
       "    .dataframe tbody tr th:only-of-type {\n",
       "        vertical-align: middle;\n",
       "    }\n",
       "\n",
       "    .dataframe tbody tr th {\n",
       "        vertical-align: top;\n",
       "    }\n",
       "\n",
       "    .dataframe thead th {\n",
       "        text-align: right;\n",
       "    }\n",
       "</style>\n",
       "<table border=\"1\" class=\"dataframe\">\n",
       "  <thead>\n",
       "    <tr style=\"text-align: right;\">\n",
       "      <th></th>\n",
       "      <th>count</th>\n",
       "      <th>mean</th>\n",
       "      <th>std</th>\n",
       "      <th>min</th>\n",
       "      <th>25%</th>\n",
       "      <th>50%</th>\n",
       "      <th>75%</th>\n",
       "      <th>max</th>\n",
       "    </tr>\n",
       "    <tr>\n",
       "      <th>flag_inadimplencia</th>\n",
       "      <th></th>\n",
       "      <th></th>\n",
       "      <th></th>\n",
       "      <th></th>\n",
       "      <th></th>\n",
       "      <th></th>\n",
       "      <th></th>\n",
       "      <th></th>\n",
       "    </tr>\n",
       "  </thead>\n",
       "  <tbody>\n",
       "    <tr>\n",
       "      <th>0.0</th>\n",
       "      <td>22526.0</td>\n",
       "      <td>9276.087632</td>\n",
       "      <td>6023.141452</td>\n",
       "      <td>500.0</td>\n",
       "      <td>5000.0</td>\n",
       "      <td>8000.0</td>\n",
       "      <td>12000.0</td>\n",
       "      <td>35000.0</td>\n",
       "    </tr>\n",
       "    <tr>\n",
       "      <th>1.0</th>\n",
       "      <td>6246.0</td>\n",
       "      <td>11024.267531</td>\n",
       "      <td>7155.580244</td>\n",
       "      <td>900.0</td>\n",
       "      <td>5000.0</td>\n",
       "      <td>10000.0</td>\n",
       "      <td>15000.0</td>\n",
       "      <td>35000.0</td>\n",
       "    </tr>\n",
       "  </tbody>\n",
       "</table>\n",
       "</div>"
      ],
      "text/plain": [
       "                      count          mean          std    min     25%  \\\n",
       "flag_inadimplencia                                                      \n",
       "0.0                 22526.0   9276.087632  6023.141452  500.0  5000.0   \n",
       "1.0                  6246.0  11024.267531  7155.580244  900.0  5000.0   \n",
       "\n",
       "                        50%      75%      max  \n",
       "flag_inadimplencia                             \n",
       "0.0                  8000.0  12000.0  35000.0  \n",
       "1.0                 10000.0  15000.0  35000.0  "
      ]
     },
     "execution_count": 56,
     "metadata": {},
     "output_type": "execute_result"
    }
   ],
   "source": [
    "base_tratada.groupby('flag_inadimplencia').describe().valor_solicitado"
   ]
  },
  {
   "cell_type": "markdown",
   "id": "6f9e2813",
   "metadata": {},
   "source": [
    "#### Taxa de juros"
   ]
  },
  {
   "cell_type": "code",
   "execution_count": 57,
   "id": "e7413840",
   "metadata": {
    "scrolled": true
   },
   "outputs": [
    {
     "data": {
      "text/plain": [
       "<AxesSubplot:xlabel='flag_inadimplencia', ylabel='taxa_juros'>"
      ]
     },
     "execution_count": 57,
     "metadata": {},
     "output_type": "execute_result"
    },
    {
     "data": {
      "image/png": "[encoded data removed]",
      "text/plain": [
       "<Figure size 432x288 with 1 Axes>"
      ]
     },
     "metadata": {
      "needs_background": "light"
     },
     "output_type": "display_data"
    }
   ],
   "source": [
    "sns.boxplot(data=base_tratada, x='flag_inadimplencia', y='taxa_juros')"
   ]
  },
  {
   "cell_type": "code",
   "execution_count": 58,
   "id": "eaca9d90",
   "metadata": {},
   "outputs": [
    {
     "data": {
      "text/html": [
       "<div>\n",
       "<style scoped>\n",
       "    .dataframe tbody tr th:only-of-type {\n",
       "        vertical-align: middle;\n",
       "    }\n",
       "\n",
       "    .dataframe tbody tr th {\n",
       "        vertical-align: top;\n",
       "    }\n",
       "\n",
       "    .dataframe thead th {\n",
       "        text-align: right;\n",
       "    }\n",
       "</style>\n",
       "<table border=\"1\" class=\"dataframe\">\n",
       "  <thead>\n",
       "    <tr style=\"text-align: right;\">\n",
       "      <th></th>\n",
       "      <th>count</th>\n",
       "      <th>mean</th>\n",
       "      <th>std</th>\n",
       "      <th>min</th>\n",
       "      <th>25%</th>\n",
       "      <th>50%</th>\n",
       "      <th>75%</th>\n",
       "      <th>max</th>\n",
       "    </tr>\n",
       "    <tr>\n",
       "      <th>flag_inadimplencia</th>\n",
       "      <th></th>\n",
       "      <th></th>\n",
       "      <th></th>\n",
       "      <th></th>\n",
       "      <th></th>\n",
       "      <th></th>\n",
       "      <th></th>\n",
       "      <th></th>\n",
       "    </tr>\n",
       "  </thead>\n",
       "  <tbody>\n",
       "    <tr>\n",
       "      <th>0.0</th>\n",
       "      <td>22526.0</td>\n",
       "      <td>10.464154</td>\n",
       "      <td>2.972900</td>\n",
       "      <td>5.42</td>\n",
       "      <td>7.74</td>\n",
       "      <td>10.62</td>\n",
       "      <td>12.69</td>\n",
       "      <td>22.06</td>\n",
       "    </tr>\n",
       "    <tr>\n",
       "      <th>1.0</th>\n",
       "      <td>6246.0</td>\n",
       "      <td>13.125692</td>\n",
       "      <td>3.261211</td>\n",
       "      <td>5.42</td>\n",
       "      <td>10.91</td>\n",
       "      <td>13.49</td>\n",
       "      <td>15.58</td>\n",
       "      <td>23.22</td>\n",
       "    </tr>\n",
       "  </tbody>\n",
       "</table>\n",
       "</div>"
      ],
      "text/plain": [
       "                      count       mean       std   min    25%    50%    75%  \\\n",
       "flag_inadimplencia                                                            \n",
       "0.0                 22526.0  10.464154  2.972900  5.42   7.74  10.62  12.69   \n",
       "1.0                  6246.0  13.125692  3.261211  5.42  10.91  13.49  15.58   \n",
       "\n",
       "                      max  \n",
       "flag_inadimplencia         \n",
       "0.0                 22.06  \n",
       "1.0                 23.22  "
      ]
     },
     "execution_count": 58,
     "metadata": {},
     "output_type": "execute_result"
    }
   ],
   "source": [
    "base_tratada.groupby('flag_inadimplencia').describe().taxa_juros"
   ]
  },
  {
   "cell_type": "markdown",
   "id": "7b734eb4",
   "metadata": {},
   "source": [
    "Avaliando visualmente as proporções de inadimplência, foi possível notar os seguintes pontos de atenção:\n",
    "1. Empréstimos em que o solicitante possui uma casa alugada tem maior incidência de inadimplência em relação as outras situações de imóveis.\n",
    "1. A pontuação segue um padrão esperado, 'A' tem a menor quantidade de clientes inadimplentes enquanto G tem a maior\n",
    "1. A taxa de juros se mostra bem maior nos clientes inadimplentes em relação aos não inadimplentes."
   ]
  },
  {
   "cell_type": "markdown",
   "id": "b3326ab9",
   "metadata": {},
   "source": [
    "Antes dos tratamentos, vou exportar a base "
   ]
  },
  {
   "cell_type": "code",
   "execution_count": 92,
   "id": "13e7c81e",
   "metadata": {},
   "outputs": [],
   "source": [
    "base_tratada.to_csv('../dados/base_estudo_tratada.csv', index_label=False, index=False, decimal=',')"
   ]
  },
  {
   "cell_type": "markdown",
   "id": "4139c0fa",
   "metadata": {},
   "source": [
    "### Correlação"
   ]
  },
  {
   "cell_type": "code",
   "execution_count": 60,
   "id": "14e70034",
   "metadata": {},
   "outputs": [
    {
     "data": {
      "image/png": "[encoded data removed]",
      "text/plain": [
       "<Figure size 1440x1152 with 2 Axes>"
      ]
     },
     "metadata": {
      "needs_background": "light"
     },
     "output_type": "display_data"
    }
   ],
   "source": [
    "fig, ax = plt.subplots(figsize=(20, 16))\n",
    "\n",
    "sns.heatmap(pd.get_dummies(base_tratada).corr(), annot=True)\n",
    "plt.show()"
   ]
  },
  {
   "cell_type": "markdown",
   "id": "26362d64",
   "metadata": {},
   "source": [
    "### Transformação de colunas categóricas"
   ]
  },
  {
   "cell_type": "markdown",
   "id": "4a7c76b4",
   "metadata": {},
   "source": [
    "Vou separar as colunas com valores categóricos em novas colunas. Para isso utilizarei o One Hot Encoder"
   ]
  },
  {
   "cell_type": "code",
   "execution_count": 61,
   "id": "1683d088",
   "metadata": {},
   "outputs": [],
   "source": [
    "from sklearn.compose import make_column_transformer\n",
    "from sklearn.preprocessing import OneHotEncoder"
   ]
  },
  {
   "cell_type": "markdown",
   "id": "371a06f8",
   "metadata": {},
   "source": [
    "Como visto, taxa de juros, propriedade alugada e pontuação 'baixa' tem maior correlação com inadimplência. Vou deletar a coluna de percentual renda pois ela nada mais é do um calculo com a taxa de juros, ou seja, redundante para o modelo.\n",
    "\n",
    "Vamos aos modelos!"
   ]
  },
  {
   "cell_type": "code",
   "execution_count": 62,
   "id": "2e5fcf55",
   "metadata": {},
   "outputs": [],
   "source": [
    "x = base_tratada.drop(columns=['flag_inadimplencia', 'percentual_renda'])\n",
    "y = base_tratada['flag_inadimplencia']"
   ]
  },
  {
   "cell_type": "code",
   "execution_count": 63,
   "id": "3fa1aa20",
   "metadata": {},
   "outputs": [],
   "source": [
    "colunas_categoricas = ['situacao_propriedade', 'motivo', 'pontuacao']"
   ]
  },
  {
   "cell_type": "code",
   "execution_count": 64,
   "id": "f4a80742",
   "metadata": {},
   "outputs": [
    {
     "data": {
      "text/html": [
       "<div>\n",
       "<style scoped>\n",
       "    .dataframe tbody tr th:only-of-type {\n",
       "        vertical-align: middle;\n",
       "    }\n",
       "\n",
       "    .dataframe tbody tr th {\n",
       "        vertical-align: top;\n",
       "    }\n",
       "\n",
       "    .dataframe thead th {\n",
       "        text-align: right;\n",
       "    }\n",
       "</style>\n",
       "<table border=\"1\" class=\"dataframe\">\n",
       "  <thead>\n",
       "    <tr style=\"text-align: right;\">\n",
       "      <th></th>\n",
       "      <th>situacao_propriedade_Alugada</th>\n",
       "      <th>situacao_propriedade_Hipotecada</th>\n",
       "      <th>situacao_propriedade_Outros</th>\n",
       "      <th>situacao_propriedade_Própria</th>\n",
       "      <th>motivo_Educativo</th>\n",
       "      <th>motivo_Empreendimento</th>\n",
       "      <th>motivo_Melhora do lar</th>\n",
       "      <th>motivo_Médico</th>\n",
       "      <th>motivo_Outros</th>\n",
       "      <th>motivo_Pagamento de débitos</th>\n",
       "      <th>...</th>\n",
       "      <th>pontuacao_E</th>\n",
       "      <th>pontuacao_F</th>\n",
       "      <th>pontuacao_G</th>\n",
       "      <th>idade_solicitante</th>\n",
       "      <th>salario_solicitante</th>\n",
       "      <th>tempo_trabalhado</th>\n",
       "      <th>valor_solicitado</th>\n",
       "      <th>taxa_juros</th>\n",
       "      <th>anos_primeira_solicitacao</th>\n",
       "      <th>flag_inadimplencia_hist</th>\n",
       "    </tr>\n",
       "  </thead>\n",
       "  <tbody>\n",
       "    <tr>\n",
       "      <th>0</th>\n",
       "      <td>1.0</td>\n",
       "      <td>0.0</td>\n",
       "      <td>0.0</td>\n",
       "      <td>0.0</td>\n",
       "      <td>0.0</td>\n",
       "      <td>1.0</td>\n",
       "      <td>0.0</td>\n",
       "      <td>0.0</td>\n",
       "      <td>0.0</td>\n",
       "      <td>0.0</td>\n",
       "      <td>...</td>\n",
       "      <td>1.0</td>\n",
       "      <td>0.0</td>\n",
       "      <td>0.0</td>\n",
       "      <td>23.0</td>\n",
       "      <td>68000.0</td>\n",
       "      <td>1.0</td>\n",
       "      <td>14400.0</td>\n",
       "      <td>17.99</td>\n",
       "      <td>2.0</td>\n",
       "      <td>0.0</td>\n",
       "    </tr>\n",
       "    <tr>\n",
       "      <th>1</th>\n",
       "      <td>1.0</td>\n",
       "      <td>0.0</td>\n",
       "      <td>0.0</td>\n",
       "      <td>0.0</td>\n",
       "      <td>0.0</td>\n",
       "      <td>1.0</td>\n",
       "      <td>0.0</td>\n",
       "      <td>0.0</td>\n",
       "      <td>0.0</td>\n",
       "      <td>0.0</td>\n",
       "      <td>...</td>\n",
       "      <td>0.0</td>\n",
       "      <td>0.0</td>\n",
       "      <td>0.0</td>\n",
       "      <td>25.0</td>\n",
       "      <td>45000.0</td>\n",
       "      <td>0.0</td>\n",
       "      <td>10000.0</td>\n",
       "      <td>12.98</td>\n",
       "      <td>2.0</td>\n",
       "      <td>1.0</td>\n",
       "    </tr>\n",
       "    <tr>\n",
       "      <th>2</th>\n",
       "      <td>1.0</td>\n",
       "      <td>0.0</td>\n",
       "      <td>0.0</td>\n",
       "      <td>0.0</td>\n",
       "      <td>0.0</td>\n",
       "      <td>0.0</td>\n",
       "      <td>0.0</td>\n",
       "      <td>0.0</td>\n",
       "      <td>0.0</td>\n",
       "      <td>1.0</td>\n",
       "      <td>...</td>\n",
       "      <td>0.0</td>\n",
       "      <td>0.0</td>\n",
       "      <td>0.0</td>\n",
       "      <td>23.0</td>\n",
       "      <td>65000.0</td>\n",
       "      <td>2.0</td>\n",
       "      <td>3600.0</td>\n",
       "      <td>11.49</td>\n",
       "      <td>2.0</td>\n",
       "      <td>0.0</td>\n",
       "    </tr>\n",
       "    <tr>\n",
       "      <th>3</th>\n",
       "      <td>1.0</td>\n",
       "      <td>0.0</td>\n",
       "      <td>0.0</td>\n",
       "      <td>0.0</td>\n",
       "      <td>1.0</td>\n",
       "      <td>0.0</td>\n",
       "      <td>0.0</td>\n",
       "      <td>0.0</td>\n",
       "      <td>0.0</td>\n",
       "      <td>0.0</td>\n",
       "      <td>...</td>\n",
       "      <td>0.0</td>\n",
       "      <td>0.0</td>\n",
       "      <td>0.0</td>\n",
       "      <td>23.0</td>\n",
       "      <td>45312.0</td>\n",
       "      <td>3.0</td>\n",
       "      <td>13500.0</td>\n",
       "      <td>7.88</td>\n",
       "      <td>3.0</td>\n",
       "      <td>0.0</td>\n",
       "    </tr>\n",
       "    <tr>\n",
       "      <th>4</th>\n",
       "      <td>1.0</td>\n",
       "      <td>0.0</td>\n",
       "      <td>0.0</td>\n",
       "      <td>0.0</td>\n",
       "      <td>1.0</td>\n",
       "      <td>0.0</td>\n",
       "      <td>0.0</td>\n",
       "      <td>0.0</td>\n",
       "      <td>0.0</td>\n",
       "      <td>0.0</td>\n",
       "      <td>...</td>\n",
       "      <td>0.0</td>\n",
       "      <td>0.0</td>\n",
       "      <td>0.0</td>\n",
       "      <td>22.0</td>\n",
       "      <td>64000.0</td>\n",
       "      <td>6.0</td>\n",
       "      <td>7000.0</td>\n",
       "      <td>5.79</td>\n",
       "      <td>3.0</td>\n",
       "      <td>0.0</td>\n",
       "    </tr>\n",
       "  </tbody>\n",
       "</table>\n",
       "<p>5 rows × 25 columns</p>\n",
       "</div>"
      ],
      "text/plain": [
       "   situacao_propriedade_Alugada  situacao_propriedade_Hipotecada  \\\n",
       "0                           1.0                              0.0   \n",
       "1                           1.0                              0.0   \n",
       "2                           1.0                              0.0   \n",
       "3                           1.0                              0.0   \n",
       "4                           1.0                              0.0   \n",
       "\n",
       "   situacao_propriedade_Outros  situacao_propriedade_Própria  \\\n",
       "0                          0.0                           0.0   \n",
       "1                          0.0                           0.0   \n",
       "2                          0.0                           0.0   \n",
       "3                          0.0                           0.0   \n",
       "4                          0.0                           0.0   \n",
       "\n",
       "   motivo_Educativo  motivo_Empreendimento  motivo_Melhora do lar  \\\n",
       "0               0.0                    1.0                    0.0   \n",
       "1               0.0                    1.0                    0.0   \n",
       "2               0.0                    0.0                    0.0   \n",
       "3               1.0                    0.0                    0.0   \n",
       "4               1.0                    0.0                    0.0   \n",
       "\n",
       "   motivo_Médico  motivo_Outros  motivo_Pagamento de débitos  ...  \\\n",
       "0            0.0            0.0                          0.0  ...   \n",
       "1            0.0            0.0                          0.0  ...   \n",
       "2            0.0            0.0                          1.0  ...   \n",
       "3            0.0            0.0                          0.0  ...   \n",
       "4            0.0            0.0                          0.0  ...   \n",
       "\n",
       "   pontuacao_E  pontuacao_F  pontuacao_G  idade_solicitante  \\\n",
       "0          1.0          0.0          0.0               23.0   \n",
       "1          0.0          0.0          0.0               25.0   \n",
       "2          0.0          0.0          0.0               23.0   \n",
       "3          0.0          0.0          0.0               23.0   \n",
       "4          0.0          0.0          0.0               22.0   \n",
       "\n",
       "   salario_solicitante  tempo_trabalhado  valor_solicitado  taxa_juros  \\\n",
       "0              68000.0               1.0           14400.0       17.99   \n",
       "1              45000.0               0.0           10000.0       12.98   \n",
       "2              65000.0               2.0            3600.0       11.49   \n",
       "3              45312.0               3.0           13500.0        7.88   \n",
       "4              64000.0               6.0            7000.0        5.79   \n",
       "\n",
       "   anos_primeira_solicitacao  flag_inadimplencia_hist  \n",
       "0                        2.0                      0.0  \n",
       "1                        2.0                      1.0  \n",
       "2                        2.0                      0.0  \n",
       "3                        3.0                      0.0  \n",
       "4                        3.0                      0.0  \n",
       "\n",
       "[5 rows x 25 columns]"
      ]
     },
     "execution_count": 64,
     "metadata": {},
     "output_type": "execute_result"
    }
   ],
   "source": [
    "ohe = make_column_transformer(\n",
    "    (OneHotEncoder(), colunas_categoricas), \n",
    "    remainder='passthrough',\n",
    "    verbose_feature_names_out=False)\n",
    "x = pd.DataFrame(ohe.fit_transform(x), columns = ohe.get_feature_names_out())\n",
    "x.head()"
   ]
  },
  {
   "cell_type": "markdown",
   "id": "eeb29e42",
   "metadata": {},
   "source": [
    "## Modelagem"
   ]
  },
  {
   "cell_type": "markdown",
   "id": "5f9f54b8",
   "metadata": {},
   "source": [
    "### Etapa de pré-processamento"
   ]
  },
  {
   "cell_type": "markdown",
   "id": "2cba3443",
   "metadata": {},
   "source": [
    "### Normalização"
   ]
  },
  {
   "cell_type": "markdown",
   "id": "3597728a",
   "metadata": {},
   "source": [
    "Como temos variaveis com valores bem discrepantes (salário por exemplo) iremos aplicar uma normalização a fim de evitar enviesamento do modelo que será construído"
   ]
  },
  {
   "cell_type": "code",
   "execution_count": 65,
   "id": "cddb6272",
   "metadata": {},
   "outputs": [
    {
     "data": {
      "text/html": [
       "<style>#sk-container-id-1 {color: black;background-color: white;}#sk-container-id-1 pre{padding: 0;}#sk-container-id-1 div.sk-toggleable {background-color: white;}#sk-container-id-1 label.sk-toggleable__label {cursor: pointer;display: block;width: 100%;margin-bottom: 0;padding: 0.3em;box-sizing: border-box;text-align: center;}#sk-container-id-1 label.sk-toggleable__label-arrow:before {content: \"▸\";float: left;margin-right: 0.25em;color: #696969;}#sk-container-id-1 label.sk-toggleable__label-arrow:hover:before {color: black;}#sk-container-id-1 div.sk-estimator:hover label.sk-toggleable__label-arrow:before {color: black;}#sk-container-id-1 div.sk-toggleable__content {max-height: 0;max-width: 0;overflow: hidden;text-align: left;background-color: #f0f8ff;}#sk-container-id-1 div.sk-toggleable__content pre {margin: 0.2em;color: black;border-radius: 0.25em;background-color: #f0f8ff;}#sk-container-id-1 input.sk-toggleable__control:checked~div.sk-toggleable__content {max-height: 200px;max-width: 100%;overflow: auto;}#sk-container-id-1 input.sk-toggleable__control:checked~label.sk-toggleable__label-arrow:before {content: \"▾\";}#sk-container-id-1 div.sk-estimator input.sk-toggleable__control:checked~label.sk-toggleable__label {background-color: #d4ebff;}#sk-container-id-1 div.sk-label input.sk-toggleable__control:checked~label.sk-toggleable__label {background-color: #d4ebff;}#sk-container-id-1 input.sk-hidden--visually {border: 0;clip: rect(1px 1px 1px 1px);clip: rect(1px, 1px, 1px, 1px);height: 1px;margin: -1px;overflow: hidden;padding: 0;position: absolute;width: 1px;}#sk-container-id-1 div.sk-estimator {font-family: monospace;background-color: #f0f8ff;border: 1px dotted black;border-radius: 0.25em;box-sizing: border-box;margin-bottom: 0.5em;}#sk-container-id-1 div.sk-estimator:hover {background-color: #d4ebff;}#sk-container-id-1 div.sk-parallel-item::after {content: \"\";width: 100%;border-bottom: 1px solid gray;flex-grow: 1;}#sk-container-id-1 div.sk-label:hover label.sk-toggleable__label {background-color: #d4ebff;}#sk-container-id-1 div.sk-serial::before {content: \"\";position: absolute;border-left: 1px solid gray;box-sizing: border-box;top: 0;bottom: 0;left: 50%;z-index: 0;}#sk-container-id-1 div.sk-serial {display: flex;flex-direction: column;align-items: center;background-color: white;padding-right: 0.2em;padding-left: 0.2em;position: relative;}#sk-container-id-1 div.sk-item {position: relative;z-index: 1;}#sk-container-id-1 div.sk-parallel {display: flex;align-items: stretch;justify-content: center;background-color: white;position: relative;}#sk-container-id-1 div.sk-item::before, #sk-container-id-1 div.sk-parallel-item::before {content: \"\";position: absolute;border-left: 1px solid gray;box-sizing: border-box;top: 0;bottom: 0;left: 50%;z-index: -1;}#sk-container-id-1 div.sk-parallel-item {display: flex;flex-direction: column;z-index: 1;position: relative;background-color: white;}#sk-container-id-1 div.sk-parallel-item:first-child::after {align-self: flex-end;width: 50%;}#sk-container-id-1 div.sk-parallel-item:last-child::after {align-self: flex-start;width: 50%;}#sk-container-id-1 div.sk-parallel-item:only-child::after {width: 0;}#sk-container-id-1 div.sk-dashed-wrapped {border: 1px dashed gray;margin: 0 0.4em 0.5em 0.4em;box-sizing: border-box;padding-bottom: 0.4em;background-color: white;}#sk-container-id-1 div.sk-label label {font-family: monospace;font-weight: bold;display: inline-block;line-height: 1.2em;}#sk-container-id-1 div.sk-label-container {text-align: center;}#sk-container-id-1 div.sk-container {/* jupyter's `normalize.less` sets `[hidden] { display: none; }` but bootstrap.min.css set `[hidden] { display: none !important; }` so we also need the `!important` here to be able to override the default hidden behavior on the sphinx rendered scikit-learn.org. See: https://github.com/scikit-learn/scikit-learn/issues/21755 */display: inline-block !important;position: relative;}#sk-container-id-1 div.sk-text-repr-fallback {display: none;}</style><div id=\"sk-container-id-1\" class=\"sk-top-container\"><div class=\"sk-text-repr-fallback\"><pre>MinMaxScaler()</pre><b>In a Jupyter environment, please rerun this cell to show the HTML representation or trust the notebook. <br />On GitHub, the HTML representation is unable to render, please try loading this page with nbviewer.org.</b></div><div class=\"sk-container\" hidden><div class=\"sk-item\"><div class=\"sk-estimator sk-toggleable\"><input class=\"sk-toggleable__control sk-hidden--visually\" id=\"sk-estimator-id-1\" type=\"checkbox\" checked><label for=\"sk-estimator-id-1\" class=\"sk-toggleable__label sk-toggleable__label-arrow\">MinMaxScaler</label><div class=\"sk-toggleable__content\"><pre>MinMaxScaler()</pre></div></div></div></div></div>"
      ],
      "text/plain": [
       "MinMaxScaler()"
      ]
     },
     "execution_count": 65,
     "metadata": {},
     "output_type": "execute_result"
    }
   ],
   "source": [
    "from sklearn.preprocessing import MinMaxScaler\n",
    "\n",
    "scaler = MinMaxScaler()\n",
    "scaler.fit(x)"
   ]
  },
  {
   "cell_type": "code",
   "execution_count": 66,
   "id": "a8fd88d9",
   "metadata": {},
   "outputs": [],
   "source": [
    "colunas = x.columns"
   ]
  },
  {
   "cell_type": "code",
   "execution_count": 67,
   "id": "eccdef8b",
   "metadata": {},
   "outputs": [
    {
     "data": {
      "text/html": [
       "<div>\n",
       "<style scoped>\n",
       "    .dataframe tbody tr th:only-of-type {\n",
       "        vertical-align: middle;\n",
       "    }\n",
       "\n",
       "    .dataframe tbody tr th {\n",
       "        vertical-align: top;\n",
       "    }\n",
       "\n",
       "    .dataframe thead th {\n",
       "        text-align: right;\n",
       "    }\n",
       "</style>\n",
       "<table border=\"1\" class=\"dataframe\">\n",
       "  <thead>\n",
       "    <tr style=\"text-align: right;\">\n",
       "      <th></th>\n",
       "      <th>situacao_propriedade_Alugada</th>\n",
       "      <th>situacao_propriedade_Hipotecada</th>\n",
       "      <th>situacao_propriedade_Outros</th>\n",
       "      <th>situacao_propriedade_Própria</th>\n",
       "      <th>motivo_Educativo</th>\n",
       "      <th>motivo_Empreendimento</th>\n",
       "      <th>motivo_Melhora do lar</th>\n",
       "      <th>motivo_Médico</th>\n",
       "      <th>motivo_Outros</th>\n",
       "      <th>motivo_Pagamento de débitos</th>\n",
       "      <th>...</th>\n",
       "      <th>pontuacao_E</th>\n",
       "      <th>pontuacao_F</th>\n",
       "      <th>pontuacao_G</th>\n",
       "      <th>idade_solicitante</th>\n",
       "      <th>salario_solicitante</th>\n",
       "      <th>tempo_trabalhado</th>\n",
       "      <th>valor_solicitado</th>\n",
       "      <th>taxa_juros</th>\n",
       "      <th>anos_primeira_solicitacao</th>\n",
       "      <th>flag_inadimplencia_hist</th>\n",
       "    </tr>\n",
       "  </thead>\n",
       "  <tbody>\n",
       "    <tr>\n",
       "      <th>0</th>\n",
       "      <td>1.0</td>\n",
       "      <td>0.0</td>\n",
       "      <td>0.0</td>\n",
       "      <td>0.0</td>\n",
       "      <td>0.0</td>\n",
       "      <td>1.0</td>\n",
       "      <td>0.0</td>\n",
       "      <td>0.0</td>\n",
       "      <td>0.0</td>\n",
       "      <td>0.0</td>\n",
       "      <td>...</td>\n",
       "      <td>1.0</td>\n",
       "      <td>0.0</td>\n",
       "      <td>0.0</td>\n",
       "      <td>0.051724</td>\n",
       "      <td>0.031438</td>\n",
       "      <td>0.024390</td>\n",
       "      <td>0.402899</td>\n",
       "      <td>0.706180</td>\n",
       "      <td>0.000000</td>\n",
       "      <td>0.0</td>\n",
       "    </tr>\n",
       "    <tr>\n",
       "      <th>1</th>\n",
       "      <td>1.0</td>\n",
       "      <td>0.0</td>\n",
       "      <td>0.0</td>\n",
       "      <td>0.0</td>\n",
       "      <td>0.0</td>\n",
       "      <td>1.0</td>\n",
       "      <td>0.0</td>\n",
       "      <td>0.0</td>\n",
       "      <td>0.0</td>\n",
       "      <td>0.0</td>\n",
       "      <td>...</td>\n",
       "      <td>0.0</td>\n",
       "      <td>0.0</td>\n",
       "      <td>0.0</td>\n",
       "      <td>0.086207</td>\n",
       "      <td>0.020140</td>\n",
       "      <td>0.000000</td>\n",
       "      <td>0.275362</td>\n",
       "      <td>0.424719</td>\n",
       "      <td>0.000000</td>\n",
       "      <td>1.0</td>\n",
       "    </tr>\n",
       "    <tr>\n",
       "      <th>2</th>\n",
       "      <td>1.0</td>\n",
       "      <td>0.0</td>\n",
       "      <td>0.0</td>\n",
       "      <td>0.0</td>\n",
       "      <td>0.0</td>\n",
       "      <td>0.0</td>\n",
       "      <td>0.0</td>\n",
       "      <td>0.0</td>\n",
       "      <td>0.0</td>\n",
       "      <td>1.0</td>\n",
       "      <td>...</td>\n",
       "      <td>0.0</td>\n",
       "      <td>0.0</td>\n",
       "      <td>0.0</td>\n",
       "      <td>0.051724</td>\n",
       "      <td>0.029964</td>\n",
       "      <td>0.048780</td>\n",
       "      <td>0.089855</td>\n",
       "      <td>0.341011</td>\n",
       "      <td>0.000000</td>\n",
       "      <td>0.0</td>\n",
       "    </tr>\n",
       "    <tr>\n",
       "      <th>3</th>\n",
       "      <td>1.0</td>\n",
       "      <td>0.0</td>\n",
       "      <td>0.0</td>\n",
       "      <td>0.0</td>\n",
       "      <td>1.0</td>\n",
       "      <td>0.0</td>\n",
       "      <td>0.0</td>\n",
       "      <td>0.0</td>\n",
       "      <td>0.0</td>\n",
       "      <td>0.0</td>\n",
       "      <td>...</td>\n",
       "      <td>0.0</td>\n",
       "      <td>0.0</td>\n",
       "      <td>0.0</td>\n",
       "      <td>0.051724</td>\n",
       "      <td>0.020293</td>\n",
       "      <td>0.073171</td>\n",
       "      <td>0.376812</td>\n",
       "      <td>0.138202</td>\n",
       "      <td>0.035714</td>\n",
       "      <td>0.0</td>\n",
       "    </tr>\n",
       "    <tr>\n",
       "      <th>4</th>\n",
       "      <td>1.0</td>\n",
       "      <td>0.0</td>\n",
       "      <td>0.0</td>\n",
       "      <td>0.0</td>\n",
       "      <td>1.0</td>\n",
       "      <td>0.0</td>\n",
       "      <td>0.0</td>\n",
       "      <td>0.0</td>\n",
       "      <td>0.0</td>\n",
       "      <td>0.0</td>\n",
       "      <td>...</td>\n",
       "      <td>0.0</td>\n",
       "      <td>0.0</td>\n",
       "      <td>0.0</td>\n",
       "      <td>0.034483</td>\n",
       "      <td>0.029473</td>\n",
       "      <td>0.146341</td>\n",
       "      <td>0.188406</td>\n",
       "      <td>0.020787</td>\n",
       "      <td>0.035714</td>\n",
       "      <td>0.0</td>\n",
       "    </tr>\n",
       "  </tbody>\n",
       "</table>\n",
       "<p>5 rows × 25 columns</p>\n",
       "</div>"
      ],
      "text/plain": [
       "   situacao_propriedade_Alugada  situacao_propriedade_Hipotecada  \\\n",
       "0                           1.0                              0.0   \n",
       "1                           1.0                              0.0   \n",
       "2                           1.0                              0.0   \n",
       "3                           1.0                              0.0   \n",
       "4                           1.0                              0.0   \n",
       "\n",
       "   situacao_propriedade_Outros  situacao_propriedade_Própria  \\\n",
       "0                          0.0                           0.0   \n",
       "1                          0.0                           0.0   \n",
       "2                          0.0                           0.0   \n",
       "3                          0.0                           0.0   \n",
       "4                          0.0                           0.0   \n",
       "\n",
       "   motivo_Educativo  motivo_Empreendimento  motivo_Melhora do lar  \\\n",
       "0               0.0                    1.0                    0.0   \n",
       "1               0.0                    1.0                    0.0   \n",
       "2               0.0                    0.0                    0.0   \n",
       "3               1.0                    0.0                    0.0   \n",
       "4               1.0                    0.0                    0.0   \n",
       "\n",
       "   motivo_Médico  motivo_Outros  motivo_Pagamento de débitos  ...  \\\n",
       "0            0.0            0.0                          0.0  ...   \n",
       "1            0.0            0.0                          0.0  ...   \n",
       "2            0.0            0.0                          1.0  ...   \n",
       "3            0.0            0.0                          0.0  ...   \n",
       "4            0.0            0.0                          0.0  ...   \n",
       "\n",
       "   pontuacao_E  pontuacao_F  pontuacao_G  idade_solicitante  \\\n",
       "0          1.0          0.0          0.0           0.051724   \n",
       "1          0.0          0.0          0.0           0.086207   \n",
       "2          0.0          0.0          0.0           0.051724   \n",
       "3          0.0          0.0          0.0           0.051724   \n",
       "4          0.0          0.0          0.0           0.034483   \n",
       "\n",
       "   salario_solicitante  tempo_trabalhado  valor_solicitado  taxa_juros  \\\n",
       "0             0.031438          0.024390          0.402899    0.706180   \n",
       "1             0.020140          0.000000          0.275362    0.424719   \n",
       "2             0.029964          0.048780          0.089855    0.341011   \n",
       "3             0.020293          0.073171          0.376812    0.138202   \n",
       "4             0.029473          0.146341          0.188406    0.020787   \n",
       "\n",
       "   anos_primeira_solicitacao  flag_inadimplencia_hist  \n",
       "0                   0.000000                      0.0  \n",
       "1                   0.000000                      1.0  \n",
       "2                   0.000000                      0.0  \n",
       "3                   0.035714                      0.0  \n",
       "4                   0.035714                      0.0  \n",
       "\n",
       "[5 rows x 25 columns]"
      ]
     },
     "execution_count": 67,
     "metadata": {},
     "output_type": "execute_result"
    }
   ],
   "source": [
    "x = pd.DataFrame(scaler.transform(x), columns=colunas)\n",
    "x.head()"
   ]
  },
  {
   "cell_type": "markdown",
   "id": "a9005fae",
   "metadata": {},
   "source": [
    "### Balanceamento da variável target"
   ]
  },
  {
   "cell_type": "code",
   "execution_count": 68,
   "id": "13c15377",
   "metadata": {},
   "outputs": [
    {
     "data": {
      "text/plain": [
       "0.0    0.782914\n",
       "1.0    0.217086\n",
       "Name: flag_inadimplencia, dtype: float64"
      ]
     },
     "execution_count": 68,
     "metadata": {},
     "output_type": "execute_result"
    }
   ],
   "source": [
    "y.value_counts(normalize=True)"
   ]
  },
  {
   "cell_type": "code",
   "execution_count": 69,
   "id": "d07e76a3",
   "metadata": {},
   "outputs": [
    {
     "data": {
      "text/plain": [
       "0.0    22526\n",
       "1.0     6246\n",
       "Name: flag_inadimplencia, dtype: int64"
      ]
     },
     "execution_count": 69,
     "metadata": {},
     "output_type": "execute_result"
    }
   ],
   "source": [
    "y.value_counts(normalize=False)"
   ]
  },
  {
   "cell_type": "markdown",
   "id": "bd841447",
   "metadata": {},
   "source": [
    "A base apresenta-se desbalanceada. Para resolver este problema no treinamento do modelo, iremos utilizar o método SMOTE"
   ]
  },
  {
   "cell_type": "code",
   "execution_count": 70,
   "id": "1f58dad7",
   "metadata": {},
   "outputs": [],
   "source": [
    "from imblearn.over_sampling import SMOTE"
   ]
  },
  {
   "cell_type": "code",
   "execution_count": 71,
   "id": "f358ff6f",
   "metadata": {},
   "outputs": [],
   "source": [
    "SEED = 2154\n",
    "np.random.seed(SEED)"
   ]
  },
  {
   "cell_type": "code",
   "execution_count": 72,
   "id": "966c634c",
   "metadata": {},
   "outputs": [],
   "source": [
    "smote = SMOTE(random_state=SEED)"
   ]
  },
  {
   "cell_type": "code",
   "execution_count": 73,
   "id": "ad649541",
   "metadata": {},
   "outputs": [],
   "source": [
    "x_resample, y_resample = smote.fit_resample(x, y)"
   ]
  },
  {
   "cell_type": "code",
   "execution_count": 74,
   "id": "0c0bd2ca",
   "metadata": {},
   "outputs": [
    {
     "name": "stdout",
     "output_type": "stream",
     "text": [
      "Saímos de 6246 variável target para 22526\n"
     ]
    }
   ],
   "source": [
    "print('Saímos de {} variável target para {}'.format(y.value_counts()[1], y_resample.value_counts()[1]))"
   ]
  },
  {
   "cell_type": "markdown",
   "id": "74cc85a9",
   "metadata": {},
   "source": [
    "### Separação de treino e teste"
   ]
  },
  {
   "cell_type": "code",
   "execution_count": 75,
   "id": "4a806b42",
   "metadata": {},
   "outputs": [],
   "source": [
    "from sklearn.model_selection import train_test_split\n",
    "\n",
    "x_train, x_test, y_train, y_test = train_test_split(x_resample, y_resample, test_size=0.25, random_state=SEED)"
   ]
  },
  {
   "cell_type": "markdown",
   "id": "40506987",
   "metadata": {},
   "source": [
    "### Modelos"
   ]
  },
  {
   "cell_type": "markdown",
   "id": "d24e8385",
   "metadata": {},
   "source": [
    "#### Regressão logística"
   ]
  },
  {
   "cell_type": "code",
   "execution_count": 76,
   "id": "c88222be",
   "metadata": {},
   "outputs": [],
   "source": [
    "from sklearn.linear_model import LogisticRegression\n",
    "\n",
    "lr = LogisticRegression(max_iter=1000, random_state=SEED)"
   ]
  },
  {
   "cell_type": "markdown",
   "id": "69e07182",
   "metadata": {},
   "source": [
    "#### Árvore randômica"
   ]
  },
  {
   "cell_type": "code",
   "execution_count": 77,
   "id": "33d406fd",
   "metadata": {},
   "outputs": [],
   "source": [
    "from sklearn.ensemble import RandomForestClassifier\n",
    "\n",
    "rf = RandomForestClassifier(max_depth=5, random_state=SEED)"
   ]
  },
  {
   "cell_type": "markdown",
   "id": "d59275ef",
   "metadata": {},
   "source": [
    "#### _Gradient Boosting_"
   ]
  },
  {
   "cell_type": "code",
   "execution_count": 78,
   "id": "ea4153b8",
   "metadata": {},
   "outputs": [],
   "source": [
    "from sklearn.ensemble import GradientBoostingClassifier\n",
    "\n",
    "gbc = GradientBoostingClassifier(random_state=SEED)"
   ]
  },
  {
   "cell_type": "markdown",
   "id": "fbca52d8",
   "metadata": {},
   "source": [
    "### Avaliar os modelos"
   ]
  },
  {
   "cell_type": "markdown",
   "id": "4affdde7",
   "metadata": {},
   "source": [
    "Relembrando as métricas:\n",
    "* **Acurácia/Accuracy**: avalia a proporção de acertos em relação a todas as previsões realizadas. É obtida somando a diagonal principal da matriz e dividindo pela soma de todos os valores.\n",
    "* **Sensibilidade/Revocação/Recall**: avalia a proporção de verdadeiros positivos dentre todos os valores positivos reais. É obtida dividindo os verdadeiros positivos pela soma de positivos reais.\n",
    "* **Precisão/Precision**: avalia a proporção de verdadeiros positivos dentre as predições dadas como positivas pelo modelo. É obtida dividindo os verdadeiros positivos pela soma das previsões positivas.\n",
    "* **F1 Score**: é o equilíbrio entre a sensibilidade e a precisão, sendo a média harmônica entre as duas métricas. \n",
    "\n",
    "Fonte: [Alura](https://cursos.alura.com.br/course/modelos-preditivos-dados-deteccao-fraude/task/106629)"
   ]
  },
  {
   "cell_type": "code",
   "execution_count": 79,
   "id": "7ceacf0d",
   "metadata": {},
   "outputs": [],
   "source": [
    "metricas = pd.DataFrame()\n",
    "\n",
    "from sklearn import metrics\n",
    "from sklearn.metrics import confusion_matrix\n",
    "from sklearn.metrics import ConfusionMatrixDisplay\n",
    "\n",
    "classificadores = [lr, rf, gbc]\n",
    "\n",
    "for idx, clf in enumerate(classificadores):\n",
    "    clf.fit(x_train, y_train)\n",
    "    y_pred = clf.predict(x_test)\n",
    "    metricas.loc[idx, 'classificador'] = clf.__class__.__name__\n",
    "    metricas.loc[idx, 'acuracia_teste'] = clf.score(x_test, y_test)\n",
    "    metricas.loc[idx, 'acuracia_treino'] = clf.score(x_train, y_train)\n",
    "    metricas.loc[idx, 'precisao'] = metrics.precision_score(y_test, y_pred)\n",
    "    metricas.loc[idx, 'recall'] = metrics.recall_score(y_test, y_pred)\n",
    "    metricas.loc[idx, 'f1'] = metrics.f1_score(y_test, y_pred)\n",
    "    y_pred_proba = clf.predict_proba(x_test)[::, 1]\n",
    "    metricas.loc[idx, 'auc'] = metrics.roc_auc_score(y_test, y_pred_proba)    \n",
    "    cm = confusion_matrix(y_test, y_pred)\n",
    "    metricas.loc[idx, 'matriz_confusao'] = ConfusionMatrixDisplay(confusion_matrix=cm)"
   ]
  },
  {
   "cell_type": "code",
   "execution_count": 80,
   "id": "8272c2f7",
   "metadata": {},
   "outputs": [
    {
     "data": {
      "text/html": [
       "<style  type=\"text/css\" >\n",
       "</style><table id=\"T_b7d83_\" ><thead>    <tr>        <th class=\"col_heading level0 col0\" >classificador</th>        <th class=\"col_heading level0 col1\" >acuracia_teste</th>        <th class=\"col_heading level0 col2\" >acuracia_treino</th>        <th class=\"col_heading level0 col3\" >precisao</th>        <th class=\"col_heading level0 col4\" >recall</th>        <th class=\"col_heading level0 col5\" >f1</th>        <th class=\"col_heading level0 col6\" >auc</th>    </tr></thead><tbody>\n",
       "                <tr>\n",
       "                                <td id=\"T_b7d83_row0_col0\" class=\"data row0 col0\" >LogisticRegression</td>\n",
       "                        <td id=\"T_b7d83_row0_col1\" class=\"data row0 col1\" >0.769955</td>\n",
       "                        <td id=\"T_b7d83_row0_col2\" class=\"data row0 col2\" >0.771109</td>\n",
       "                        <td id=\"T_b7d83_row0_col3\" class=\"data row0 col3\" >0.781250</td>\n",
       "                        <td id=\"T_b7d83_row0_col4\" class=\"data row0 col4\" >0.758107</td>\n",
       "                        <td id=\"T_b7d83_row0_col5\" class=\"data row0 col5\" >0.769504</td>\n",
       "                        <td id=\"T_b7d83_row0_col6\" class=\"data row0 col6\" >0.845401</td>\n",
       "            </tr>\n",
       "            <tr>\n",
       "                                <td id=\"T_b7d83_row1_col0\" class=\"data row1 col0\" >RandomForestClassifier</td>\n",
       "                        <td id=\"T_b7d83_row1_col1\" class=\"data row1 col1\" >0.815768</td>\n",
       "                        <td id=\"T_b7d83_row1_col2\" class=\"data row1 col2\" >0.812661</td>\n",
       "                        <td id=\"T_b7d83_row1_col3\" class=\"data row1 col3\" >0.819767</td>\n",
       "                        <td id=\"T_b7d83_row1_col4\" class=\"data row1 col4\" >0.815600</td>\n",
       "                        <td id=\"T_b7d83_row1_col5\" class=\"data row1 col5\" >0.817679</td>\n",
       "                        <td id=\"T_b7d83_row1_col6\" class=\"data row1 col6\" >0.882203</td>\n",
       "            </tr>\n",
       "            <tr>\n",
       "                                <td id=\"T_b7d83_row2_col0\" class=\"data row2 col0\" >GradientBoostingClassifier</td>\n",
       "                        <td id=\"T_b7d83_row2_col1\" class=\"data row2 col1\" >0.882713</td>\n",
       "                        <td id=\"T_b7d83_row2_col2\" class=\"data row2 col2\" >0.884104</td>\n",
       "                        <td id=\"T_b7d83_row2_col3\" class=\"data row2 col3\" >0.895240</td>\n",
       "                        <td id=\"T_b7d83_row2_col4\" class=\"data row2 col4\" >0.870289</td>\n",
       "                        <td id=\"T_b7d83_row2_col5\" class=\"data row2 col5\" >0.882588</td>\n",
       "                        <td id=\"T_b7d83_row2_col6\" class=\"data row2 col6\" >0.953487</td>\n",
       "            </tr>\n",
       "    </tbody></table>"
      ],
      "text/plain": [
       "<pandas.io.formats.style.Styler at 0x16106d874c0>"
      ]
     },
     "execution_count": 80,
     "metadata": {},
     "output_type": "execute_result"
    }
   ],
   "source": [
    "metricas.drop(columns='matriz_confusao').style.hide_index()"
   ]
  },
  {
   "cell_type": "code",
   "execution_count": 81,
   "id": "ebac5277",
   "metadata": {},
   "outputs": [
    {
     "data": {
      "image/png": "[encoded data removed]",
      "text/plain": [
       "<Figure size 432x288 with 2 Axes>"
      ]
     },
     "metadata": {
      "needs_background": "light"
     },
     "output_type": "display_data"
    },
    {
     "data": {
      "image/png": "[encoded data removed]",
      "text/plain": [
       "<Figure size 432x288 with 2 Axes>"
      ]
     },
     "metadata": {
      "needs_background": "light"
     },
     "output_type": "display_data"
    },
    {
     "data": {
      "image/png": "[encoded data removed]",
      "text/plain": [
       "<Figure size 432x288 with 2 Axes>"
      ]
     },
     "metadata": {
      "needs_background": "light"
     },
     "output_type": "display_data"
    }
   ],
   "source": [
    "for idx, clf in enumerate(classificadores):\n",
    "    metricas.loc[idx, 'matriz_confusao'].plot()\n",
    "    plt.title(clf.__class__.__name__)"
   ]
  },
  {
   "cell_type": "markdown",
   "id": "fc218f81",
   "metadata": {},
   "source": [
    "- **(0,0) Verdadeiros Negativos:** Acertou os adimplentes.\n",
    "- **(0,1) Falsos Positivos:** Errou os adimplentes, marcou como inadimplente um adimplente.\n",
    "- **(1,0) Falsos Negativos:** Errou os inadimplente, marcou como adimplente um inadimplente.\n",
    "- **(1,1) Verdadeiros Positivos:** Acertou os inadimplente\n",
    "\n",
    "Além dos acertos, precisamos que os Falsos Negativos sem baixos! [Fonte](https://cursos.alura.com.br/course/modelos-preditivos-dados-deteccao-fraude/task/106629)"
   ]
  },
  {
   "cell_type": "markdown",
   "id": "a1f61216",
   "metadata": {},
   "source": [
    "Desta forma, avalio que o modelo de melhor desempenho é o GradientBoostingClassifier, pois além de apresentar os melhores resultados em todas as métricas, tem um baixo valor de **Falsos Positivos**"
   ]
  },
  {
   "cell_type": "markdown",
   "id": "7d4f387e",
   "metadata": {},
   "source": [
    "### Melhoria do modelo"
   ]
  },
  {
   "cell_type": "code",
   "execution_count": 82,
   "id": "d7389155",
   "metadata": {},
   "outputs": [],
   "source": [
    "from sklearn.model_selection import GridSearchCV"
   ]
  },
  {
   "cell_type": "code",
   "execution_count": 83,
   "id": "daee5fc1",
   "metadata": {},
   "outputs": [],
   "source": [
    "parameters = {\n",
    "    \"loss\":[\"log_loss\",\"exponential\"],\n",
    "    \"max_depth\":[3,5,8],\n",
    "    \"n_estimators\":[10,100],\n",
    "    \"criterion\": [\"friedman_mse\",  \"squared_error\"],\n",
    "    \"max_features\":[\"log2\",\"sqrt\"],\n",
    "    \"subsample\":[0.5, 0.618, 0.8, 0.85, 0.9],\n",
    "    }"
   ]
  },
  {
   "cell_type": "code",
   "execution_count": 84,
   "id": "b33076cd",
   "metadata": {},
   "outputs": [],
   "source": [
    "gridsearch_cv = GridSearchCV(\n",
    "    gbc, parameters, cv=3, scoring=\"recall\", n_jobs=-1\n",
    ")"
   ]
  },
  {
   "cell_type": "code",
   "execution_count": 85,
   "id": "87f93673",
   "metadata": {},
   "outputs": [
    {
     "name": "stdout",
     "output_type": "stream",
     "text": [
      "Wall time: 3min 17s\n"
     ]
    },
    {
     "data": {
      "text/html": [
       "<style>#sk-container-id-2 {color: black;background-color: white;}#sk-container-id-2 pre{padding: 0;}#sk-container-id-2 div.sk-toggleable {background-color: white;}#sk-container-id-2 label.sk-toggleable__label {cursor: pointer;display: block;width: 100%;margin-bottom: 0;padding: 0.3em;box-sizing: border-box;text-align: center;}#sk-container-id-2 label.sk-toggleable__label-arrow:before {content: \"▸\";float: left;margin-right: 0.25em;color: #696969;}#sk-container-id-2 label.sk-toggleable__label-arrow:hover:before {color: black;}#sk-container-id-2 div.sk-estimator:hover label.sk-toggleable__label-arrow:before {color: black;}#sk-container-id-2 div.sk-toggleable__content {max-height: 0;max-width: 0;overflow: hidden;text-align: left;background-color: #f0f8ff;}#sk-container-id-2 div.sk-toggleable__content pre {margin: 0.2em;color: black;border-radius: 0.25em;background-color: #f0f8ff;}#sk-container-id-2 input.sk-toggleable__control:checked~div.sk-toggleable__content {max-height: 200px;max-width: 100%;overflow: auto;}#sk-container-id-2 input.sk-toggleable__control:checked~label.sk-toggleable__label-arrow:before {content: \"▾\";}#sk-container-id-2 div.sk-estimator input.sk-toggleable__control:checked~label.sk-toggleable__label {background-color: #d4ebff;}#sk-container-id-2 div.sk-label input.sk-toggleable__control:checked~label.sk-toggleable__label {background-color: #d4ebff;}#sk-container-id-2 input.sk-hidden--visually {border: 0;clip: rect(1px 1px 1px 1px);clip: rect(1px, 1px, 1px, 1px);height: 1px;margin: -1px;overflow: hidden;padding: 0;position: absolute;width: 1px;}#sk-container-id-2 div.sk-estimator {font-family: monospace;background-color: #f0f8ff;border: 1px dotted black;border-radius: 0.25em;box-sizing: border-box;margin-bottom: 0.5em;}#sk-container-id-2 div.sk-estimator:hover {background-color: #d4ebff;}#sk-container-id-2 div.sk-parallel-item::after {content: \"\";width: 100%;border-bottom: 1px solid gray;flex-grow: 1;}#sk-container-id-2 div.sk-label:hover label.sk-toggleable__label {background-color: #d4ebff;}#sk-container-id-2 div.sk-serial::before {content: \"\";position: absolute;border-left: 1px solid gray;box-sizing: border-box;top: 0;bottom: 0;left: 50%;z-index: 0;}#sk-container-id-2 div.sk-serial {display: flex;flex-direction: column;align-items: center;background-color: white;padding-right: 0.2em;padding-left: 0.2em;position: relative;}#sk-container-id-2 div.sk-item {position: relative;z-index: 1;}#sk-container-id-2 div.sk-parallel {display: flex;align-items: stretch;justify-content: center;background-color: white;position: relative;}#sk-container-id-2 div.sk-item::before, #sk-container-id-2 div.sk-parallel-item::before {content: \"\";position: absolute;border-left: 1px solid gray;box-sizing: border-box;top: 0;bottom: 0;left: 50%;z-index: -1;}#sk-container-id-2 div.sk-parallel-item {display: flex;flex-direction: column;z-index: 1;position: relative;background-color: white;}#sk-container-id-2 div.sk-parallel-item:first-child::after {align-self: flex-end;width: 50%;}#sk-container-id-2 div.sk-parallel-item:last-child::after {align-self: flex-start;width: 50%;}#sk-container-id-2 div.sk-parallel-item:only-child::after {width: 0;}#sk-container-id-2 div.sk-dashed-wrapped {border: 1px dashed gray;margin: 0 0.4em 0.5em 0.4em;box-sizing: border-box;padding-bottom: 0.4em;background-color: white;}#sk-container-id-2 div.sk-label label {font-family: monospace;font-weight: bold;display: inline-block;line-height: 1.2em;}#sk-container-id-2 div.sk-label-container {text-align: center;}#sk-container-id-2 div.sk-container {/* jupyter's `normalize.less` sets `[hidden] { display: none; }` but bootstrap.min.css set `[hidden] { display: none !important; }` so we also need the `!important` here to be able to override the default hidden behavior on the sphinx rendered scikit-learn.org. See: https://github.com/scikit-learn/scikit-learn/issues/21755 */display: inline-block !important;position: relative;}#sk-container-id-2 div.sk-text-repr-fallback {display: none;}</style><div id=\"sk-container-id-2\" class=\"sk-top-container\"><div class=\"sk-text-repr-fallback\"><pre>GridSearchCV(cv=3, estimator=GradientBoostingClassifier(random_state=2154),\n",
       "             n_jobs=-1,\n",
       "             param_grid={&#x27;criterion&#x27;: [&#x27;friedman_mse&#x27;, &#x27;squared_error&#x27;],\n",
       "                         &#x27;loss&#x27;: [&#x27;log_loss&#x27;, &#x27;exponential&#x27;],\n",
       "                         &#x27;max_depth&#x27;: [3, 5, 8],\n",
       "                         &#x27;max_features&#x27;: [&#x27;log2&#x27;, &#x27;sqrt&#x27;],\n",
       "                         &#x27;n_estimators&#x27;: [10, 100],\n",
       "                         &#x27;subsample&#x27;: [0.5, 0.618, 0.8, 0.85, 0.9]},\n",
       "             scoring=&#x27;recall&#x27;)</pre><b>In a Jupyter environment, please rerun this cell to show the HTML representation or trust the notebook. <br />On GitHub, the HTML representation is unable to render, please try loading this page with nbviewer.org.</b></div><div class=\"sk-container\" hidden><div class=\"sk-item sk-dashed-wrapped\"><div class=\"sk-label-container\"><div class=\"sk-label sk-toggleable\"><input class=\"sk-toggleable__control sk-hidden--visually\" id=\"sk-estimator-id-2\" type=\"checkbox\" ><label for=\"sk-estimator-id-2\" class=\"sk-toggleable__label sk-toggleable__label-arrow\">GridSearchCV</label><div class=\"sk-toggleable__content\"><pre>GridSearchCV(cv=3, estimator=GradientBoostingClassifier(random_state=2154),\n",
       "             n_jobs=-1,\n",
       "             param_grid={&#x27;criterion&#x27;: [&#x27;friedman_mse&#x27;, &#x27;squared_error&#x27;],\n",
       "                         &#x27;loss&#x27;: [&#x27;log_loss&#x27;, &#x27;exponential&#x27;],\n",
       "                         &#x27;max_depth&#x27;: [3, 5, 8],\n",
       "                         &#x27;max_features&#x27;: [&#x27;log2&#x27;, &#x27;sqrt&#x27;],\n",
       "                         &#x27;n_estimators&#x27;: [10, 100],\n",
       "                         &#x27;subsample&#x27;: [0.5, 0.618, 0.8, 0.85, 0.9]},\n",
       "             scoring=&#x27;recall&#x27;)</pre></div></div></div><div class=\"sk-parallel\"><div class=\"sk-parallel-item\"><div class=\"sk-item\"><div class=\"sk-label-container\"><div class=\"sk-label sk-toggleable\"><input class=\"sk-toggleable__control sk-hidden--visually\" id=\"sk-estimator-id-3\" type=\"checkbox\" ><label for=\"sk-estimator-id-3\" class=\"sk-toggleable__label sk-toggleable__label-arrow\">estimator: GradientBoostingClassifier</label><div class=\"sk-toggleable__content\"><pre>GradientBoostingClassifier(random_state=2154)</pre></div></div></div><div class=\"sk-serial\"><div class=\"sk-item\"><div class=\"sk-estimator sk-toggleable\"><input class=\"sk-toggleable__control sk-hidden--visually\" id=\"sk-estimator-id-4\" type=\"checkbox\" ><label for=\"sk-estimator-id-4\" class=\"sk-toggleable__label sk-toggleable__label-arrow\">GradientBoostingClassifier</label><div class=\"sk-toggleable__content\"><pre>GradientBoostingClassifier(random_state=2154)</pre></div></div></div></div></div></div></div></div></div></div>"
      ],
      "text/plain": [
       "GridSearchCV(cv=3, estimator=GradientBoostingClassifier(random_state=2154),\n",
       "             n_jobs=-1,\n",
       "             param_grid={'criterion': ['friedman_mse', 'squared_error'],\n",
       "                         'loss': ['log_loss', 'exponential'],\n",
       "                         'max_depth': [3, 5, 8],\n",
       "                         'max_features': ['log2', 'sqrt'],\n",
       "                         'n_estimators': [10, 100],\n",
       "                         'subsample': [0.5, 0.618, 0.8, 0.85, 0.9]},\n",
       "             scoring='recall')"
      ]
     },
     "execution_count": 85,
     "metadata": {},
     "output_type": "execute_result"
    }
   ],
   "source": [
    "%%time\n",
    "gridsearch_cv.fit(x_train, y_train)"
   ]
  },
  {
   "cell_type": "code",
   "execution_count": 86,
   "id": "b8d1f2a6",
   "metadata": {
    "scrolled": true
   },
   "outputs": [
    {
     "data": {
      "text/plain": [
       "{'criterion': 'squared_error',\n",
       " 'loss': 'log_loss',\n",
       " 'max_depth': 8,\n",
       " 'max_features': 'sqrt',\n",
       " 'n_estimators': 100,\n",
       " 'subsample': 0.8}"
      ]
     },
     "execution_count": 86,
     "metadata": {},
     "output_type": "execute_result"
    }
   ],
   "source": [
    "gridsearch_cv.best_params_"
   ]
  },
  {
   "cell_type": "code",
   "execution_count": 87,
   "id": "7c978c81",
   "metadata": {},
   "outputs": [],
   "source": [
    "gbc_boost = GradientBoostingClassifier(**gridsearch_cv.best_params_, random_state=SEED)"
   ]
  },
  {
   "cell_type": "code",
   "execution_count": 88,
   "id": "c6afbe54",
   "metadata": {},
   "outputs": [],
   "source": [
    "classificadores = [lr, rf, gbc, gbc_boost]\n",
    "\n",
    "for idx, clf in enumerate(classificadores):\n",
    "    clf.fit(x_train, y_train)\n",
    "    y_pred = clf.predict(x_test)\n",
    "    metricas.loc[idx, 'classificador'] = clf.__class__.__name__\n",
    "    metricas.loc[idx, 'acuracia_teste'] = clf.score(x_test, y_test)\n",
    "    metricas.loc[idx, 'acuracia_treino'] = clf.score(x_train, y_train)\n",
    "    metricas.loc[idx, 'precisao'] = metrics.precision_score(y_test, y_pred)\n",
    "    metricas.loc[idx, 'recall'] = metrics.recall_score(y_test, y_pred)\n",
    "    metricas.loc[idx, 'f1'] = metrics.f1_score(y_test, y_pred)\n",
    "    y_pred_proba = clf.predict_proba(x_test)[::, 1]\n",
    "    metricas.loc[idx, 'auc'] = metrics.roc_auc_score(y_test, y_pred_proba)    \n",
    "    cm = confusion_matrix(y_test, y_pred)\n",
    "    metricas.loc[idx, 'matriz_confusao'] = ConfusionMatrixDisplay(confusion_matrix=cm)"
   ]
  },
  {
   "cell_type": "code",
   "execution_count": 89,
   "id": "dceca44c",
   "metadata": {},
   "outputs": [
    {
     "data": {
      "text/html": [
       "<style  type=\"text/css\" >\n",
       "</style><table id=\"T_458b2_\" ><thead>    <tr>        <th class=\"col_heading level0 col0\" >classificador</th>        <th class=\"col_heading level0 col1\" >acuracia_teste</th>        <th class=\"col_heading level0 col2\" >acuracia_treino</th>        <th class=\"col_heading level0 col3\" >precisao</th>        <th class=\"col_heading level0 col4\" >recall</th>        <th class=\"col_heading level0 col5\" >f1</th>        <th class=\"col_heading level0 col6\" >auc</th>    </tr></thead><tbody>\n",
       "                <tr>\n",
       "                                <td id=\"T_458b2_row0_col0\" class=\"data row0 col0\" >LogisticRegression</td>\n",
       "                        <td id=\"T_458b2_row0_col1\" class=\"data row0 col1\" >0.769955</td>\n",
       "                        <td id=\"T_458b2_row0_col2\" class=\"data row0 col2\" >0.771109</td>\n",
       "                        <td id=\"T_458b2_row0_col3\" class=\"data row0 col3\" >0.781250</td>\n",
       "                        <td id=\"T_458b2_row0_col4\" class=\"data row0 col4\" >0.758107</td>\n",
       "                        <td id=\"T_458b2_row0_col5\" class=\"data row0 col5\" >0.769504</td>\n",
       "                        <td id=\"T_458b2_row0_col6\" class=\"data row0 col6\" >0.845401</td>\n",
       "            </tr>\n",
       "            <tr>\n",
       "                                <td id=\"T_458b2_row1_col0\" class=\"data row1 col0\" >RandomForestClassifier</td>\n",
       "                        <td id=\"T_458b2_row1_col1\" class=\"data row1 col1\" >0.815768</td>\n",
       "                        <td id=\"T_458b2_row1_col2\" class=\"data row1 col2\" >0.812661</td>\n",
       "                        <td id=\"T_458b2_row1_col3\" class=\"data row1 col3\" >0.819767</td>\n",
       "                        <td id=\"T_458b2_row1_col4\" class=\"data row1 col4\" >0.815600</td>\n",
       "                        <td id=\"T_458b2_row1_col5\" class=\"data row1 col5\" >0.817679</td>\n",
       "                        <td id=\"T_458b2_row1_col6\" class=\"data row1 col6\" >0.882203</td>\n",
       "            </tr>\n",
       "            <tr>\n",
       "                                <td id=\"T_458b2_row2_col0\" class=\"data row2 col0\" >GradientBoostingClassifier</td>\n",
       "                        <td id=\"T_458b2_row2_col1\" class=\"data row2 col1\" >0.882713</td>\n",
       "                        <td id=\"T_458b2_row2_col2\" class=\"data row2 col2\" >0.884104</td>\n",
       "                        <td id=\"T_458b2_row2_col3\" class=\"data row2 col3\" >0.895240</td>\n",
       "                        <td id=\"T_458b2_row2_col4\" class=\"data row2 col4\" >0.870289</td>\n",
       "                        <td id=\"T_458b2_row2_col5\" class=\"data row2 col5\" >0.882588</td>\n",
       "                        <td id=\"T_458b2_row2_col6\" class=\"data row2 col6\" >0.953487</td>\n",
       "            </tr>\n",
       "            <tr>\n",
       "                                <td id=\"T_458b2_row3_col0\" class=\"data row3 col0\" >GradientBoostingClassifier</td>\n",
       "                        <td id=\"T_458b2_row3_col1\" class=\"data row3 col1\" >0.935630</td>\n",
       "                        <td id=\"T_458b2_row3_col2\" class=\"data row3 col2\" >0.961141</td>\n",
       "                        <td id=\"T_458b2_row3_col3\" class=\"data row3 col3\" >0.961453</td>\n",
       "                        <td id=\"T_458b2_row3_col4\" class=\"data row3 col4\" >0.909378</td>\n",
       "                        <td id=\"T_458b2_row3_col5\" class=\"data row3 col5\" >0.934691</td>\n",
       "                        <td id=\"T_458b2_row3_col6\" class=\"data row3 col6\" >0.979146</td>\n",
       "            </tr>\n",
       "    </tbody></table>"
      ],
      "text/plain": [
       "<pandas.io.formats.style.Styler at 0x16108b208e0>"
      ]
     },
     "execution_count": 89,
     "metadata": {},
     "output_type": "execute_result"
    }
   ],
   "source": [
    "metricas.drop(columns='matriz_confusao').style.hide_index()"
   ]
  },
  {
   "cell_type": "code",
   "execution_count": 90,
   "id": "13625c74",
   "metadata": {},
   "outputs": [
    {
     "data": {
      "image/png": "[encoded data removed]",
      "text/plain": [
       "<Figure size 432x288 with 2 Axes>"
      ]
     },
     "metadata": {
      "needs_background": "light"
     },
     "output_type": "display_data"
    },
    {
     "data": {
      "image/png": "[encoded data removed]",
      "text/plain": [
       "<Figure size 432x288 with 2 Axes>"
      ]
     },
     "metadata": {
      "needs_background": "light"
     },
     "output_type": "display_data"
    },
    {
     "data": {
      "image/png": "[encoded data removed]",
      "text/plain": [
       "<Figure size 432x288 with 2 Axes>"
      ]
     },
     "metadata": {
      "needs_background": "light"
     },
     "output_type": "display_data"
    },
    {
     "data": {
      "image/png": "[encoded data removed]",
      "text/plain": [
       "<Figure size 432x288 with 2 Axes>"
      ]
     },
     "metadata": {
      "needs_background": "light"
     },
     "output_type": "display_data"
    }
   ],
   "source": [
    "for idx, clf in enumerate(classificadores):\n",
    "    metricas.loc[idx, 'matriz_confusao'].plot()\n",
    "    plt.title(clf.__class__.__name__)"
   ]
  },
  {
   "cell_type": "markdown",
   "id": "36ebb608",
   "metadata": {},
   "source": [
    "### Exportando o Modelo"
   ]
  },
  {
   "cell_type": "code",
   "execution_count": 91,
   "id": "d3d59eda",
   "metadata": {},
   "outputs": [],
   "source": [
    "import pickle\n",
    "\n",
    "with open('../modelos/ohe.pkl', 'wb') as file:\n",
    "    pickle.dump(ohe, file)\n",
    "\n",
    "with open('../modelos/scaler.pkl', 'wb') as file:\n",
    "    pickle.dump(scaler, file)\n",
    "    \n",
    "with open('../modelos/gbc_boost.pkl', 'wb') as file:\n",
    "    pickle.dump(gbc_boost, file)"
   ]
  }
 ],
 "metadata": {
  "kernelspec": {
   "display_name": "Python 3",
   "language": "python",
   "name": "python3"
  },
  "language_info": {
   "codemirror_mode": {
    "name": "ipython",
    "version": 3
   },
   "file_extension": ".py",
   "mimetype": "text/x-python",
   "name": "python",
   "nbconvert_exporter": "python",
   "pygments_lexer": "ipython3",
   "version": "3.8.8"
  }
 },
 "nbformat": 4,
 "nbformat_minor": 5
}
