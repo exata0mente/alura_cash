{
 "cells": [
  {
   "cell_type": "markdown",
   "id": "11fa0e5a",
   "metadata": {},
   "source": [
    "# Criando modelo de Machine Learning"
   ]
  },
  {
   "cell_type": "markdown",
   "id": "90b43f10",
   "metadata": {},
   "source": [
    "## Carregamento dos pacotes iniciais"
   ]
  },
  {
   "cell_type": "markdown",
   "id": "6e9752ad",
   "metadata": {},
   "source": [
    "Apesar de ter exportado um arquivo CSV, vou consultar diretamente o banco de dados para melhorar meu conhecimento"
   ]
  },
  {
   "cell_type": "code",
   "execution_count": 1,
   "id": "dfef74f4",
   "metadata": {},
   "outputs": [],
   "source": [
    "#!pip install mysql-connector-python\n",
    "#!pip install pyyaml"
   ]
  },
  {
   "cell_type": "code",
   "execution_count": 2,
   "id": "069c321a",
   "metadata": {},
   "outputs": [],
   "source": [
    "import pandas as pd\n",
    "import numpy as np\n",
    "from mysql.connector import connect, Error\n",
    "import yaml"
   ]
  },
  {
   "cell_type": "markdown",
   "id": "af973789",
   "metadata": {},
   "source": [
    "## Definição e conexão"
   ]
  },
  {
   "cell_type": "markdown",
   "id": "3c288008",
   "metadata": {},
   "source": [
    "Vou usar a leitura de um arquivo yaml apesar de não ser boa prática armazenar senhas em arquivos estáticos"
   ]
  },
  {
   "cell_type": "code",
   "execution_count": 3,
   "id": "40475b73",
   "metadata": {},
   "outputs": [],
   "source": [
    "with open('login.yml', 'r') as l:\n",
    "    acesso_yml=yaml.safe_load(l)\n",
    "\n",
    "conn = connect(**acesso_yml)"
   ]
  },
  {
   "cell_type": "code",
   "execution_count": 4,
   "id": "ae5e780b",
   "metadata": {},
   "outputs": [
    {
     "data": {
      "text/html": [
       "<div>\n",
       "<style scoped>\n",
       "    .dataframe tbody tr th:only-of-type {\n",
       "        vertical-align: middle;\n",
       "    }\n",
       "\n",
       "    .dataframe tbody tr th {\n",
       "        vertical-align: top;\n",
       "    }\n",
       "\n",
       "    .dataframe thead th {\n",
       "        text-align: right;\n",
       "    }\n",
       "</style>\n",
       "<table border=\"1\" class=\"dataframe\">\n",
       "  <thead>\n",
       "    <tr style=\"text-align: right;\">\n",
       "      <th></th>\n",
       "      <th>id_solicitante</th>\n",
       "      <th>id_emprestimo</th>\n",
       "      <th>id_historico</th>\n",
       "      <th>idade_solicitante</th>\n",
       "      <th>salario_solicitante</th>\n",
       "      <th>situacao_propriedade</th>\n",
       "      <th>tempo_trabalhado</th>\n",
       "      <th>motivo</th>\n",
       "      <th>pontuacao</th>\n",
       "      <th>valor_solicitado</th>\n",
       "      <th>taxa_juros</th>\n",
       "      <th>percentual_renda</th>\n",
       "      <th>flag_inadimplencia</th>\n",
       "      <th>anos_primeira_solicitacao</th>\n",
       "      <th>flag_inadimplencia_hist</th>\n",
       "    </tr>\n",
       "  </thead>\n",
       "  <tbody>\n",
       "    <tr>\n",
       "      <th>0</th>\n",
       "      <td>02x9biGh-3gTR</td>\n",
       "      <td>k9lhNtMp-72zH</td>\n",
       "      <td>6EM4uoS2-maX2</td>\n",
       "      <td>23.0</td>\n",
       "      <td>68000.0</td>\n",
       "      <td>Alugada</td>\n",
       "      <td>1.0</td>\n",
       "      <td>Empreendimento</td>\n",
       "      <td>E</td>\n",
       "      <td>14400.0</td>\n",
       "      <td>17.99</td>\n",
       "      <td>0.21</td>\n",
       "      <td>1.0</td>\n",
       "      <td>2</td>\n",
       "      <td>0</td>\n",
       "    </tr>\n",
       "    <tr>\n",
       "      <th>1</th>\n",
       "      <td>05AU2u3q-jNEJ</td>\n",
       "      <td>2jgsNDsK-S45I</td>\n",
       "      <td>2nr9qAH9-x2vh</td>\n",
       "      <td>25.0</td>\n",
       "      <td>45000.0</td>\n",
       "      <td>Alugada</td>\n",
       "      <td>0.0</td>\n",
       "      <td>Empreendimento</td>\n",
       "      <td>C</td>\n",
       "      <td>10000.0</td>\n",
       "      <td>12.98</td>\n",
       "      <td>0.22</td>\n",
       "      <td>0.0</td>\n",
       "      <td>2</td>\n",
       "      <td>1</td>\n",
       "    </tr>\n",
       "    <tr>\n",
       "      <th>2</th>\n",
       "      <td>05o7RxO7-9LhQ</td>\n",
       "      <td>G7ebJZJb-6GDu</td>\n",
       "      <td>1zlTwsfS-0pan</td>\n",
       "      <td>23.0</td>\n",
       "      <td>65000.0</td>\n",
       "      <td>Alugada</td>\n",
       "      <td>2.0</td>\n",
       "      <td>Pagamento de débitos</td>\n",
       "      <td>B</td>\n",
       "      <td>3600.0</td>\n",
       "      <td>11.49</td>\n",
       "      <td>0.06</td>\n",
       "      <td>0.0</td>\n",
       "      <td>2</td>\n",
       "      <td>0</td>\n",
       "    </tr>\n",
       "    <tr>\n",
       "      <th>3</th>\n",
       "      <td>08rX5Qdc-ufb0</td>\n",
       "      <td>0sFrQD5Y-agj2</td>\n",
       "      <td>6rafzTfN-8awI</td>\n",
       "      <td>23.0</td>\n",
       "      <td>45312.0</td>\n",
       "      <td>Alugada</td>\n",
       "      <td>3.0</td>\n",
       "      <td>Educativo</td>\n",
       "      <td>A</td>\n",
       "      <td>13500.0</td>\n",
       "      <td>7.88</td>\n",
       "      <td>0.30</td>\n",
       "      <td>0.0</td>\n",
       "      <td>3</td>\n",
       "      <td>0</td>\n",
       "    </tr>\n",
       "    <tr>\n",
       "      <th>4</th>\n",
       "      <td>095kmLry-GPTX</td>\n",
       "      <td>eIoa76FA-d0FH</td>\n",
       "      <td>3ph8dE3U-L5I7</td>\n",
       "      <td>22.0</td>\n",
       "      <td>64000.0</td>\n",
       "      <td>Alugada</td>\n",
       "      <td>6.0</td>\n",
       "      <td>Educativo</td>\n",
       "      <td>A</td>\n",
       "      <td>7000.0</td>\n",
       "      <td>5.79</td>\n",
       "      <td>0.11</td>\n",
       "      <td>0.0</td>\n",
       "      <td>3</td>\n",
       "      <td>0</td>\n",
       "    </tr>\n",
       "  </tbody>\n",
       "</table>\n",
       "</div>"
      ],
      "text/plain": [
       "  id_solicitante  id_emprestimo   id_historico  idade_solicitante  \\\n",
       "0  02x9biGh-3gTR  k9lhNtMp-72zH  6EM4uoS2-maX2               23.0   \n",
       "1  05AU2u3q-jNEJ  2jgsNDsK-S45I  2nr9qAH9-x2vh               25.0   \n",
       "2  05o7RxO7-9LhQ  G7ebJZJb-6GDu  1zlTwsfS-0pan               23.0   \n",
       "3  08rX5Qdc-ufb0  0sFrQD5Y-agj2  6rafzTfN-8awI               23.0   \n",
       "4  095kmLry-GPTX  eIoa76FA-d0FH  3ph8dE3U-L5I7               22.0   \n",
       "\n",
       "   salario_solicitante situacao_propriedade  tempo_trabalhado  \\\n",
       "0              68000.0              Alugada               1.0   \n",
       "1              45000.0              Alugada               0.0   \n",
       "2              65000.0              Alugada               2.0   \n",
       "3              45312.0              Alugada               3.0   \n",
       "4              64000.0              Alugada               6.0   \n",
       "\n",
       "                 motivo pontuacao  valor_solicitado  taxa_juros  \\\n",
       "0        Empreendimento         E           14400.0       17.99   \n",
       "1        Empreendimento         C           10000.0       12.98   \n",
       "2  Pagamento de débitos         B            3600.0       11.49   \n",
       "3             Educativo         A           13500.0        7.88   \n",
       "4             Educativo         A            7000.0        5.79   \n",
       "\n",
       "   percentual_renda  flag_inadimplencia  anos_primeira_solicitacao  \\\n",
       "0              0.21                 1.0                          2   \n",
       "1              0.22                 0.0                          2   \n",
       "2              0.06                 0.0                          2   \n",
       "3              0.30                 0.0                          3   \n",
       "4              0.11                 0.0                          3   \n",
       "\n",
       "  flag_inadimplencia_hist  \n",
       "0                       0  \n",
       "1                       1  \n",
       "2                       0  \n",
       "3                       0  \n",
       "4                       0  "
      ]
     },
     "execution_count": 4,
     "metadata": {},
     "output_type": "execute_result"
    }
   ],
   "source": [
    "base_estudo = pd.read_sql(sql=\"select * from analise_risco.base_emprestimo_analise\", con = conn)\n",
    "conn.close()\n",
    "base_estudo.head()"
   ]
  },
  {
   "cell_type": "code",
   "execution_count": 5,
   "id": "c18497ce",
   "metadata": {},
   "outputs": [
    {
     "name": "stdout",
     "output_type": "stream",
     "text": [
      "A base de estudo possui 34485 registros e 15 colunas.\n"
     ]
    }
   ],
   "source": [
    "print('A base de estudo possui {} registros e {} colunas.'.format(base_estudo.shape[0] ,base_estudo.shape[1]))"
   ]
  },
  {
   "cell_type": "code",
   "execution_count": 6,
   "id": "1a09eef7",
   "metadata": {},
   "outputs": [
    {
     "name": "stdout",
     "output_type": "stream",
     "text": [
      "<class 'pandas.core.frame.DataFrame'>\n",
      "RangeIndex: 34485 entries, 0 to 34484\n",
      "Data columns (total 15 columns):\n",
      " #   Column                     Non-Null Count  Dtype  \n",
      "---  ------                     --------------  -----  \n",
      " 0   id_solicitante             34485 non-null  object \n",
      " 1   id_emprestimo              34485 non-null  object \n",
      " 2   id_historico               34485 non-null  object \n",
      " 3   idade_solicitante          34165 non-null  float64\n",
      " 4   salario_solicitante        34150 non-null  float64\n",
      " 5   situacao_propriedade       34485 non-null  object \n",
      " 6   tempo_trabalhado           33231 non-null  float64\n",
      " 7   motivo                     34485 non-null  object \n",
      " 8   pontuacao                  34485 non-null  object \n",
      " 9   valor_solicitado           34154 non-null  float64\n",
      " 10  taxa_juros                 30859 non-null  float64\n",
      " 11  percentual_renda           34170 non-null  float64\n",
      " 12  flag_inadimplencia         34142 non-null  float64\n",
      " 13  anos_primeira_solicitacao  34485 non-null  int64  \n",
      " 14  flag_inadimplencia_hist    34485 non-null  object \n",
      "dtypes: float64(7), int64(1), object(7)\n",
      "memory usage: 3.9+ MB\n"
     ]
    }
   ],
   "source": [
    "base_estudo.info()"
   ]
  },
  {
   "cell_type": "markdown",
   "id": "68f00d84",
   "metadata": {},
   "source": [
    "É possível identificar que temos variáveis com dados nulos"
   ]
  },
  {
   "cell_type": "code",
   "execution_count": 7,
   "id": "77c83ac9",
   "metadata": {
    "scrolled": true
   },
   "outputs": [
    {
     "data": {
      "text/plain": [
       "id_solicitante                  0\n",
       "id_emprestimo                   0\n",
       "id_historico                    0\n",
       "idade_solicitante             320\n",
       "salario_solicitante           335\n",
       "situacao_propriedade            0\n",
       "tempo_trabalhado             1254\n",
       "motivo                          0\n",
       "pontuacao                       0\n",
       "valor_solicitado              331\n",
       "taxa_juros                   3626\n",
       "percentual_renda              315\n",
       "flag_inadimplencia            343\n",
       "anos_primeira_solicitacao       0\n",
       "flag_inadimplencia_hist         0\n",
       "dtype: int64"
      ]
     },
     "execution_count": 7,
     "metadata": {},
     "output_type": "execute_result"
    }
   ],
   "source": [
    "base_estudo.isnull().sum()"
   ]
  },
  {
   "cell_type": "code",
   "execution_count": 8,
   "id": "bd595eb7",
   "metadata": {},
   "outputs": [
    {
     "data": {
      "text/plain": [
       "vw62YkOj-Hhds    1\n",
       "tzp27oIJ-giry    1\n",
       "5Q84Ydme-uXoa    1\n",
       "afuT3wND-rACG    1\n",
       "fO03z60C-1CSW    1\n",
       "                ..\n",
       "wSHOaz08-eKX6    1\n",
       "W9LMpy9O-SMRo    1\n",
       "bOdAaBfS-T23p    1\n",
       "6zLLFTDS-43PE    1\n",
       "y0K0YnkI-D4wz    1\n",
       "Name: id_solicitante, Length: 34485, dtype: int64"
      ]
     },
     "execution_count": 8,
     "metadata": {},
     "output_type": "execute_result"
    }
   ],
   "source": [
    "base_estudo.id_solicitante.value_counts()"
   ]
  },
  {
   "cell_type": "markdown",
   "id": "22398834",
   "metadata": {},
   "source": [
    "## Tratamento de dados nulos e análise de outliers"
   ]
  },
  {
   "cell_type": "code",
   "execution_count": 9,
   "id": "146b0fd0",
   "metadata": {},
   "outputs": [],
   "source": [
    "import seaborn as sns"
   ]
  },
  {
   "cell_type": "markdown",
   "id": "1d5bf97e",
   "metadata": {},
   "source": [
    "Para esse estudo, decido remover todos os registros que possuem algum dado nulo. Apesar de alguns campos serem possíveis calcular (como por exemplo `valor_solicitado`, `salario_solicitante`, `percentual_renda`) e outros inferir (`tempo_trabalho`). Após ter o modelo pronto, irei usar essa base como uma segunda validação"
   ]
  },
  {
   "cell_type": "code",
   "execution_count": 10,
   "id": "eb4e8fc0",
   "metadata": {},
   "outputs": [],
   "source": [
    "base_bad = base_estudo.drop(base_estudo.dropna().index)"
   ]
  },
  {
   "cell_type": "code",
   "execution_count": 11,
   "id": "d7aaa00d",
   "metadata": {},
   "outputs": [],
   "source": [
    "base_tratada = base_estudo.dropna().copy()"
   ]
  },
  {
   "cell_type": "code",
   "execution_count": 12,
   "id": "1c3e4ab9",
   "metadata": {},
   "outputs": [
    {
     "data": {
      "text/plain": [
       "Index(['id_solicitante', 'id_emprestimo', 'id_historico', 'idade_solicitante',\n",
       "       'salario_solicitante', 'situacao_propriedade', 'tempo_trabalhado',\n",
       "       'motivo', 'pontuacao', 'valor_solicitado', 'taxa_juros',\n",
       "       'percentual_renda', 'flag_inadimplencia', 'anos_primeira_solicitacao',\n",
       "       'flag_inadimplencia_hist'],\n",
       "      dtype='object')"
      ]
     },
     "execution_count": 12,
     "metadata": {},
     "output_type": "execute_result"
    }
   ],
   "source": [
    "base_tratada.columns"
   ]
  },
  {
   "cell_type": "markdown",
   "id": "299035d7",
   "metadata": {},
   "source": [
    "### Idade solicitante"
   ]
  },
  {
   "cell_type": "markdown",
   "id": "2451b0c3",
   "metadata": {},
   "source": [
    "De acordo com o dicionário de dados, este é o campo com a idade (em anos) do solicitante de empréstimo"
   ]
  },
  {
   "cell_type": "code",
   "execution_count": 13,
   "id": "5d42ad5d",
   "metadata": {},
   "outputs": [
    {
     "data": {
      "text/plain": [
       "count    28882.000000\n",
       "mean        27.728862\n",
       "std          6.309004\n",
       "min         20.000000\n",
       "25%         23.000000\n",
       "50%         26.000000\n",
       "75%         30.000000\n",
       "max        144.000000\n",
       "Name: idade_solicitante, dtype: float64"
      ]
     },
     "execution_count": 13,
     "metadata": {},
     "output_type": "execute_result"
    }
   ],
   "source": [
    "base_tratada.idade_solicitante.describe()"
   ]
  },
  {
   "cell_type": "code",
   "execution_count": 14,
   "id": "4dd2bdce",
   "metadata": {},
   "outputs": [
    {
     "data": {
      "text/plain": [
       "<AxesSubplot:ylabel='idade_solicitante'>"
      ]
     },
     "execution_count": 14,
     "metadata": {},
     "output_type": "execute_result"
    },
    {
     "data": {
      "image/png": "[encoded data removed]",
      "text/plain": [
       "<Figure size 432x288 with 1 Axes>"
      ]
     },
     "metadata": {
      "needs_background": "light"
     },
     "output_type": "display_data"
    }
   ],
   "source": [
    "sns.boxplot(data=base_tratada, y='idade_solicitante')"
   ]
  },
  {
   "cell_type": "markdown",
   "id": "e0448347",
   "metadata": {},
   "source": [
    "Decido então estabelecer o limite de idade em 80. Acima disso retirarei deste estudo."
   ]
  },
  {
   "cell_type": "markdown",
   "id": "44cc734c",
   "metadata": {},
   "source": [
    "Para as idades não informadas, em um primeiro momento eu penso em definir como 20 (que é o mínimo desta base) e acrescentar o tempo trabalhado e assim formar uma idade. Para não ter problema com o modelo, irei separar estes clientes e depois testá-lo no modelo utilizando esta premissa de idade. Farei o mesmo para as idades dispares."
   ]
  },
  {
   "cell_type": "code",
   "execution_count": 15,
   "id": "e3dc95e1",
   "metadata": {},
   "outputs": [
    {
     "data": {
      "text/plain": [
       "Int64Index([6641, 8469, 16410, 21550, 27123, 27766], dtype='int64')"
      ]
     },
     "execution_count": 15,
     "metadata": {},
     "output_type": "execute_result"
    }
   ],
   "source": [
    "base_tratada.query('idade_solicitante.isnull() or idade_solicitante >= 80', engine='python').index"
   ]
  },
  {
   "cell_type": "code",
   "execution_count": 16,
   "id": "5cd3f4bf",
   "metadata": {},
   "outputs": [],
   "source": [
    "base_teste_idade = base_tratada.query('idade_solicitante.isnull() or idade_solicitante >= 80', engine='python')\n",
    "base_tratada.drop(base_teste_idade.index, inplace=True)"
   ]
  },
  {
   "cell_type": "markdown",
   "id": "01641cfd",
   "metadata": {},
   "source": [
    "### Salário do solicitante"
   ]
  },
  {
   "cell_type": "code",
   "execution_count": 17,
   "id": "1b551ae7",
   "metadata": {},
   "outputs": [
    {
     "data": {
      "text/plain": [
       "count      28876.0\n",
       "mean       66381.3\n",
       "std        51434.7\n",
       "min         4000.0\n",
       "25%        39381.0\n",
       "50%        55755.0\n",
       "75%        80000.0\n",
       "max      2039784.0\n",
       "Name: salario_solicitante, dtype: object"
      ]
     },
     "execution_count": 17,
     "metadata": {},
     "output_type": "execute_result"
    }
   ],
   "source": [
    "base_tratada.salario_solicitante.describe().apply(\"{0:.1f}\".format)"
   ]
  },
  {
   "cell_type": "code",
   "execution_count": 18,
   "id": "61c1de55",
   "metadata": {},
   "outputs": [
    {
     "data": {
      "text/plain": [
       "<AxesSubplot:ylabel='salario_solicitante'>"
      ]
     },
     "execution_count": 18,
     "metadata": {},
     "output_type": "execute_result"
    },
    {
     "data": {
      "image/png": "[encoded data removed]",
      "text/plain": [
       "<Figure size 432x288 with 1 Axes>"
      ]
     },
     "metadata": {
      "needs_background": "light"
     },
     "output_type": "display_data"
    }
   ],
   "source": [
    "sns.boxplot(data=base_tratada, y='salario_solicitante')"
   ]
  },
  {
   "cell_type": "markdown",
   "id": "7ef44e57",
   "metadata": {},
   "source": [
    "A princípio não irei remover o outlier de salário, verei a relação com as outras variáveis para decidir. Já para os salários não informados, irei utilizar a coluna `percentual_renda` na base _badP_ que criei. De acordo com o dicionário de dados esta coluna representa a _renda percentual entre o valor total do empréstimo e o salário anual_"
   ]
  },
  {
   "cell_type": "markdown",
   "id": "4f4a3727",
   "metadata": {},
   "source": [
    "### Situação Propriedade"
   ]
  },
  {
   "cell_type": "markdown",
   "id": "eebbd857",
   "metadata": {},
   "source": [
    "De acordo com o dicionário de dados, é situação da propriedade que o solicitante possui. Como esta variável não possui dados nulos e já foi traduzida na origem, irei seguir para a próxima variável"
   ]
  },
  {
   "cell_type": "code",
   "execution_count": 19,
   "id": "ff27fe5a",
   "metadata": {},
   "outputs": [
    {
     "data": {
      "text/plain": [
       "Alugada       14620\n",
       "Hipotecada    11855\n",
       "Própria        2204\n",
       "Outros          197\n",
       "Name: situacao_propriedade, dtype: int64"
      ]
     },
     "execution_count": 19,
     "metadata": {},
     "output_type": "execute_result"
    }
   ],
   "source": [
    "base_tratada.situacao_propriedade.value_counts()"
   ]
  },
  {
   "cell_type": "markdown",
   "id": "d1e4189d",
   "metadata": {},
   "source": [
    "### Tempo Trabalhado"
   ]
  },
  {
   "cell_type": "markdown",
   "id": "0b829f68",
   "metadata": {},
   "source": [
    "O tempo de trabalho, em anos, que o solicitante possui"
   ]
  },
  {
   "cell_type": "code",
   "execution_count": 20,
   "id": "ea329796",
   "metadata": {},
   "outputs": [
    {
     "data": {
      "text/plain": [
       "count    28876.000000\n",
       "mean         4.787644\n",
       "std          4.154246\n",
       "min          0.000000\n",
       "25%          2.000000\n",
       "50%          4.000000\n",
       "75%          7.000000\n",
       "max        123.000000\n",
       "Name: tempo_trabalhado, dtype: float64"
      ]
     },
     "execution_count": 20,
     "metadata": {},
     "output_type": "execute_result"
    }
   ],
   "source": [
    "base_tratada.tempo_trabalhado.describe()"
   ]
  },
  {
   "cell_type": "code",
   "execution_count": 21,
   "id": "a731a691",
   "metadata": {},
   "outputs": [
    {
     "data": {
      "text/plain": [
       "<AxesSubplot:ylabel='tempo_trabalhado'>"
      ]
     },
     "execution_count": 21,
     "metadata": {},
     "output_type": "execute_result"
    },
    {
     "data": {
      "image/png": "[encoded data removed]",
      "text/plain": [
       "<Figure size 432x288 with 1 Axes>"
      ]
     },
     "metadata": {
      "needs_background": "light"
     },
     "output_type": "display_data"
    }
   ],
   "source": [
    "sns.boxplot(data=base_tratada, y='tempo_trabalhado')"
   ]
  },
  {
   "cell_type": "markdown",
   "id": "5870226f",
   "metadata": {},
   "source": [
    "Temos pelo menos duas situações que necessitam de correção:\n",
    "1. Tempo de trabalho maior ou igual ao tempo de vida\n",
    "1. Tempo de trabalho nulo"
   ]
  },
  {
   "cell_type": "code",
   "execution_count": 22,
   "id": "0928df74",
   "metadata": {},
   "outputs": [],
   "source": [
    "ix_tempo_invalido = base_tratada.query('tempo_trabalhado >= idade_solicitante', engine='python').index"
   ]
  },
  {
   "cell_type": "code",
   "execution_count": 23,
   "id": "6f40c696",
   "metadata": {},
   "outputs": [
    {
     "data": {
      "text/plain": [
       "<AxesSubplot:ylabel='tempo_trabalhado'>"
      ]
     },
     "execution_count": 23,
     "metadata": {},
     "output_type": "execute_result"
    },
    {
     "data": {
      "image/png": "[encoded data removed]",
      "text/plain": [
       "<Figure size 432x288 with 1 Axes>"
      ]
     },
     "metadata": {
      "needs_background": "light"
     },
     "output_type": "display_data"
    }
   ],
   "source": [
    "sns.boxplot(data=base_tratada.drop(index=ix_tempo_invalido), y='tempo_trabalhado')"
   ]
  },
  {
   "cell_type": "code",
   "execution_count": 24,
   "id": "02a245a5",
   "metadata": {},
   "outputs": [],
   "source": [
    "base_teste_tempo_trabalhado = base_tratada.loc[ix_tempo_invalido]\n",
    "base_tratada.drop(index=ix_tempo_invalido, inplace=True)"
   ]
  },
  {
   "cell_type": "markdown",
   "id": "648ff368",
   "metadata": {},
   "source": [
    "### Motivo"
   ]
  },
  {
   "cell_type": "markdown",
   "id": "ecb1a485",
   "metadata": {},
   "source": [
    "Motivo do empréstimo"
   ]
  },
  {
   "cell_type": "code",
   "execution_count": 25,
   "id": "883be43f",
   "metadata": {},
   "outputs": [
    {
     "data": {
      "text/plain": [
       "Educativo               5728\n",
       "Médico                  5318\n",
       "Empreendimento          5022\n",
       "Pessoal                 4899\n",
       "Pagamento de débitos    4595\n",
       "Melhora do lar          3210\n",
       "Outros                   102\n",
       "Name: motivo, dtype: int64"
      ]
     },
     "execution_count": 25,
     "metadata": {},
     "output_type": "execute_result"
    }
   ],
   "source": [
    "base_tratada.motivo.value_counts()"
   ]
  },
  {
   "cell_type": "markdown",
   "id": "aa715184",
   "metadata": {},
   "source": [
    "### Pontuação"
   ]
  },
  {
   "cell_type": "markdown",
   "id": "1e1c0453",
   "metadata": {},
   "source": [
    "É a pontuação de empréstimos"
   ]
  },
  {
   "cell_type": "code",
   "execution_count": 26,
   "id": "4de131f4",
   "metadata": {},
   "outputs": [
    {
     "data": {
      "text/plain": [
       "A    9451\n",
       "B    9188\n",
       "C    5732\n",
       "D    3257\n",
       "E     874\n",
       "F     211\n",
       "      102\n",
       "G      59\n",
       "Name: pontuacao, dtype: int64"
      ]
     },
     "execution_count": 26,
     "metadata": {},
     "output_type": "execute_result"
    }
   ],
   "source": [
    "base_tratada.pontuacao.value_counts()"
   ]
  },
  {
   "cell_type": "code",
   "execution_count": 27,
   "id": "63616960",
   "metadata": {},
   "outputs": [
    {
     "data": {
      "text/html": [
       "<div>\n",
       "<style scoped>\n",
       "    .dataframe tbody tr th:only-of-type {\n",
       "        vertical-align: middle;\n",
       "    }\n",
       "\n",
       "    .dataframe tbody tr th {\n",
       "        vertical-align: top;\n",
       "    }\n",
       "\n",
       "    .dataframe thead th {\n",
       "        text-align: right;\n",
       "    }\n",
       "</style>\n",
       "<table border=\"1\" class=\"dataframe\">\n",
       "  <thead>\n",
       "    <tr style=\"text-align: right;\">\n",
       "      <th></th>\n",
       "      <th>id_solicitante</th>\n",
       "      <th>id_emprestimo</th>\n",
       "      <th>id_historico</th>\n",
       "      <th>idade_solicitante</th>\n",
       "      <th>salario_solicitante</th>\n",
       "      <th>situacao_propriedade</th>\n",
       "      <th>tempo_trabalhado</th>\n",
       "      <th>motivo</th>\n",
       "      <th>pontuacao</th>\n",
       "      <th>valor_solicitado</th>\n",
       "      <th>taxa_juros</th>\n",
       "      <th>percentual_renda</th>\n",
       "      <th>flag_inadimplencia</th>\n",
       "      <th>anos_primeira_solicitacao</th>\n",
       "      <th>flag_inadimplencia_hist</th>\n",
       "    </tr>\n",
       "  </thead>\n",
       "  <tbody>\n",
       "    <tr>\n",
       "      <th>396</th>\n",
       "      <td>cJgwA3tE-AY4M</td>\n",
       "      <td>JLGJfrzw-MGWa</td>\n",
       "      <td>2HTnbMk1-nQeW</td>\n",
       "      <td>38.0</td>\n",
       "      <td>48000.0</td>\n",
       "      <td>Hipotecada</td>\n",
       "      <td>23.0</td>\n",
       "      <td>Médico</td>\n",
       "      <td></td>\n",
       "      <td>18250.0</td>\n",
       "      <td>11.11</td>\n",
       "      <td>0.19</td>\n",
       "      <td>0.0</td>\n",
       "      <td>4</td>\n",
       "      <td></td>\n",
       "    </tr>\n",
       "    <tr>\n",
       "      <th>852</th>\n",
       "      <td>KoyFBbks-gi45</td>\n",
       "      <td>7O6L2fZB-oDZe</td>\n",
       "      <td>5krLhjYZ-fpEb</td>\n",
       "      <td>33.0</td>\n",
       "      <td>21000.0</td>\n",
       "      <td>Alugada</td>\n",
       "      <td>0.0</td>\n",
       "      <td>Outros</td>\n",
       "      <td></td>\n",
       "      <td>12000.0</td>\n",
       "      <td>10.39</td>\n",
       "      <td>0.40</td>\n",
       "      <td>1.0</td>\n",
       "      <td>9</td>\n",
       "      <td>0</td>\n",
       "    </tr>\n",
       "    <tr>\n",
       "      <th>916</th>\n",
       "      <td>lyUgjRNf-Hjp9</td>\n",
       "      <td>AJBQgakp-AMbu</td>\n",
       "      <td>6Z79o9wP-uPWl</td>\n",
       "      <td>27.0</td>\n",
       "      <td>44000.0</td>\n",
       "      <td>Hipotecada</td>\n",
       "      <td>2.0</td>\n",
       "      <td>Médico</td>\n",
       "      <td></td>\n",
       "      <td>7500.0</td>\n",
       "      <td>10.59</td>\n",
       "      <td>0.14</td>\n",
       "      <td>0.0</td>\n",
       "      <td>3</td>\n",
       "      <td>0</td>\n",
       "    </tr>\n",
       "    <tr>\n",
       "      <th>1235</th>\n",
       "      <td>sQDATdCY-DIaN</td>\n",
       "      <td>D6Xyg742-6LfN</td>\n",
       "      <td>3gifNtWw-QoxQ</td>\n",
       "      <td>38.0</td>\n",
       "      <td>200000.0</td>\n",
       "      <td>Hipotecada</td>\n",
       "      <td>2.0</td>\n",
       "      <td>Outros</td>\n",
       "      <td></td>\n",
       "      <td>15000.0</td>\n",
       "      <td>10.37</td>\n",
       "      <td>0.24</td>\n",
       "      <td>0.0</td>\n",
       "      <td>6</td>\n",
       "      <td>0</td>\n",
       "    </tr>\n",
       "    <tr>\n",
       "      <th>1275</th>\n",
       "      <td>tgqDm8dC-dirP</td>\n",
       "      <td>9kbfXZw4-Zpu8</td>\n",
       "      <td>0Fn8LtfN-jgvy</td>\n",
       "      <td>38.0</td>\n",
       "      <td>22000.0</td>\n",
       "      <td>Outros</td>\n",
       "      <td>2.0</td>\n",
       "      <td>Pagamento de débitos</td>\n",
       "      <td></td>\n",
       "      <td>25000.0</td>\n",
       "      <td>13.43</td>\n",
       "      <td>0.17</td>\n",
       "      <td>0.0</td>\n",
       "      <td>17</td>\n",
       "      <td>0</td>\n",
       "    </tr>\n",
       "    <tr>\n",
       "      <th>...</th>\n",
       "      <td>...</td>\n",
       "      <td>...</td>\n",
       "      <td>...</td>\n",
       "      <td>...</td>\n",
       "      <td>...</td>\n",
       "      <td>...</td>\n",
       "      <td>...</td>\n",
       "      <td>...</td>\n",
       "      <td>...</td>\n",
       "      <td>...</td>\n",
       "      <td>...</td>\n",
       "      <td>...</td>\n",
       "      <td>...</td>\n",
       "      <td>...</td>\n",
       "      <td>...</td>\n",
       "    </tr>\n",
       "    <tr>\n",
       "      <th>31844</th>\n",
       "      <td>NvSSqfRK-KBNw</td>\n",
       "      <td>wCJSKXkH-dNff</td>\n",
       "      <td>eR6vMeph-tUPf</td>\n",
       "      <td>23.0</td>\n",
       "      <td>50000.0</td>\n",
       "      <td>Alugada</td>\n",
       "      <td>0.0</td>\n",
       "      <td>Empreendimento</td>\n",
       "      <td></td>\n",
       "      <td>5000.0</td>\n",
       "      <td>12.98</td>\n",
       "      <td>0.14</td>\n",
       "      <td>1.0</td>\n",
       "      <td>3</td>\n",
       "      <td></td>\n",
       "    </tr>\n",
       "    <tr>\n",
       "      <th>32442</th>\n",
       "      <td>xc3EN6rE-DrN9</td>\n",
       "      <td>NdrT5OeK-EOZx</td>\n",
       "      <td>fXj5Mlny-9O97</td>\n",
       "      <td>24.0</td>\n",
       "      <td>35000.0</td>\n",
       "      <td>Hipotecada</td>\n",
       "      <td>3.0</td>\n",
       "      <td>Outros</td>\n",
       "      <td></td>\n",
       "      <td>35000.0</td>\n",
       "      <td>13.99</td>\n",
       "      <td>0.21</td>\n",
       "      <td>0.0</td>\n",
       "      <td>14</td>\n",
       "      <td>1</td>\n",
       "    </tr>\n",
       "    <tr>\n",
       "      <th>33146</th>\n",
       "      <td>QGd0EgPs-qD56</td>\n",
       "      <td>0kaEza3S-6n0H</td>\n",
       "      <td>xnq6PMYC-sf0Y</td>\n",
       "      <td>24.0</td>\n",
       "      <td>56000.0</td>\n",
       "      <td>Alugada</td>\n",
       "      <td>0.0</td>\n",
       "      <td>Empreendimento</td>\n",
       "      <td></td>\n",
       "      <td>15000.0</td>\n",
       "      <td>15.33</td>\n",
       "      <td>0.39</td>\n",
       "      <td>0.0</td>\n",
       "      <td>3</td>\n",
       "      <td></td>\n",
       "    </tr>\n",
       "    <tr>\n",
       "      <th>33693</th>\n",
       "      <td>RCuhJUxp-BUvw</td>\n",
       "      <td>lC7xOxg4-S49I</td>\n",
       "      <td>8T6ZIyLK-jc0e</td>\n",
       "      <td>22.0</td>\n",
       "      <td>36000.0</td>\n",
       "      <td>Alugada</td>\n",
       "      <td>1.0</td>\n",
       "      <td>Educativo</td>\n",
       "      <td></td>\n",
       "      <td>15000.0</td>\n",
       "      <td>12.84</td>\n",
       "      <td>0.33</td>\n",
       "      <td>1.0</td>\n",
       "      <td>3</td>\n",
       "      <td></td>\n",
       "    </tr>\n",
       "    <tr>\n",
       "      <th>34107</th>\n",
       "      <td>JSFCemeE-uCbq</td>\n",
       "      <td>Hf0Qs291-y1hf</td>\n",
       "      <td>A08ngN4Z-yDaH</td>\n",
       "      <td>30.0</td>\n",
       "      <td>67092.0</td>\n",
       "      <td>Alugada</td>\n",
       "      <td>0.0</td>\n",
       "      <td>Pagamento de débitos</td>\n",
       "      <td></td>\n",
       "      <td>8000.0</td>\n",
       "      <td>7.49</td>\n",
       "      <td>0.15</td>\n",
       "      <td>0.0</td>\n",
       "      <td>4</td>\n",
       "      <td></td>\n",
       "    </tr>\n",
       "  </tbody>\n",
       "</table>\n",
       "<p>102 rows × 15 columns</p>\n",
       "</div>"
      ],
      "text/plain": [
       "      id_solicitante  id_emprestimo   id_historico  idade_solicitante  \\\n",
       "396    cJgwA3tE-AY4M  JLGJfrzw-MGWa  2HTnbMk1-nQeW               38.0   \n",
       "852    KoyFBbks-gi45  7O6L2fZB-oDZe  5krLhjYZ-fpEb               33.0   \n",
       "916    lyUgjRNf-Hjp9  AJBQgakp-AMbu  6Z79o9wP-uPWl               27.0   \n",
       "1235   sQDATdCY-DIaN  D6Xyg742-6LfN  3gifNtWw-QoxQ               38.0   \n",
       "1275   tgqDm8dC-dirP  9kbfXZw4-Zpu8  0Fn8LtfN-jgvy               38.0   \n",
       "...              ...            ...            ...                ...   \n",
       "31844  NvSSqfRK-KBNw  wCJSKXkH-dNff  eR6vMeph-tUPf               23.0   \n",
       "32442  xc3EN6rE-DrN9  NdrT5OeK-EOZx  fXj5Mlny-9O97               24.0   \n",
       "33146  QGd0EgPs-qD56  0kaEza3S-6n0H  xnq6PMYC-sf0Y               24.0   \n",
       "33693  RCuhJUxp-BUvw  lC7xOxg4-S49I  8T6ZIyLK-jc0e               22.0   \n",
       "34107  JSFCemeE-uCbq  Hf0Qs291-y1hf  A08ngN4Z-yDaH               30.0   \n",
       "\n",
       "       salario_solicitante situacao_propriedade  tempo_trabalhado  \\\n",
       "396                48000.0           Hipotecada              23.0   \n",
       "852                21000.0              Alugada               0.0   \n",
       "916                44000.0           Hipotecada               2.0   \n",
       "1235              200000.0           Hipotecada               2.0   \n",
       "1275               22000.0               Outros               2.0   \n",
       "...                    ...                  ...               ...   \n",
       "31844              50000.0              Alugada               0.0   \n",
       "32442              35000.0           Hipotecada               3.0   \n",
       "33146              56000.0              Alugada               0.0   \n",
       "33693              36000.0              Alugada               1.0   \n",
       "34107              67092.0              Alugada               0.0   \n",
       "\n",
       "                     motivo pontuacao  valor_solicitado  taxa_juros  \\\n",
       "396                  Médico                     18250.0       11.11   \n",
       "852                  Outros                     12000.0       10.39   \n",
       "916                  Médico                      7500.0       10.59   \n",
       "1235                 Outros                     15000.0       10.37   \n",
       "1275   Pagamento de débitos                     25000.0       13.43   \n",
       "...                     ...       ...               ...         ...   \n",
       "31844        Empreendimento                      5000.0       12.98   \n",
       "32442                Outros                     35000.0       13.99   \n",
       "33146        Empreendimento                     15000.0       15.33   \n",
       "33693             Educativo                     15000.0       12.84   \n",
       "34107  Pagamento de débitos                      8000.0        7.49   \n",
       "\n",
       "       percentual_renda  flag_inadimplencia  anos_primeira_solicitacao  \\\n",
       "396                0.19                 0.0                          4   \n",
       "852                0.40                 1.0                          9   \n",
       "916                0.14                 0.0                          3   \n",
       "1235               0.24                 0.0                          6   \n",
       "1275               0.17                 0.0                         17   \n",
       "...                 ...                 ...                        ...   \n",
       "31844              0.14                 1.0                          3   \n",
       "32442              0.21                 0.0                         14   \n",
       "33146              0.39                 0.0                          3   \n",
       "33693              0.33                 1.0                          3   \n",
       "34107              0.15                 0.0                          4   \n",
       "\n",
       "      flag_inadimplencia_hist  \n",
       "396                            \n",
       "852                         0  \n",
       "916                         0  \n",
       "1235                        0  \n",
       "1275                        0  \n",
       "...                       ...  \n",
       "31844                          \n",
       "32442                       1  \n",
       "33146                          \n",
       "33693                          \n",
       "34107                          \n",
       "\n",
       "[102 rows x 15 columns]"
      ]
     },
     "execution_count": 27,
     "metadata": {},
     "output_type": "execute_result"
    }
   ],
   "source": [
    "base_tratada.query('pontuacao == \"\"')"
   ]
  },
  {
   "cell_type": "markdown",
   "id": "4cbd5ad1",
   "metadata": {},
   "source": [
    "Como não sabemos ainda a forma de classificação desta pontuação, decido retirar os registros inválidos"
   ]
  },
  {
   "cell_type": "code",
   "execution_count": 28,
   "id": "962f3308",
   "metadata": {},
   "outputs": [],
   "source": [
    "ix_pontuacao_invalida = base_tratada.query('pontuacao == \"\"').index\n",
    "base_teste_pontuacao = base_tratada.loc[ix_pontuacao_invalida]\n",
    "base_tratada.drop(index=ix_pontuacao_invalida, inplace=True)"
   ]
  },
  {
   "cell_type": "markdown",
   "id": "32114c90",
   "metadata": {},
   "source": [
    "### Valor solicitado"
   ]
  },
  {
   "cell_type": "code",
   "execution_count": 29,
   "id": "ed5f6efb",
   "metadata": {},
   "outputs": [
    {
     "data": {
      "text/plain": [
       "count    28772.000000\n",
       "mean      9655.593111\n",
       "std       6327.386227\n",
       "min        500.000000\n",
       "25%       5000.000000\n",
       "50%       8000.000000\n",
       "75%      12500.000000\n",
       "max      35000.000000\n",
       "Name: valor_solicitado, dtype: float64"
      ]
     },
     "execution_count": 29,
     "metadata": {},
     "output_type": "execute_result"
    }
   ],
   "source": [
    "base_tratada.valor_solicitado.describe()"
   ]
  },
  {
   "cell_type": "markdown",
   "id": "cd15754f",
   "metadata": {},
   "source": [
    "### Taxa de juros"
   ]
  },
  {
   "cell_type": "code",
   "execution_count": 30,
   "id": "49e01e50",
   "metadata": {},
   "outputs": [
    {
     "data": {
      "text/plain": [
       "<AxesSubplot:ylabel='taxa_juros'>"
      ]
     },
     "execution_count": 30,
     "metadata": {},
     "output_type": "execute_result"
    },
    {
     "data": {
      "image/png": "[encoded data removed]",
      "text/plain": [
       "<Figure size 432x288 with 1 Axes>"
      ]
     },
     "metadata": {
      "needs_background": "light"
     },
     "output_type": "display_data"
    }
   ],
   "source": [
    "sns.boxplot(data=base_tratada, y='taxa_juros')"
   ]
  },
  {
   "cell_type": "markdown",
   "id": "2fdda0b8",
   "metadata": {},
   "source": [
    "### Percentual de renda"
   ]
  },
  {
   "cell_type": "code",
   "execution_count": 31,
   "id": "a98ae88b",
   "metadata": {},
   "outputs": [
    {
     "data": {
      "text/plain": [
       "<AxesSubplot:ylabel='percentual_renda'>"
      ]
     },
     "execution_count": 31,
     "metadata": {},
     "output_type": "execute_result"
    },
    {
     "data": {
      "image/png": "[encoded data removed]",
      "text/plain": [
       "<Figure size 432x288 with 1 Axes>"
      ]
     },
     "metadata": {
      "needs_background": "light"
     },
     "output_type": "display_data"
    }
   ],
   "source": [
    "sns.boxplot(data=base_tratada, y='percentual_renda')"
   ]
  },
  {
   "cell_type": "markdown",
   "id": "92663cfe",
   "metadata": {},
   "source": [
    "Empréstimos pesados..."
   ]
  },
  {
   "cell_type": "markdown",
   "id": "c50ab55c",
   "metadata": {},
   "source": [
    "### Flag inadimplencia"
   ]
  },
  {
   "cell_type": "code",
   "execution_count": 32,
   "id": "ac523e74",
   "metadata": {},
   "outputs": [
    {
     "data": {
      "text/plain": [
       "0.0    22526\n",
       "1.0     6246\n",
       "Name: flag_inadimplencia, dtype: int64"
      ]
     },
     "execution_count": 32,
     "metadata": {},
     "output_type": "execute_result"
    }
   ],
   "source": [
    "base_tratada.flag_inadimplencia.value_counts()"
   ]
  },
  {
   "cell_type": "code",
   "execution_count": 33,
   "id": "0df7b578",
   "metadata": {},
   "outputs": [
    {
     "data": {
      "text/plain": [
       "array([1., 0.])"
      ]
     },
     "execution_count": 33,
     "metadata": {},
     "output_type": "execute_result"
    }
   ],
   "source": [
    "base_tratada.flag_inadimplencia.unique()"
   ]
  },
  {
   "cell_type": "markdown",
   "id": "f65cc64d",
   "metadata": {},
   "source": [
    "### Anos primeira solicitação"
   ]
  },
  {
   "cell_type": "code",
   "execution_count": 34,
   "id": "8b2fbbcb",
   "metadata": {},
   "outputs": [
    {
     "data": {
      "text/plain": [
       "<AxesSubplot:ylabel='anos_primeira_solicitacao'>"
      ]
     },
     "execution_count": 34,
     "metadata": {},
     "output_type": "execute_result"
    },
    {
     "data": {
      "image/png": "[encoded data removed]",
      "text/plain": [
       "<Figure size 432x288 with 1 Axes>"
      ]
     },
     "metadata": {
      "needs_background": "light"
     },
     "output_type": "display_data"
    }
   ],
   "source": [
    "sns.boxplot(data=base_tratada, y='anos_primeira_solicitacao')"
   ]
  },
  {
   "cell_type": "code",
   "execution_count": 35,
   "id": "c8d77464",
   "metadata": {},
   "outputs": [
    {
     "data": {
      "text/html": [
       "<div>\n",
       "<style scoped>\n",
       "    .dataframe tbody tr th:only-of-type {\n",
       "        vertical-align: middle;\n",
       "    }\n",
       "\n",
       "    .dataframe tbody tr th {\n",
       "        vertical-align: top;\n",
       "    }\n",
       "\n",
       "    .dataframe thead th {\n",
       "        text-align: right;\n",
       "    }\n",
       "</style>\n",
       "<table border=\"1\" class=\"dataframe\">\n",
       "  <thead>\n",
       "    <tr style=\"text-align: right;\">\n",
       "      <th></th>\n",
       "      <th>id_solicitante</th>\n",
       "      <th>id_emprestimo</th>\n",
       "      <th>id_historico</th>\n",
       "      <th>idade_solicitante</th>\n",
       "      <th>salario_solicitante</th>\n",
       "      <th>situacao_propriedade</th>\n",
       "      <th>tempo_trabalhado</th>\n",
       "      <th>motivo</th>\n",
       "      <th>pontuacao</th>\n",
       "      <th>valor_solicitado</th>\n",
       "      <th>taxa_juros</th>\n",
       "      <th>percentual_renda</th>\n",
       "      <th>flag_inadimplencia</th>\n",
       "      <th>anos_primeira_solicitacao</th>\n",
       "      <th>flag_inadimplencia_hist</th>\n",
       "    </tr>\n",
       "  </thead>\n",
       "  <tbody>\n",
       "  </tbody>\n",
       "</table>\n",
       "</div>"
      ],
      "text/plain": [
       "Empty DataFrame\n",
       "Columns: [id_solicitante, id_emprestimo, id_historico, idade_solicitante, salario_solicitante, situacao_propriedade, tempo_trabalhado, motivo, pontuacao, valor_solicitado, taxa_juros, percentual_renda, flag_inadimplencia, anos_primeira_solicitacao, flag_inadimplencia_hist]\n",
       "Index: []"
      ]
     },
     "execution_count": 35,
     "metadata": {},
     "output_type": "execute_result"
    }
   ],
   "source": [
    "base_tratada.query(\"anos_primeira_solicitacao >= idade_solicitante\")"
   ]
  },
  {
   "cell_type": "markdown",
   "id": "7131fc99",
   "metadata": {},
   "source": [
    "### Flag inadimplencia histórica"
   ]
  },
  {
   "cell_type": "code",
   "execution_count": 36,
   "id": "d6276d0b",
   "metadata": {},
   "outputs": [
    {
     "data": {
      "text/plain": [
       "0    23576\n",
       "1     5117\n",
       "        79\n",
       "Name: flag_inadimplencia_hist, dtype: int64"
      ]
     },
     "execution_count": 36,
     "metadata": {},
     "output_type": "execute_result"
    }
   ],
   "source": [
    "base_tratada.flag_inadimplencia_hist.value_counts()"
   ]
  },
  {
   "cell_type": "markdown",
   "id": "0750a808",
   "metadata": {},
   "source": [
    "Vou replicar essas informações"
   ]
  },
  {
   "cell_type": "code",
   "execution_count": 37,
   "id": "bee1c094",
   "metadata": {},
   "outputs": [
    {
     "data": {
      "text/html": [
       "<div>\n",
       "<style scoped>\n",
       "    .dataframe tbody tr th:only-of-type {\n",
       "        vertical-align: middle;\n",
       "    }\n",
       "\n",
       "    .dataframe tbody tr th {\n",
       "        vertical-align: top;\n",
       "    }\n",
       "\n",
       "    .dataframe thead th {\n",
       "        text-align: right;\n",
       "    }\n",
       "</style>\n",
       "<table border=\"1\" class=\"dataframe\">\n",
       "  <thead>\n",
       "    <tr style=\"text-align: right;\">\n",
       "      <th></th>\n",
       "      <th>flag_inadimplencia</th>\n",
       "      <th>flag_inadimplencia_hist</th>\n",
       "    </tr>\n",
       "  </thead>\n",
       "  <tbody>\n",
       "    <tr>\n",
       "      <th>398</th>\n",
       "      <td>0.0</td>\n",
       "      <td></td>\n",
       "    </tr>\n",
       "    <tr>\n",
       "      <th>501</th>\n",
       "      <td>1.0</td>\n",
       "      <td></td>\n",
       "    </tr>\n",
       "    <tr>\n",
       "      <th>1260</th>\n",
       "      <td>1.0</td>\n",
       "      <td></td>\n",
       "    </tr>\n",
       "    <tr>\n",
       "      <th>1436</th>\n",
       "      <td>0.0</td>\n",
       "      <td></td>\n",
       "    </tr>\n",
       "    <tr>\n",
       "      <th>2832</th>\n",
       "      <td>0.0</td>\n",
       "      <td></td>\n",
       "    </tr>\n",
       "    <tr>\n",
       "      <th>...</th>\n",
       "      <td>...</td>\n",
       "      <td>...</td>\n",
       "    </tr>\n",
       "    <tr>\n",
       "      <th>30301</th>\n",
       "      <td>0.0</td>\n",
       "      <td></td>\n",
       "    </tr>\n",
       "    <tr>\n",
       "      <th>31448</th>\n",
       "      <td>1.0</td>\n",
       "      <td></td>\n",
       "    </tr>\n",
       "    <tr>\n",
       "      <th>31607</th>\n",
       "      <td>0.0</td>\n",
       "      <td></td>\n",
       "    </tr>\n",
       "    <tr>\n",
       "      <th>33548</th>\n",
       "      <td>1.0</td>\n",
       "      <td></td>\n",
       "    </tr>\n",
       "    <tr>\n",
       "      <th>33960</th>\n",
       "      <td>0.0</td>\n",
       "      <td></td>\n",
       "    </tr>\n",
       "  </tbody>\n",
       "</table>\n",
       "<p>79 rows × 2 columns</p>\n",
       "</div>"
      ],
      "text/plain": [
       "       flag_inadimplencia flag_inadimplencia_hist\n",
       "398                   0.0                        \n",
       "501                   1.0                        \n",
       "1260                  1.0                        \n",
       "1436                  0.0                        \n",
       "2832                  0.0                        \n",
       "...                   ...                     ...\n",
       "30301                 0.0                        \n",
       "31448                 1.0                        \n",
       "31607                 0.0                        \n",
       "33548                 1.0                        \n",
       "33960                 0.0                        \n",
       "\n",
       "[79 rows x 2 columns]"
      ]
     },
     "execution_count": 37,
     "metadata": {},
     "output_type": "execute_result"
    }
   ],
   "source": [
    "base_tratada.query('flag_inadimplencia_hist == \"\"')[['flag_inadimplencia', 'flag_inadimplencia_hist']]"
   ]
  },
  {
   "cell_type": "code",
   "execution_count": 38,
   "id": "c5b04863",
   "metadata": {},
   "outputs": [],
   "source": [
    "ix_flag_inad_hist_nula = base_tratada.query('flag_inadimplencia_hist == \"\"').index"
   ]
  },
  {
   "cell_type": "code",
   "execution_count": 39,
   "id": "02338ec3",
   "metadata": {},
   "outputs": [],
   "source": [
    "base_tratada.loc[ix_flag_inad_hist_nula, 'flag_inadimplencia_hist'] = base_tratada.loc[ix_flag_inad_hist_nula, 'flag_inadimplencia'].astype('int64')"
   ]
  },
  {
   "cell_type": "code",
   "execution_count": 40,
   "id": "5533ee2f",
   "metadata": {},
   "outputs": [],
   "source": [
    "base_tratada.flag_inadimplencia_hist = base_tratada.flag_inadimplencia_hist.astype('int64')"
   ]
  },
  {
   "cell_type": "code",
   "execution_count": 41,
   "id": "465d0dcf",
   "metadata": {},
   "outputs": [
    {
     "data": {
      "text/plain": [
       "0    23632\n",
       "1     5140\n",
       "Name: flag_inadimplencia_hist, dtype: int64"
      ]
     },
     "execution_count": 41,
     "metadata": {},
     "output_type": "execute_result"
    }
   ],
   "source": [
    "base_tratada.flag_inadimplencia_hist.value_counts()"
   ]
  },
  {
   "cell_type": "markdown",
   "id": "ea3b3eeb",
   "metadata": {},
   "source": [
    "## Visualização dos dados"
   ]
  },
  {
   "cell_type": "code",
   "execution_count": null,
   "id": "60fadea9",
   "metadata": {},
   "outputs": [],
   "source": []
  }
 ],
 "metadata": {
  "kernelspec": {
   "display_name": "Python 3",
   "language": "python",
   "name": "python3"
  },
  "language_info": {
   "codemirror_mode": {
    "name": "ipython",
    "version": 3
   },
   "file_extension": ".py",
   "mimetype": "text/x-python",
   "name": "python",
   "nbconvert_exporter": "python",
   "pygments_lexer": "ipython3",
   "version": "3.8.8"
  }
 },
 "nbformat": 4,
 "nbformat_minor": 5
}
